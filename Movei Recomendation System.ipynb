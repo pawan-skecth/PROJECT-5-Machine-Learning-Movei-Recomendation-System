{
  "nbformat": 4,
  "nbformat_minor": 0,
  "metadata": {
    "colab": {
      "provenance": []
    },
    "kernelspec": {
      "name": "python3",
      "display_name": "Python 3"
    },
    "language_info": {
      "name": "python"
    }
  },
  "cells": [
    {
      "cell_type": "code",
      "execution_count": null,
      "metadata": {
        "id": "zWgGoyNTUN__"
      },
      "outputs": [],
      "source": [
        "import pandas as pd\n",
        "import numpy as np"
      ]
    },
    {
      "cell_type": "code",
      "source": [
        "\n",
        "from google.colab import files\n",
        "uploaded = files.upload()"
      ],
      "metadata": {
        "colab": {
          "base_uri": "https://localhost:8080/",
          "height": 109
        },
        "id": "dH83Goz7dMD6",
        "outputId": "837c89b9-c407-47bb-c6a8-4bd65da2461a"
      },
      "execution_count": null,
      "outputs": [
        {
          "output_type": "display_data",
          "data": {
            "text/plain": [
              "<IPython.core.display.HTML object>"
            ],
            "text/html": [
              "\n",
              "     <input type=\"file\" id=\"files-45eacf5c-be2b-4d25-aa58-8075f88e8bb5\" name=\"files[]\" multiple disabled\n",
              "        style=\"border:none\" />\n",
              "     <output id=\"result-45eacf5c-be2b-4d25-aa58-8075f88e8bb5\">\n",
              "      Upload widget is only available when the cell has been executed in the\n",
              "      current browser session. Please rerun this cell to enable.\n",
              "      </output>\n",
              "      <script>// Copyright 2017 Google LLC\n",
              "//\n",
              "// Licensed under the Apache License, Version 2.0 (the \"License\");\n",
              "// you may not use this file except in compliance with the License.\n",
              "// You may obtain a copy of the License at\n",
              "//\n",
              "//      http://www.apache.org/licenses/LICENSE-2.0\n",
              "//\n",
              "// Unless required by applicable law or agreed to in writing, software\n",
              "// distributed under the License is distributed on an \"AS IS\" BASIS,\n",
              "// WITHOUT WARRANTIES OR CONDITIONS OF ANY KIND, either express or implied.\n",
              "// See the License for the specific language governing permissions and\n",
              "// limitations under the License.\n",
              "\n",
              "/**\n",
              " * @fileoverview Helpers for google.colab Python module.\n",
              " */\n",
              "(function(scope) {\n",
              "function span(text, styleAttributes = {}) {\n",
              "  const element = document.createElement('span');\n",
              "  element.textContent = text;\n",
              "  for (const key of Object.keys(styleAttributes)) {\n",
              "    element.style[key] = styleAttributes[key];\n",
              "  }\n",
              "  return element;\n",
              "}\n",
              "\n",
              "// Max number of bytes which will be uploaded at a time.\n",
              "const MAX_PAYLOAD_SIZE = 100 * 1024;\n",
              "\n",
              "function _uploadFiles(inputId, outputId) {\n",
              "  const steps = uploadFilesStep(inputId, outputId);\n",
              "  const outputElement = document.getElementById(outputId);\n",
              "  // Cache steps on the outputElement to make it available for the next call\n",
              "  // to uploadFilesContinue from Python.\n",
              "  outputElement.steps = steps;\n",
              "\n",
              "  return _uploadFilesContinue(outputId);\n",
              "}\n",
              "\n",
              "// This is roughly an async generator (not supported in the browser yet),\n",
              "// where there are multiple asynchronous steps and the Python side is going\n",
              "// to poll for completion of each step.\n",
              "// This uses a Promise to block the python side on completion of each step,\n",
              "// then passes the result of the previous step as the input to the next step.\n",
              "function _uploadFilesContinue(outputId) {\n",
              "  const outputElement = document.getElementById(outputId);\n",
              "  const steps = outputElement.steps;\n",
              "\n",
              "  const next = steps.next(outputElement.lastPromiseValue);\n",
              "  return Promise.resolve(next.value.promise).then((value) => {\n",
              "    // Cache the last promise value to make it available to the next\n",
              "    // step of the generator.\n",
              "    outputElement.lastPromiseValue = value;\n",
              "    return next.value.response;\n",
              "  });\n",
              "}\n",
              "\n",
              "/**\n",
              " * Generator function which is called between each async step of the upload\n",
              " * process.\n",
              " * @param {string} inputId Element ID of the input file picker element.\n",
              " * @param {string} outputId Element ID of the output display.\n",
              " * @return {!Iterable<!Object>} Iterable of next steps.\n",
              " */\n",
              "function* uploadFilesStep(inputId, outputId) {\n",
              "  const inputElement = document.getElementById(inputId);\n",
              "  inputElement.disabled = false;\n",
              "\n",
              "  const outputElement = document.getElementById(outputId);\n",
              "  outputElement.innerHTML = '';\n",
              "\n",
              "  const pickedPromise = new Promise((resolve) => {\n",
              "    inputElement.addEventListener('change', (e) => {\n",
              "      resolve(e.target.files);\n",
              "    });\n",
              "  });\n",
              "\n",
              "  const cancel = document.createElement('button');\n",
              "  inputElement.parentElement.appendChild(cancel);\n",
              "  cancel.textContent = 'Cancel upload';\n",
              "  const cancelPromise = new Promise((resolve) => {\n",
              "    cancel.onclick = () => {\n",
              "      resolve(null);\n",
              "    };\n",
              "  });\n",
              "\n",
              "  // Wait for the user to pick the files.\n",
              "  const files = yield {\n",
              "    promise: Promise.race([pickedPromise, cancelPromise]),\n",
              "    response: {\n",
              "      action: 'starting',\n",
              "    }\n",
              "  };\n",
              "\n",
              "  cancel.remove();\n",
              "\n",
              "  // Disable the input element since further picks are not allowed.\n",
              "  inputElement.disabled = true;\n",
              "\n",
              "  if (!files) {\n",
              "    return {\n",
              "      response: {\n",
              "        action: 'complete',\n",
              "      }\n",
              "    };\n",
              "  }\n",
              "\n",
              "  for (const file of files) {\n",
              "    const li = document.createElement('li');\n",
              "    li.append(span(file.name, {fontWeight: 'bold'}));\n",
              "    li.append(span(\n",
              "        `(${file.type || 'n/a'}) - ${file.size} bytes, ` +\n",
              "        `last modified: ${\n",
              "            file.lastModifiedDate ? file.lastModifiedDate.toLocaleDateString() :\n",
              "                                    'n/a'} - `));\n",
              "    const percent = span('0% done');\n",
              "    li.appendChild(percent);\n",
              "\n",
              "    outputElement.appendChild(li);\n",
              "\n",
              "    const fileDataPromise = new Promise((resolve) => {\n",
              "      const reader = new FileReader();\n",
              "      reader.onload = (e) => {\n",
              "        resolve(e.target.result);\n",
              "      };\n",
              "      reader.readAsArrayBuffer(file);\n",
              "    });\n",
              "    // Wait for the data to be ready.\n",
              "    let fileData = yield {\n",
              "      promise: fileDataPromise,\n",
              "      response: {\n",
              "        action: 'continue',\n",
              "      }\n",
              "    };\n",
              "\n",
              "    // Use a chunked sending to avoid message size limits. See b/62115660.\n",
              "    let position = 0;\n",
              "    do {\n",
              "      const length = Math.min(fileData.byteLength - position, MAX_PAYLOAD_SIZE);\n",
              "      const chunk = new Uint8Array(fileData, position, length);\n",
              "      position += length;\n",
              "\n",
              "      const base64 = btoa(String.fromCharCode.apply(null, chunk));\n",
              "      yield {\n",
              "        response: {\n",
              "          action: 'append',\n",
              "          file: file.name,\n",
              "          data: base64,\n",
              "        },\n",
              "      };\n",
              "\n",
              "      let percentDone = fileData.byteLength === 0 ?\n",
              "          100 :\n",
              "          Math.round((position / fileData.byteLength) * 100);\n",
              "      percent.textContent = `${percentDone}% done`;\n",
              "\n",
              "    } while (position < fileData.byteLength);\n",
              "  }\n",
              "\n",
              "  // All done.\n",
              "  yield {\n",
              "    response: {\n",
              "      action: 'complete',\n",
              "    }\n",
              "  };\n",
              "}\n",
              "\n",
              "scope.google = scope.google || {};\n",
              "scope.google.colab = scope.google.colab || {};\n",
              "scope.google.colab._files = {\n",
              "  _uploadFiles,\n",
              "  _uploadFilesContinue,\n",
              "};\n",
              "})(self);\n",
              "</script> "
            ]
          },
          "metadata": {}
        },
        {
          "output_type": "stream",
          "name": "stdout",
          "text": [
            "Saving tmdb_5000_credits.csv to tmdb_5000_credits.csv\n",
            "Saving tmdb_5000_movies.csv to tmdb_5000_movies.csv\n"
          ]
        }
      ]
    },
    {
      "cell_type": "code",
      "source": [],
      "metadata": {
        "id": "KLN35AJ3alGO"
      },
      "execution_count": null,
      "outputs": []
    },
    {
      "cell_type": "code",
      "source": [
        "m_df = pd.read_csv('tmdb_5000_movies.csv')\n",
        "c_df = pd.read_csv('tmdb_5000_credits.csv')"
      ],
      "metadata": {
        "id": "8siFty_vdH62"
      },
      "execution_count": null,
      "outputs": []
    },
    {
      "cell_type": "code",
      "source": [
        "m_df= m_df.merge(c_df,on='title')"
      ],
      "metadata": {
        "id": "XT5ssjh_eIad"
      },
      "execution_count": null,
      "outputs": []
    },
    {
      "cell_type": "code",
      "source": [
        "m_df= m_df[['movie_id','title','overview','genres','keywords','cast','crew']]"
      ],
      "metadata": {
        "id": "_DNViHfSOgep"
      },
      "execution_count": null,
      "outputs": []
    },
    {
      "cell_type": "code",
      "source": [
        "m_df.isnull().sum()"
      ],
      "metadata": {
        "colab": {
          "base_uri": "https://localhost:8080/",
          "height": 303
        },
        "id": "bIAGSfUDWtOL",
        "outputId": "3b456310-be7f-468f-f0d6-32af03c7735c"
      },
      "execution_count": null,
      "outputs": [
        {
          "output_type": "execute_result",
          "data": {
            "text/plain": [
              "movie_id    0\n",
              "title       0\n",
              "overview    3\n",
              "genres      0\n",
              "keywords    0\n",
              "cast        0\n",
              "crew        0\n",
              "dtype: int64"
            ],
            "text/html": [
              "<div>\n",
              "<style scoped>\n",
              "    .dataframe tbody tr th:only-of-type {\n",
              "        vertical-align: middle;\n",
              "    }\n",
              "\n",
              "    .dataframe tbody tr th {\n",
              "        vertical-align: top;\n",
              "    }\n",
              "\n",
              "    .dataframe thead th {\n",
              "        text-align: right;\n",
              "    }\n",
              "</style>\n",
              "<table border=\"1\" class=\"dataframe\">\n",
              "  <thead>\n",
              "    <tr style=\"text-align: right;\">\n",
              "      <th></th>\n",
              "      <th>0</th>\n",
              "    </tr>\n",
              "  </thead>\n",
              "  <tbody>\n",
              "    <tr>\n",
              "      <th>movie_id</th>\n",
              "      <td>0</td>\n",
              "    </tr>\n",
              "    <tr>\n",
              "      <th>title</th>\n",
              "      <td>0</td>\n",
              "    </tr>\n",
              "    <tr>\n",
              "      <th>overview</th>\n",
              "      <td>3</td>\n",
              "    </tr>\n",
              "    <tr>\n",
              "      <th>genres</th>\n",
              "      <td>0</td>\n",
              "    </tr>\n",
              "    <tr>\n",
              "      <th>keywords</th>\n",
              "      <td>0</td>\n",
              "    </tr>\n",
              "    <tr>\n",
              "      <th>cast</th>\n",
              "      <td>0</td>\n",
              "    </tr>\n",
              "    <tr>\n",
              "      <th>crew</th>\n",
              "      <td>0</td>\n",
              "    </tr>\n",
              "  </tbody>\n",
              "</table>\n",
              "</div><br><label><b>dtype:</b> int64</label>"
            ]
          },
          "metadata": {},
          "execution_count": 6
        }
      ]
    },
    {
      "cell_type": "code",
      "source": [
        "m_df.dropna(inplace=True)"
      ],
      "metadata": {
        "id": "LSnuQdrVabDy"
      },
      "execution_count": null,
      "outputs": []
    },
    {
      "cell_type": "code",
      "source": [
        "m_df.duplicated().sum()"
      ],
      "metadata": {
        "colab": {
          "base_uri": "https://localhost:8080/"
        },
        "id": "F_pBLDYBae-c",
        "outputId": "7de1a67e-45b7-4843-e493-14e178edbc49"
      },
      "execution_count": null,
      "outputs": [
        {
          "output_type": "execute_result",
          "data": {
            "text/plain": [
              "0"
            ]
          },
          "metadata": {},
          "execution_count": 8
        }
      ]
    },
    {
      "cell_type": "code",
      "source": [
        "m_df.iloc[0].genres"
      ],
      "metadata": {
        "colab": {
          "base_uri": "https://localhost:8080/",
          "height": 54
        },
        "id": "fxP_-q7TA9C0",
        "outputId": "311e3f11-0b7d-43ed-bd3b-bd7e6710b06f"
      },
      "execution_count": null,
      "outputs": [
        {
          "output_type": "execute_result",
          "data": {
            "text/plain": [
              "'[{\"id\": 28, \"name\": \"Action\"}, {\"id\": 12, \"name\": \"Adventure\"}, {\"id\": 14, \"name\": \"Fantasy\"}, {\"id\": 878, \"name\": \"Science Fiction\"}]'"
            ],
            "application/vnd.google.colaboratory.intrinsic+json": {
              "type": "string"
            }
          },
          "metadata": {},
          "execution_count": 9
        }
      ]
    },
    {
      "cell_type": "code",
      "source": [
        "import ast\n",
        "ast.literal_eval"
      ],
      "metadata": {
        "colab": {
          "base_uri": "https://localhost:8080/",
          "height": 186
        },
        "id": "ChKWXo5VeKyM",
        "outputId": "76881e3f-3f55-4be4-cb33-e1c75aefd3aa"
      },
      "execution_count": null,
      "outputs": [
        {
          "output_type": "execute_result",
          "data": {
            "text/plain": [
              "<function ast.literal_eval(node_or_string)>"
            ],
            "text/html": [
              "<div style=\"max-width:800px; border: 1px solid var(--colab-border-color);\"><style>\n",
              "      pre.function-repr-contents {\n",
              "        overflow-x: auto;\n",
              "        padding: 8px 12px;\n",
              "        max-height: 500px;\n",
              "      }\n",
              "\n",
              "      pre.function-repr-contents.function-repr-contents-collapsed {\n",
              "        cursor: pointer;\n",
              "        max-height: 100px;\n",
              "      }\n",
              "    </style>\n",
              "    <pre style=\"white-space: initial; background:\n",
              "         var(--colab-secondary-surface-color); padding: 8px 12px;\n",
              "         border-bottom: 1px solid var(--colab-border-color);\"><b>ast.literal_eval</b><br/>def literal_eval(node_or_string)</pre><pre class=\"function-repr-contents function-repr-contents-collapsed\" style=\"\"><a class=\"filepath\" style=\"display:none\" href=\"#\">/usr/lib/python3.11/ast.py</a>Evaluate an expression node or a string containing only a Python\n",
              "expression.  The string or node provided may only consist of the following\n",
              "Python literal structures: strings, bytes, numbers, tuples, lists, dicts,\n",
              "sets, booleans, and None.\n",
              "\n",
              "Caution: A complex expression can overflow the C stack and cause a crash.</pre>\n",
              "      <script>\n",
              "      if (google.colab.kernel.accessAllowed && google.colab.files && google.colab.files.view) {\n",
              "        for (const element of document.querySelectorAll('.filepath')) {\n",
              "          element.style.display = 'block'\n",
              "          element.onclick = (event) => {\n",
              "            event.preventDefault();\n",
              "            event.stopPropagation();\n",
              "            google.colab.files.view(element.textContent, 54);\n",
              "          };\n",
              "        }\n",
              "      }\n",
              "      for (const element of document.querySelectorAll('.function-repr-contents')) {\n",
              "        element.onclick = (event) => {\n",
              "          event.preventDefault();\n",
              "          event.stopPropagation();\n",
              "          element.classList.toggle('function-repr-contents-collapsed');\n",
              "        };\n",
              "      }\n",
              "      </script>\n",
              "      </div>"
            ]
          },
          "metadata": {},
          "execution_count": 10
        }
      ]
    },
    {
      "cell_type": "code",
      "source": [
        "def convert(obj):\n",
        "  L=[]\n",
        "  for i in ast.literal_eval(obj):\n",
        "    L.append(i['name'])\n",
        "  return L"
      ],
      "metadata": {
        "id": "YGzYqjeeeJAS"
      },
      "execution_count": null,
      "outputs": []
    },
    {
      "cell_type": "code",
      "source": [
        "convert('[{\"id\": 28, \"name\": \"Action\"}, {\"id\": 12, \"name\": \"Adventure\"}, {\"id\": 14, \"name\": \"Fantasy\"}, {\"id\": 878, \"name\": \"Science Fiction\"}]')"
      ],
      "metadata": {
        "colab": {
          "base_uri": "https://localhost:8080/"
        },
        "id": "-HW-Hn65CCGn",
        "outputId": "531e5ad9-0f7e-47dd-8616-54597569e9a6"
      },
      "execution_count": null,
      "outputs": [
        {
          "output_type": "execute_result",
          "data": {
            "text/plain": [
              "['Action', 'Adventure', 'Fantasy', 'Science Fiction']"
            ]
          },
          "metadata": {},
          "execution_count": 12
        }
      ]
    },
    {
      "cell_type": "code",
      "source": [
        "m_df['genres'] = m_df['genres'].apply(convert)"
      ],
      "metadata": {
        "id": "EmvaNQ-5ccWH"
      },
      "execution_count": null,
      "outputs": []
    },
    {
      "cell_type": "code",
      "source": [
        "m_df['keywords'] = m_df['keywords'].apply(convert)"
      ],
      "metadata": {
        "id": "NBoYsHYOBsVU"
      },
      "execution_count": null,
      "outputs": []
    },
    {
      "cell_type": "code",
      "source": [
        "def convert3(obj):\n",
        "  L=[]\n",
        "  counter = 0\n",
        "  for i in ast.literal_eval(obj):\n",
        "    if counter != 3:\n",
        "      L.append(i['name'])\n",
        "      counter+=1\n",
        "    else:\n",
        "      break\n",
        "  return L"
      ],
      "metadata": {
        "id": "lNO8TtkwEFX0"
      },
      "execution_count": null,
      "outputs": []
    },
    {
      "cell_type": "code",
      "source": [
        "m_df['cast'] =m_df['cast'].apply(convert3)"
      ],
      "metadata": {
        "id": "SvqZKM9KFynm"
      },
      "execution_count": null,
      "outputs": []
    },
    {
      "cell_type": "code",
      "source": [
        "m_df.head()"
      ],
      "metadata": {
        "colab": {
          "base_uri": "https://localhost:8080/",
          "height": 729
        },
        "id": "HEFkcUfoGPmh",
        "outputId": "0b6021fe-34d9-4611-b5eb-b9f89dd5dec5"
      },
      "execution_count": null,
      "outputs": [
        {
          "output_type": "execute_result",
          "data": {
            "text/plain": [
              "   movie_id                                     title  \\\n",
              "0     19995                                    Avatar   \n",
              "1       285  Pirates of the Caribbean: At World's End   \n",
              "2    206647                                   Spectre   \n",
              "3     49026                     The Dark Knight Rises   \n",
              "4     49529                               John Carter   \n",
              "\n",
              "                                            overview  \\\n",
              "0  In the 22nd century, a paraplegic Marine is di...   \n",
              "1  Captain Barbossa, long believed to be dead, ha...   \n",
              "2  A cryptic message from Bond’s past sends him o...   \n",
              "3  Following the death of District Attorney Harve...   \n",
              "4  John Carter is a war-weary, former military ca...   \n",
              "\n",
              "                                          genres  \\\n",
              "0  [Action, Adventure, Fantasy, Science Fiction]   \n",
              "1                   [Adventure, Fantasy, Action]   \n",
              "2                     [Action, Adventure, Crime]   \n",
              "3               [Action, Crime, Drama, Thriller]   \n",
              "4           [Action, Adventure, Science Fiction]   \n",
              "\n",
              "                                            keywords  \\\n",
              "0  [culture clash, future, space war, space colon...   \n",
              "1  [ocean, drug abuse, exotic island, east india ...   \n",
              "2  [spy, based on novel, secret agent, sequel, mi...   \n",
              "3  [dc comics, crime fighter, terrorist, secret i...   \n",
              "4  [based on novel, mars, medallion, space travel...   \n",
              "\n",
              "                                               cast  \\\n",
              "0  [Sam Worthington, Zoe Saldana, Sigourney Weaver]   \n",
              "1     [Johnny Depp, Orlando Bloom, Keira Knightley]   \n",
              "2      [Daniel Craig, Christoph Waltz, Léa Seydoux]   \n",
              "3      [Christian Bale, Michael Caine, Gary Oldman]   \n",
              "4    [Taylor Kitsch, Lynn Collins, Samantha Morton]   \n",
              "\n",
              "                                                crew  \n",
              "0  [{\"credit_id\": \"52fe48009251416c750aca23\", \"de...  \n",
              "1  [{\"credit_id\": \"52fe4232c3a36847f800b579\", \"de...  \n",
              "2  [{\"credit_id\": \"54805967c3a36829b5002c41\", \"de...  \n",
              "3  [{\"credit_id\": \"52fe4781c3a36847f81398c3\", \"de...  \n",
              "4  [{\"credit_id\": \"52fe479ac3a36847f813eaa3\", \"de...  "
            ],
            "text/html": [
              "\n",
              "  <div id=\"df-41366347-224f-4836-929a-32a397aaa111\" class=\"colab-df-container\">\n",
              "    <div>\n",
              "<style scoped>\n",
              "    .dataframe tbody tr th:only-of-type {\n",
              "        vertical-align: middle;\n",
              "    }\n",
              "\n",
              "    .dataframe tbody tr th {\n",
              "        vertical-align: top;\n",
              "    }\n",
              "\n",
              "    .dataframe thead th {\n",
              "        text-align: right;\n",
              "    }\n",
              "</style>\n",
              "<table border=\"1\" class=\"dataframe\">\n",
              "  <thead>\n",
              "    <tr style=\"text-align: right;\">\n",
              "      <th></th>\n",
              "      <th>movie_id</th>\n",
              "      <th>title</th>\n",
              "      <th>overview</th>\n",
              "      <th>genres</th>\n",
              "      <th>keywords</th>\n",
              "      <th>cast</th>\n",
              "      <th>crew</th>\n",
              "    </tr>\n",
              "  </thead>\n",
              "  <tbody>\n",
              "    <tr>\n",
              "      <th>0</th>\n",
              "      <td>19995</td>\n",
              "      <td>Avatar</td>\n",
              "      <td>In the 22nd century, a paraplegic Marine is di...</td>\n",
              "      <td>[Action, Adventure, Fantasy, Science Fiction]</td>\n",
              "      <td>[culture clash, future, space war, space colon...</td>\n",
              "      <td>[Sam Worthington, Zoe Saldana, Sigourney Weaver]</td>\n",
              "      <td>[{\"credit_id\": \"52fe48009251416c750aca23\", \"de...</td>\n",
              "    </tr>\n",
              "    <tr>\n",
              "      <th>1</th>\n",
              "      <td>285</td>\n",
              "      <td>Pirates of the Caribbean: At World's End</td>\n",
              "      <td>Captain Barbossa, long believed to be dead, ha...</td>\n",
              "      <td>[Adventure, Fantasy, Action]</td>\n",
              "      <td>[ocean, drug abuse, exotic island, east india ...</td>\n",
              "      <td>[Johnny Depp, Orlando Bloom, Keira Knightley]</td>\n",
              "      <td>[{\"credit_id\": \"52fe4232c3a36847f800b579\", \"de...</td>\n",
              "    </tr>\n",
              "    <tr>\n",
              "      <th>2</th>\n",
              "      <td>206647</td>\n",
              "      <td>Spectre</td>\n",
              "      <td>A cryptic message from Bond’s past sends him o...</td>\n",
              "      <td>[Action, Adventure, Crime]</td>\n",
              "      <td>[spy, based on novel, secret agent, sequel, mi...</td>\n",
              "      <td>[Daniel Craig, Christoph Waltz, Léa Seydoux]</td>\n",
              "      <td>[{\"credit_id\": \"54805967c3a36829b5002c41\", \"de...</td>\n",
              "    </tr>\n",
              "    <tr>\n",
              "      <th>3</th>\n",
              "      <td>49026</td>\n",
              "      <td>The Dark Knight Rises</td>\n",
              "      <td>Following the death of District Attorney Harve...</td>\n",
              "      <td>[Action, Crime, Drama, Thriller]</td>\n",
              "      <td>[dc comics, crime fighter, terrorist, secret i...</td>\n",
              "      <td>[Christian Bale, Michael Caine, Gary Oldman]</td>\n",
              "      <td>[{\"credit_id\": \"52fe4781c3a36847f81398c3\", \"de...</td>\n",
              "    </tr>\n",
              "    <tr>\n",
              "      <th>4</th>\n",
              "      <td>49529</td>\n",
              "      <td>John Carter</td>\n",
              "      <td>John Carter is a war-weary, former military ca...</td>\n",
              "      <td>[Action, Adventure, Science Fiction]</td>\n",
              "      <td>[based on novel, mars, medallion, space travel...</td>\n",
              "      <td>[Taylor Kitsch, Lynn Collins, Samantha Morton]</td>\n",
              "      <td>[{\"credit_id\": \"52fe479ac3a36847f813eaa3\", \"de...</td>\n",
              "    </tr>\n",
              "  </tbody>\n",
              "</table>\n",
              "</div>\n",
              "    <div class=\"colab-df-buttons\">\n",
              "\n",
              "  <div class=\"colab-df-container\">\n",
              "    <button class=\"colab-df-convert\" onclick=\"convertToInteractive('df-41366347-224f-4836-929a-32a397aaa111')\"\n",
              "            title=\"Convert this dataframe to an interactive table.\"\n",
              "            style=\"display:none;\">\n",
              "\n",
              "  <svg xmlns=\"http://www.w3.org/2000/svg\" height=\"24px\" viewBox=\"0 -960 960 960\">\n",
              "    <path d=\"M120-120v-720h720v720H120Zm60-500h600v-160H180v160Zm220 220h160v-160H400v160Zm0 220h160v-160H400v160ZM180-400h160v-160H180v160Zm440 0h160v-160H620v160ZM180-180h160v-160H180v160Zm440 0h160v-160H620v160Z\"/>\n",
              "  </svg>\n",
              "    </button>\n",
              "\n",
              "  <style>\n",
              "    .colab-df-container {\n",
              "      display:flex;\n",
              "      gap: 12px;\n",
              "    }\n",
              "\n",
              "    .colab-df-convert {\n",
              "      background-color: #E8F0FE;\n",
              "      border: none;\n",
              "      border-radius: 50%;\n",
              "      cursor: pointer;\n",
              "      display: none;\n",
              "      fill: #1967D2;\n",
              "      height: 32px;\n",
              "      padding: 0 0 0 0;\n",
              "      width: 32px;\n",
              "    }\n",
              "\n",
              "    .colab-df-convert:hover {\n",
              "      background-color: #E2EBFA;\n",
              "      box-shadow: 0px 1px 2px rgba(60, 64, 67, 0.3), 0px 1px 3px 1px rgba(60, 64, 67, 0.15);\n",
              "      fill: #174EA6;\n",
              "    }\n",
              "\n",
              "    .colab-df-buttons div {\n",
              "      margin-bottom: 4px;\n",
              "    }\n",
              "\n",
              "    [theme=dark] .colab-df-convert {\n",
              "      background-color: #3B4455;\n",
              "      fill: #D2E3FC;\n",
              "    }\n",
              "\n",
              "    [theme=dark] .colab-df-convert:hover {\n",
              "      background-color: #434B5C;\n",
              "      box-shadow: 0px 1px 3px 1px rgba(0, 0, 0, 0.15);\n",
              "      filter: drop-shadow(0px 1px 2px rgba(0, 0, 0, 0.3));\n",
              "      fill: #FFFFFF;\n",
              "    }\n",
              "  </style>\n",
              "\n",
              "    <script>\n",
              "      const buttonEl =\n",
              "        document.querySelector('#df-41366347-224f-4836-929a-32a397aaa111 button.colab-df-convert');\n",
              "      buttonEl.style.display =\n",
              "        google.colab.kernel.accessAllowed ? 'block' : 'none';\n",
              "\n",
              "      async function convertToInteractive(key) {\n",
              "        const element = document.querySelector('#df-41366347-224f-4836-929a-32a397aaa111');\n",
              "        const dataTable =\n",
              "          await google.colab.kernel.invokeFunction('convertToInteractive',\n",
              "                                                    [key], {});\n",
              "        if (!dataTable) return;\n",
              "\n",
              "        const docLinkHtml = 'Like what you see? Visit the ' +\n",
              "          '<a target=\"_blank\" href=https://colab.research.google.com/notebooks/data_table.ipynb>data table notebook</a>'\n",
              "          + ' to learn more about interactive tables.';\n",
              "        element.innerHTML = '';\n",
              "        dataTable['output_type'] = 'display_data';\n",
              "        await google.colab.output.renderOutput(dataTable, element);\n",
              "        const docLink = document.createElement('div');\n",
              "        docLink.innerHTML = docLinkHtml;\n",
              "        element.appendChild(docLink);\n",
              "      }\n",
              "    </script>\n",
              "  </div>\n",
              "\n",
              "\n",
              "<div id=\"df-642043c0-3821-46a4-904b-9950b6452739\">\n",
              "  <button class=\"colab-df-quickchart\" onclick=\"quickchart('df-642043c0-3821-46a4-904b-9950b6452739')\"\n",
              "            title=\"Suggest charts\"\n",
              "            style=\"display:none;\">\n",
              "\n",
              "<svg xmlns=\"http://www.w3.org/2000/svg\" height=\"24px\"viewBox=\"0 0 24 24\"\n",
              "     width=\"24px\">\n",
              "    <g>\n",
              "        <path d=\"M19 3H5c-1.1 0-2 .9-2 2v14c0 1.1.9 2 2 2h14c1.1 0 2-.9 2-2V5c0-1.1-.9-2-2-2zM9 17H7v-7h2v7zm4 0h-2V7h2v10zm4 0h-2v-4h2v4z\"/>\n",
              "    </g>\n",
              "</svg>\n",
              "  </button>\n",
              "\n",
              "<style>\n",
              "  .colab-df-quickchart {\n",
              "      --bg-color: #E8F0FE;\n",
              "      --fill-color: #1967D2;\n",
              "      --hover-bg-color: #E2EBFA;\n",
              "      --hover-fill-color: #174EA6;\n",
              "      --disabled-fill-color: #AAA;\n",
              "      --disabled-bg-color: #DDD;\n",
              "  }\n",
              "\n",
              "  [theme=dark] .colab-df-quickchart {\n",
              "      --bg-color: #3B4455;\n",
              "      --fill-color: #D2E3FC;\n",
              "      --hover-bg-color: #434B5C;\n",
              "      --hover-fill-color: #FFFFFF;\n",
              "      --disabled-bg-color: #3B4455;\n",
              "      --disabled-fill-color: #666;\n",
              "  }\n",
              "\n",
              "  .colab-df-quickchart {\n",
              "    background-color: var(--bg-color);\n",
              "    border: none;\n",
              "    border-radius: 50%;\n",
              "    cursor: pointer;\n",
              "    display: none;\n",
              "    fill: var(--fill-color);\n",
              "    height: 32px;\n",
              "    padding: 0;\n",
              "    width: 32px;\n",
              "  }\n",
              "\n",
              "  .colab-df-quickchart:hover {\n",
              "    background-color: var(--hover-bg-color);\n",
              "    box-shadow: 0 1px 2px rgba(60, 64, 67, 0.3), 0 1px 3px 1px rgba(60, 64, 67, 0.15);\n",
              "    fill: var(--button-hover-fill-color);\n",
              "  }\n",
              "\n",
              "  .colab-df-quickchart-complete:disabled,\n",
              "  .colab-df-quickchart-complete:disabled:hover {\n",
              "    background-color: var(--disabled-bg-color);\n",
              "    fill: var(--disabled-fill-color);\n",
              "    box-shadow: none;\n",
              "  }\n",
              "\n",
              "  .colab-df-spinner {\n",
              "    border: 2px solid var(--fill-color);\n",
              "    border-color: transparent;\n",
              "    border-bottom-color: var(--fill-color);\n",
              "    animation:\n",
              "      spin 1s steps(1) infinite;\n",
              "  }\n",
              "\n",
              "  @keyframes spin {\n",
              "    0% {\n",
              "      border-color: transparent;\n",
              "      border-bottom-color: var(--fill-color);\n",
              "      border-left-color: var(--fill-color);\n",
              "    }\n",
              "    20% {\n",
              "      border-color: transparent;\n",
              "      border-left-color: var(--fill-color);\n",
              "      border-top-color: var(--fill-color);\n",
              "    }\n",
              "    30% {\n",
              "      border-color: transparent;\n",
              "      border-left-color: var(--fill-color);\n",
              "      border-top-color: var(--fill-color);\n",
              "      border-right-color: var(--fill-color);\n",
              "    }\n",
              "    40% {\n",
              "      border-color: transparent;\n",
              "      border-right-color: var(--fill-color);\n",
              "      border-top-color: var(--fill-color);\n",
              "    }\n",
              "    60% {\n",
              "      border-color: transparent;\n",
              "      border-right-color: var(--fill-color);\n",
              "    }\n",
              "    80% {\n",
              "      border-color: transparent;\n",
              "      border-right-color: var(--fill-color);\n",
              "      border-bottom-color: var(--fill-color);\n",
              "    }\n",
              "    90% {\n",
              "      border-color: transparent;\n",
              "      border-bottom-color: var(--fill-color);\n",
              "    }\n",
              "  }\n",
              "</style>\n",
              "\n",
              "  <script>\n",
              "    async function quickchart(key) {\n",
              "      const quickchartButtonEl =\n",
              "        document.querySelector('#' + key + ' button');\n",
              "      quickchartButtonEl.disabled = true;  // To prevent multiple clicks.\n",
              "      quickchartButtonEl.classList.add('colab-df-spinner');\n",
              "      try {\n",
              "        const charts = await google.colab.kernel.invokeFunction(\n",
              "            'suggestCharts', [key], {});\n",
              "      } catch (error) {\n",
              "        console.error('Error during call to suggestCharts:', error);\n",
              "      }\n",
              "      quickchartButtonEl.classList.remove('colab-df-spinner');\n",
              "      quickchartButtonEl.classList.add('colab-df-quickchart-complete');\n",
              "    }\n",
              "    (() => {\n",
              "      let quickchartButtonEl =\n",
              "        document.querySelector('#df-642043c0-3821-46a4-904b-9950b6452739 button');\n",
              "      quickchartButtonEl.style.display =\n",
              "        google.colab.kernel.accessAllowed ? 'block' : 'none';\n",
              "    })();\n",
              "  </script>\n",
              "</div>\n",
              "\n",
              "    </div>\n",
              "  </div>\n"
            ],
            "application/vnd.google.colaboratory.intrinsic+json": {
              "type": "dataframe",
              "variable_name": "m_df",
              "summary": "{\n  \"name\": \"m_df\",\n  \"rows\": 4806,\n  \"fields\": [\n    {\n      \"column\": \"movie_id\",\n      \"properties\": {\n        \"dtype\": \"number\",\n        \"std\": 88309,\n        \"min\": 5,\n        \"max\": 447027,\n        \"num_unique_values\": 4800,\n        \"samples\": [\n          8427,\n          9555,\n          10029\n        ],\n        \"semantic_type\": \"\",\n        \"description\": \"\"\n      }\n    },\n    {\n      \"column\": \"title\",\n      \"properties\": {\n        \"dtype\": \"string\",\n        \"num_unique_values\": 4797,\n        \"samples\": [\n          \"Two Brothers\",\n          \"From Paris with Love\",\n          \"Walk the Line\"\n        ],\n        \"semantic_type\": \"\",\n        \"description\": \"\"\n      }\n    },\n    {\n      \"column\": \"overview\",\n      \"properties\": {\n        \"dtype\": \"string\",\n        \"num_unique_values\": 4800,\n        \"samples\": [\n          \"When the Switchblade, the most sophisticated prototype stealth fighter created yet, is stolen from the U.S. government, one of the United States' top spies, Alex Scott, is called to action. What he doesn't expect is to get teamed up with a cocky civilian, World Class Boxing Champion Kelly Robinson, on a dangerous top secret espionage mission. Their assignment: using equal parts skill and humor, catch Arnold Gundars, one of the world's most successful arms dealers.\",\n          \"When \\\"street smart\\\" rapper Christopher \\\"C-Note\\\" Hawkins (Big Boi) applies for a membership to all-white Carolina Pines Country Club, the establishment's proprietors are hardly ready to oblige him.\",\n          \"As their first year of high school looms ahead, best friends Julie, Hannah, Yancy and Farrah have one last summer sleepover. Little do they know they're about to embark on the adventure of a lifetime. Desperate to shed their nerdy status, they take part in a night-long scavenger hunt that pits them against their popular archrivals. Everything under the sun goes on -- from taking Yancy's father's car to sneaking into nightclubs!\"\n        ],\n        \"semantic_type\": \"\",\n        \"description\": \"\"\n      }\n    },\n    {\n      \"column\": \"genres\",\n      \"properties\": {\n        \"dtype\": \"object\",\n        \"semantic_type\": \"\",\n        \"description\": \"\"\n      }\n    },\n    {\n      \"column\": \"keywords\",\n      \"properties\": {\n        \"dtype\": \"object\",\n        \"semantic_type\": \"\",\n        \"description\": \"\"\n      }\n    },\n    {\n      \"column\": \"cast\",\n      \"properties\": {\n        \"dtype\": \"object\",\n        \"semantic_type\": \"\",\n        \"description\": \"\"\n      }\n    },\n    {\n      \"column\": \"crew\",\n      \"properties\": {\n        \"dtype\": \"string\",\n        \"num_unique_values\": 4773,\n        \"samples\": [\n          \"[{\\\"credit_id\\\": \\\"538d82720e0a26670e005e83\\\", \\\"department\\\": \\\"Editing\\\", \\\"gender\\\": 2, \\\"id\\\": 898, \\\"job\\\": \\\"Editor\\\", \\\"name\\\": \\\"Mark Goldblatt\\\"}, {\\\"credit_id\\\": \\\"538d82860e0a266702005de5\\\", \\\"department\\\": \\\"Editing\\\", \\\"gender\\\": 2, \\\"id\\\": 1098, \\\"job\\\": \\\"Editor\\\", \\\"name\\\": \\\"Mark Helfrich\\\"}, {\\\"credit_id\\\": \\\"538d820c0e0a266708006129\\\", \\\"department\\\": \\\"Production\\\", \\\"gender\\\": 0, \\\"id\\\": 2095, \\\"job\\\": \\\"Producer\\\", \\\"name\\\": \\\"Ralph Winter\\\"}, {\\\"credit_id\\\": \\\"538d82d30e0a266712005def\\\", \\\"department\\\": \\\"Production\\\", \\\"gender\\\": 2, \\\"id\\\": 2624, \\\"job\\\": \\\"Casting\\\", \\\"name\\\": \\\"Richard Pagano\\\"}, {\\\"credit_id\\\": \\\"538d82ea0e0a266715005e74\\\", \\\"department\\\": \\\"Art\\\", \\\"gender\\\": 2, \\\"id\\\": 4953, \\\"job\\\": \\\"Production Design\\\", \\\"name\\\": \\\"Ed Verreaux\\\"}, {\\\"credit_id\\\": \\\"538d82ad0e0a26670800614d\\\", \\\"department\\\": \\\"Production\\\", \\\"gender\\\": 1, \\\"id\\\": 5362, \\\"job\\\": \\\"Casting\\\", \\\"name\\\": \\\"Heike Brandstatter\\\"}, {\\\"credit_id\\\": \\\"538d82c00e0a266705005fa2\\\", \\\"department\\\": \\\"Production\\\", \\\"gender\\\": 1, \\\"id\\\": 5363, \\\"job\\\": \\\"Casting\\\", \\\"name\\\": \\\"Coreen Mayrs\\\"}, {\\\"credit_id\\\": \\\"538d845ec3a368713c0047d2\\\", \\\"department\\\": \\\"Costume & Make-Up\\\", \\\"gender\\\": 0, \\\"id\\\": 6924, \\\"job\\\": \\\"Costume Supervisor\\\", \\\"name\\\": \\\"Dan Moore\\\"}, {\\\"credit_id\\\": \\\"538d81ef0e0a266718005cb8\\\", \\\"department\\\": \\\"Production\\\", \\\"gender\\\": 1, \\\"id\\\": 7200, \\\"job\\\": \\\"Producer\\\", \\\"name\\\": \\\"Lauren Shuler Donner\\\"}, {\\\"credit_id\\\": \\\"576710bec3a36806720004b0\\\", \\\"department\\\": \\\"Production\\\", \\\"gender\\\": 2, \\\"id\\\": 7624, \\\"job\\\": \\\"Executive Producer\\\", \\\"name\\\": \\\"Stan Lee\\\"}, {\\\"credit_id\\\": \\\"538d81d80e0a266715005e4d\\\", \\\"department\\\": \\\"Production\\\", \\\"gender\\\": 2, \\\"id\\\": 7626, \\\"job\\\": \\\"Producer\\\", \\\"name\\\": \\\"Avi Arad\\\"}, {\\\"credit_id\\\": \\\"5767101092514165c20000db\\\", \\\"department\\\": \\\"Production\\\", \\\"gender\\\": 2, \\\"id\\\": 10850, \\\"job\\\": \\\"Executive Producer\\\", \\\"name\\\": \\\"Kevin Feige\\\"}, {\\\"credit_id\\\": \\\"538d83ba0e0a26670b005ded\\\", \\\"department\\\": \\\"Costume & Make-Up\\\", \\\"gender\\\": 1, \\\"id\\\": 10970, \\\"job\\\": \\\"Costume Design\\\", \\\"name\\\": \\\"Judianna Makovsky\\\"}, {\\\"credit_id\\\": \\\"538d83620e0a266715005e82\\\", \\\"department\\\": \\\"Art\\\", \\\"gender\\\": 2, \\\"id\\\": 10549, \\\"job\\\": \\\"Art Direction\\\", \\\"name\\\": \\\"Justin Scoppa Jr.\\\"}, {\\\"credit_id\\\": \\\"5626465bc3a3680e0e01704b\\\", \\\"department\\\": \\\"Sound\\\", \\\"gender\\\": 2, \\\"id\\\": 11098, \\\"job\\\": \\\"Original Music Composer\\\", \\\"name\\\": \\\"John Powell\\\"}, {\\\"credit_id\\\": \\\"52fe45ff9251416c910459e1\\\", \\\"department\\\": \\\"Writing\\\", \\\"gender\\\": 2, \\\"id\\\": 11092, \\\"job\\\": \\\"Screenplay\\\", \\\"name\\\": \\\"Simon Kinberg\\\"}, {\\\"credit_id\\\": \\\"56abe4ecc3a3681c47003aa3\\\", \\\"department\\\": \\\"Crew\\\", \\\"gender\\\": 2, \\\"id\\\": 15017, \\\"job\\\": \\\"Makeup Effects\\\", \\\"name\\\": \\\"Bill Corso\\\"}, {\\\"credit_id\\\": \\\"538d82560e0a266705005f94\\\", \\\"department\\\": \\\"Camera\\\", \\\"gender\\\": 2, \\\"id\\\": 11099, \\\"job\\\": \\\"Director of Photography\\\", \\\"name\\\": \\\"Dante Spinotti\\\"}, {\\\"credit_id\\\": \\\"52fe45ff9251416c910459e7\\\", \\\"department\\\": \\\"Writing\\\", \\\"gender\\\": 2, \\\"id\\\": 11011, \\\"job\\\": \\\"Screenplay\\\", \\\"name\\\": \\\"Zak Penn\\\"}, {\\\"credit_id\\\": \\\"52fe45ff9251416c910459db\\\", \\\"department\\\": \\\"Directing\\\", \\\"gender\\\": 2, \\\"id\\\": 11091, \\\"job\\\": \\\"Director\\\", \\\"name\\\": \\\"Brett Ratner\\\"}, {\\\"credit_id\\\": \\\"538d834f0e0a266712005dfe\\\", \\\"department\\\": \\\"Art\\\", \\\"gender\\\": 1, \\\"id\\\": 22061, \\\"job\\\": \\\"Art Direction\\\", \\\"name\\\": \\\"Helen Jarvis\\\"}, {\\\"credit_id\\\": \\\"538d83a50e0a266715005e8b\\\", \\\"department\\\": \\\"Art\\\", \\\"gender\\\": 1, \\\"id\\\": 11021, \\\"job\\\": \\\"Set Decoration\\\", \\\"name\\\": \\\"Elizabeth Wilcox\\\"}, {\\\"credit_id\\\": \\\"538d83220e0a266702005df6\\\", \\\"department\\\": \\\"Art\\\", \\\"gender\\\": 0, \\\"id\\\": 11102, \\\"job\\\": \\\"Art Direction\\\", \\\"name\\\": \\\"Chad S. Frey\\\"}, {\\\"credit_id\\\": \\\"570b8dde9251412c740020d0\\\", \\\"department\\\": \\\"Art\\\", \\\"gender\\\": 0, \\\"id\\\": 46082, \\\"job\\\": \\\"Supervising Art Director\\\", \\\"name\\\": \\\"Geoff Hubbard\\\"}, {\\\"credit_id\\\": \\\"538d83ce0e0a266702005e02\\\", \\\"department\\\": \\\"Costume & Make-Up\\\", \\\"gender\\\": 2, \\\"id\\\": 11106, \\\"job\\\": \\\"Costume Design\\\", \\\"name\\\": \\\"Lisa Tomczeszyn\\\"}, {\\\"credit_id\\\": \\\"560046499251414e4d000197\\\", \\\"department\\\": \\\"Crew\\\", \\\"gender\\\": 0, \\\"id\\\": 113194, \\\"job\\\": \\\"Stunts\\\", \\\"name\\\": \\\"James Bamford\\\"}, {\\\"credit_id\\\": \\\"538d82990e0a266712005de9\\\", \\\"department\\\": \\\"Editing\\\", \\\"gender\\\": 1, \\\"id\\\": 11100, \\\"job\\\": \\\"Editor\\\", \\\"name\\\": \\\"Julia Wong\\\"}, {\\\"credit_id\\\": \\\"57671042c3a36806b3000104\\\", \\\"department\\\": \\\"Production\\\", \\\"gender\\\": 2, \\\"id\\\": 11095, \\\"job\\\": \\\"Co-Producer\\\", \\\"name\\\": \\\"James M. Freitag\\\"}, {\\\"credit_id\\\": \\\"57670fdbc3a3680722000106\\\", \\\"department\\\": \\\"Production\\\", \\\"gender\\\": 2, \\\"id\\\": 11014, \\\"job\\\": \\\"Co-Producer\\\", \\\"name\\\": \\\"Ross Fanger\\\"}, {\\\"credit_id\\\": \\\"538d83750e0a26670b005de5\\\", \\\"department\\\": \\\"Art\\\", \\\"gender\\\": 0, \\\"id\\\": 223991, \\\"job\\\": \\\"Art Direction\\\", \\\"name\\\": \\\"Sandi Tanaka\\\"}, {\\\"credit_id\\\": \\\"576710f192514133c5001213\\\", \\\"department\\\": \\\"Production\\\", \\\"gender\\\": 0, \\\"id\\\": 1182092, \\\"job\\\": \\\"Executive Producer\\\", \\\"name\\\": \\\"John Palermo\\\"}, {\\\"credit_id\\\": \\\"55402d2fc3a3681da0000633\\\", \\\"department\\\": \\\"Visual Effects\\\", \\\"gender\\\": 0, \\\"id\\\": 1395269, \\\"job\\\": \\\"Visual Effects Supervisor\\\", \\\"name\\\": \\\"John Bruno\\\"}, {\\\"credit_id\\\": \\\"563a9ed79251416d520145a0\\\", \\\"department\\\": \\\"Crew\\\", \\\"gender\\\": 0, \\\"id\\\": 1401803, \\\"job\\\": \\\"Digital Effects Supervisor\\\", \\\"name\\\": \\\"Guy Williams\\\"}, {\\\"credit_id\\\": \\\"5767112fc3a3680722000132\\\", \\\"department\\\": \\\"Production\\\", \\\"gender\\\": 0, \\\"id\\\": 1432021, \\\"job\\\": \\\"Co-Producer\\\", \\\"name\\\": \\\"Kurt Williams\\\"}, {\\\"credit_id\\\": \\\"55423048c3a36829e5003bc8\\\", \\\"department\\\": \\\"Crew\\\", \\\"gender\\\": 0, \\\"id\\\": 1447557, \\\"job\\\": \\\"Compositors\\\", \\\"name\\\": \\\"Rachel Wyn Dunn\\\"}, {\\\"credit_id\\\": \\\"552986b4c3a368596e001a79\\\", \\\"department\\\": \\\"Visual Effects\\\", \\\"gender\\\": 0, \\\"id\\\": 1452932, \\\"job\\\": \\\"Animation\\\", \\\"name\\\": \\\"Joel Fletcher\\\"}, {\\\"credit_id\\\": \\\"57670f92925141655a000109\\\", \\\"department\\\": \\\"Production\\\", \\\"gender\\\": 0, \\\"id\\\": 1477146, \\\"job\\\": \\\"Co-Producer\\\", \\\"name\\\": \\\"Lee Cleary\\\"}, {\\\"credit_id\\\": \\\"5767107c925141655a00012c\\\", \\\"department\\\": \\\"Production\\\", \\\"gender\\\": 0, \\\"id\\\": 1477147, \\\"job\\\": \\\"Associate Producer\\\", \\\"name\\\": \\\"David Gorder\\\"}, {\\\"credit_id\\\": \\\"5767105bc3a36850c4000573\\\", \\\"department\\\": \\\"Production\\\", \\\"gender\\\": 2, \\\"id\\\": 1477203, \\\"job\\\": \\\"Associate Producer\\\", \\\"name\\\": \\\"Luca Marco Paracels\\\"}]\",\n          \"[{\\\"credit_id\\\": \\\"58dd0e90c3a368223e00b59c\\\", \\\"department\\\": \\\"Production\\\", \\\"gender\\\": 1, \\\"id\\\": 546, \\\"job\\\": \\\"Casting\\\", \\\"name\\\": \\\"Jeanne McCarthy\\\"}, {\\\"credit_id\\\": \\\"52fe43bb9251416c7501bf83\\\", \\\"department\\\": \\\"Production\\\", \\\"gender\\\": 2, \\\"id\\\": 2043, \\\"job\\\": \\\"Producer\\\", \\\"name\\\": \\\"John Davis\\\"}, {\\\"credit_id\\\": \\\"5539fe35c3a3685cf8002f1e\\\", \\\"department\\\": \\\"Sound\\\", \\\"gender\\\": 2, \\\"id\\\": 3393, \\\"job\\\": \\\"Original Music Composer\\\", \\\"name\\\": \\\"David Newman\\\"}, {\\\"credit_id\\\": \\\"58dd0d3fc3a368228a00aa50\\\", \\\"department\\\": \\\"Production\\\", \\\"gender\\\": 0, \\\"id\\\": 6187, \\\"job\\\": \\\"Associate Producer\\\", \\\"name\\\": \\\"Aldric La'Auli Porter\\\"}, {\\\"credit_id\\\": \\\"5990427f925141672302ba00\\\", \\\"department\\\": \\\"Directing\\\", \\\"gender\\\": 0, \\\"id\\\": 6187, \\\"job\\\": \\\"First Assistant Director\\\", \\\"name\\\": \\\"Aldric La'Auli Porter\\\"}, {\\\"credit_id\\\": \\\"58dd0efdc3a368228300b438\\\", \\\"department\\\": \\\"Art\\\", \\\"gender\\\": 2, \\\"id\\\": 6877, \\\"job\\\": \\\"Production Design\\\", \\\"name\\\": \\\"William Sandell\\\"}, {\\\"credit_id\\\": \\\"58dd0f56925141411000c340\\\", \\\"department\\\": \\\"Art\\\", \\\"gender\\\": 2, \\\"id\\\": 6880, \\\"job\\\": \\\"Set Decoration\\\", \\\"name\\\": \\\"Robert Gould\\\"}, {\\\"credit_id\\\": \\\"58dd0f1fc3a36822a600c1dd\\\", \\\"department\\\": \\\"Art\\\", \\\"gender\\\": 2, \\\"id\\\": 8705, \\\"job\\\": \\\"Art Direction\\\", \\\"name\\\": \\\"Brad Ricker\\\"}, {\\\"credit_id\\\": \\\"5990490b925141673e02d2f5\\\", \\\"department\\\": \\\"Sound\\\", \\\"gender\\\": 0, \\\"id\\\": 8763, \\\"job\\\": \\\"Foley Editor\\\", \\\"name\\\": \\\"Dan Yale\\\"}, {\\\"credit_id\\\": \\\"58dd0d3192514140f600b915\\\", \\\"department\\\": \\\"Production\\\", \\\"gender\\\": 2, \\\"id\\\": 8880, \\\"job\\\": \\\"Executive Producer\\\", \\\"name\\\": \\\"Neil A. Machlis\\\"}, {\\\"credit_id\\\": \\\"58dd0e0bc3a368229300bdf6\\\", \\\"department\\\": \\\"Production\\\", \\\"gender\\\": 1, \\\"id\\\": 14377, \\\"job\\\": \\\"Casting\\\", \\\"name\\\": \\\"Juel Bestrop\\\"}, {\\\"credit_id\\\": \\\"599045b6925141672302bdac\\\", \\\"department\\\": \\\"Art\\\", \\\"gender\\\": 0, \\\"id\\\": 12639, \\\"job\\\": \\\"Set Designer\\\", \\\"name\\\": \\\"Hugo Santiago\\\"}, {\\\"credit_id\\\": \\\"58dd0f69c3a368228300b48f\\\", \\\"department\\\": \\\"Costume & Make-Up\\\", \\\"gender\\\": 1, \\\"id\\\": 15524, \\\"job\\\": \\\"Costume Design\\\", \\\"name\\\": \\\"Ruth E. Carter\\\"}, {\\\"credit_id\\\": \\\"52fe43bb9251416c7501bf9b\\\", \\\"department\\\": \\\"Editing\\\", \\\"gender\\\": 2, \\\"id\\\": 18276, \\\"job\\\": \\\"Editor\\\", \\\"name\\\": \\\"Craig Herring\\\"}, {\\\"credit_id\\\": \\\"58dd0f2f92514140fa00c653\\\", \\\"department\\\": \\\"Art\\\", \\\"gender\\\": 2, \\\"id\\\": 13434, \\\"job\\\": \\\"Supervising Art Director\\\", \\\"name\\\": \\\"Bruce Crone\\\"}, {\\\"credit_id\\\": \\\"59904bcdc3a368744202b9fb\\\", \\\"department\\\": \\\"Visual Effects\\\", \\\"gender\\\": 0, \\\"id\\\": 27100, \\\"job\\\": \\\"Visual Effects Supervisor\\\", \\\"name\\\": \\\"Douglas Smith\\\"}, {\\\"credit_id\\\": \\\"52fe43bb9251416c7501bf7d\\\", \\\"department\\\": \\\"Writing\\\", \\\"gender\\\": 2, \\\"id\\\": 31026, \\\"job\\\": \\\"Screenplay\\\", \\\"name\\\": \\\"Larry Levin\\\"}, {\\\"credit_id\\\": \\\"58dd0c8592514140fa00c441\\\", \\\"department\\\": \\\"Production\\\", \\\"gender\\\": 1, \\\"id\\\": 49907, \\\"job\\\": \\\"Co-Producer\\\", \\\"name\\\": \\\"Michele Imperato\\\"}, {\\\"credit_id\\\": \\\"58dd0fb0c3a368227300bfad\\\", \\\"department\\\": \\\"Production\\\", \\\"gender\\\": 1, \\\"id\\\": 49907, \\\"job\\\": \\\"Unit Production Manager\\\", \\\"name\\\": \\\"Michele Imperato\\\"}, {\\\"credit_id\\\": \\\"52fe43bb9251416c7501bfb1\\\", \\\"department\\\": \\\"Directing\\\", \\\"gender\\\": 2, \\\"id\\\": 52112, \\\"job\\\": \\\"Director\\\", \\\"name\\\": \\\"Steve Carr\\\"}, {\\\"credit_id\\\": \\\"5990471cc3a36874a302bbdc\\\", \\\"department\\\": \\\"Sound\\\", \\\"gender\\\": 2, \\\"id\\\": 52193, \\\"job\\\": \\\"Dialogue Editor\\\", \\\"name\\\": \\\"R.J. Kizer\\\"}, {\\\"credit_id\\\": \\\"52fe43bb9251416c7501bf95\\\", \\\"department\\\": \\\"Camera\\\", \\\"gender\\\": 2, \\\"id\\\": 56324, \\\"job\\\": \\\"Director of Photography\\\", \\\"name\\\": \\\"Daryn Okada\\\"}, {\\\"credit_id\\\": \\\"52fe43bb9251416c7501bf89\\\", \\\"department\\\": \\\"Production\\\", \\\"gender\\\": 2, \\\"id\\\": 56053, \\\"job\\\": \\\"Producer\\\", \\\"name\\\": \\\"Joseph Singer\\\"}, {\\\"credit_id\\\": \\\"59904a06925141676602b701\\\", \\\"department\\\": \\\"Crew\\\", \\\"gender\\\": 2, \\\"id\\\": 57769, \\\"job\\\": \\\"Visual Effects Editor\\\", \\\"name\\\": \\\"Peter S. Elliot\\\"}, {\\\"credit_id\\\": \\\"58dd0d4c92514140fa00c4da\\\", \\\"department\\\": \\\"Production\\\", \\\"gender\\\": 1, \\\"id\\\": 66921, \\\"job\\\": \\\"Co-Producer\\\", \\\"name\\\": \\\"Heidi Santelli\\\"}, {\\\"credit_id\\\": \\\"59905155c3a36874b402a906\\\", \\\"department\\\": \\\"Sound\\\", \\\"gender\\\": 0, \\\"id\\\": 91324, \\\"job\\\": \\\"Music Editor\\\", \\\"name\\\": \\\"Tom Villano\\\"}, {\\\"credit_id\\\": \\\"5990424a925141676602adf3\\\", \\\"department\\\": \\\"Costume & Make-Up\\\", \\\"gender\\\": 0, \\\"id\\\": 168214, \\\"job\\\": \\\"Makeup Artist\\\", \\\"name\\\": \\\"Judy Murdock\\\"}, {\\\"credit_id\\\": \\\"59904eae925141673e02da30\\\", \\\"department\\\": \\\"Camera\\\", \\\"gender\\\": 2, \\\"id\\\": 555085, \\\"job\\\": \\\"Still Photographer\\\", \\\"name\\\": \\\"Bruce McBroom\\\"}, {\\\"credit_id\\\": \\\"599041d0c3a36874a302b5e9\\\", \\\"department\\\": \\\"Costume & Make-Up\\\", \\\"gender\\\": 0, \\\"id\\\": 1015965, \\\"job\\\": \\\"Makeup Department Head\\\", \\\"name\\\": \\\"Kris Evans\\\"}, {\\\"credit_id\\\": \\\"58dd11a2c3a368227300c14b\\\", \\\"department\\\": \\\"Production\\\", \\\"gender\\\": 0, \\\"id\\\": 1113659, \\\"job\\\": \\\"Location Manager\\\", \\\"name\\\": \\\"Iddo Lampton Enochs Jr.\\\"}, {\\\"credit_id\\\": \\\"59904b71925141675f02b7e7\\\", \\\"department\\\": \\\"Crew\\\", \\\"gender\\\": 0, \\\"id\\\": 1178615, \\\"job\\\": \\\"CG Supervisor\\\", \\\"name\\\": \\\"Liz Radley\\\"}, {\\\"credit_id\\\": \\\"59904fe5c3a368744202bf0c\\\", \\\"department\\\": \\\"Costume & Make-Up\\\", \\\"gender\\\": 0, \\\"id\\\": 1319193, \\\"job\\\": \\\"Costume Supervisor\\\", \\\"name\\\": \\\"Donna Marcione Pollack\\\"}, {\\\"credit_id\\\": \\\"599044c4925141672302bc97\\\", \\\"department\\\": \\\"Art\\\", \\\"gender\\\": 0, \\\"id\\\": 1364403, \\\"job\\\": \\\"Greensman\\\", \\\"name\\\": \\\"Frank McEldowney\\\"}, {\\\"credit_id\\\": \\\"59904694925141673e02cfd2\\\", \\\"department\\\": \\\"Sound\\\", \\\"gender\\\": 0, \\\"id\\\": 1367505, \\\"job\\\": \\\"Dialogue Editor\\\", \\\"name\\\": \\\"Ted Caplan\\\"}, {\\\"credit_id\\\": \\\"5990439d925141675902ac1b\\\", \\\"department\\\": \\\"Art\\\", \\\"gender\\\": 0, \\\"id\\\": 1377216, \\\"job\\\": \\\"Art Department Coordinator\\\", \\\"name\\\": \\\"Gerald Lehtola\\\"}, {\\\"credit_id\\\": \\\"599045fb925141675f02b16c\\\", \\\"department\\\": \\\"Art\\\", \\\"gender\\\": 0, \\\"id\\\": 1378165, \\\"job\\\": \\\"Property Master\\\", \\\"name\\\": \\\"Mark Wade\\\"}, {\\\"credit_id\\\": \\\"58dd0fd0c3a368228a00abfb\\\", \\\"department\\\": \\\"Art\\\", \\\"gender\\\": 1, \\\"id\\\": 1378749, \\\"job\\\": \\\"Set Designer\\\", \\\"name\\\": \\\"Patricia Klawonn\\\"}, {\\\"credit_id\\\": \\\"58dd1023c3a368227300c025\\\", \\\"department\\\": \\\"Art\\\", \\\"gender\\\": 0, \\\"id\\\": 1389585, \\\"job\\\": \\\"Set Designer\\\", \\\"name\\\": \\\"Bill Taliaferro\\\"}, {\\\"credit_id\\\": \\\"59904785c3a3687493029126\\\", \\\"department\\\": \\\"Sound\\\", \\\"gender\\\": 0, \\\"id\\\": 1390527, \\\"job\\\": \\\"Sound Effects Editor\\\", \\\"name\\\": \\\"Dave Kulczycki\\\"}, {\\\"credit_id\\\": \\\"59905010925141675f02bd38\\\", \\\"department\\\": \\\"Costume & Make-Up\\\", \\\"gender\\\": 0, \\\"id\\\": 1399322, \\\"job\\\": \\\"Set Costumer\\\", \\\"name\\\": \\\"Elizabeth Frank\\\"}, {\\\"credit_id\\\": \\\"59904d81925141670b02cf99\\\", \\\"department\\\": \\\"Camera\\\", \\\"gender\\\": 2, \\\"id\\\": 1400374, \\\"job\\\": \\\"Camera Operator\\\", \\\"name\\\": \\\"Casey Hotchkiss\\\"}, {\\\"credit_id\\\": \\\"599046d2c3a3687493029074\\\", \\\"department\\\": \\\"Sound\\\", \\\"gender\\\": 0, \\\"id\\\": 1404841, \\\"job\\\": \\\"ADR Editor\\\", \\\"name\\\": \\\"Zack Davis\\\"}, {\\\"credit_id\\\": \\\"59904214c3a368746102979f\\\", \\\"department\\\": \\\"Costume & Make-Up\\\", \\\"gender\\\": 0, \\\"id\\\": 1408278, \\\"job\\\": \\\"Hair Department Head\\\", \\\"name\\\": \\\"Erma Kent\\\"}, {\\\"credit_id\\\": \\\"599048b2925141670b02c97f\\\", \\\"department\\\": \\\"Sound\\\", \\\"gender\\\": 0, \\\"id\\\": 1416153, \\\"job\\\": \\\"Supervising Sound Editor\\\", \\\"name\\\": \\\"Donald Sylvester\\\"}, {\\\"credit_id\\\": \\\"59904ad6c3a36874b402a1cc\\\", \\\"department\\\": \\\"Visual Effects\\\", \\\"gender\\\": 0, \\\"id\\\": 1416167, \\\"job\\\": \\\"Visual Effects Producer\\\", \\\"name\\\": \\\"John Kilkenny\\\"}, {\\\"credit_id\\\": \\\"56ae7d849251416357002915\\\", \\\"department\\\": \\\"Costume & Make-Up\\\", \\\"gender\\\": 1, \\\"id\\\": 1424894, \\\"job\\\": \\\"Hairstylist\\\", \\\"name\\\": \\\"Camille Friend\\\"}, {\\\"credit_id\\\": \\\"599047ab925141674c02b48e\\\", \\\"department\\\": \\\"Sound\\\", \\\"gender\\\": 0, \\\"id\\\": 1425343, \\\"job\\\": \\\"ADR Editor\\\", \\\"name\\\": \\\"Vanessa Lapato\\\"}, {\\\"credit_id\\\": \\\"59904951925141673902ae4e\\\", \\\"department\\\": \\\"Crew\\\", \\\"gender\\\": 0, \\\"id\\\": 1442509, \\\"job\\\": \\\"Special Effects Coordinator\\\", \\\"name\\\": \\\"Alan E. Lorimer\\\"}, {\\\"credit_id\\\": \\\"59904427925141675902acc6\\\", \\\"department\\\": \\\"Art\\\", \\\"gender\\\": 0, \\\"id\\\": 1451398, \\\"job\\\": \\\"Greensman\\\", \\\"name\\\": \\\"Bryan McBrien\\\"}, {\\\"credit_id\\\": \\\"59904629c3a368744202b2d6\\\", \\\"department\\\": \\\"Art\\\", \\\"gender\\\": 0, \\\"id\\\": 1453276, \\\"job\\\": \\\"Construction Coordinator\\\", \\\"name\\\": \\\"Butch West\\\"}, {\\\"credit_id\\\": \\\"599034bcc3a3687493027d17\\\", \\\"department\\\": \\\"Crew\\\", \\\"gender\\\": 2, \\\"id\\\": 1454647, \\\"job\\\": \\\"Creator\\\", \\\"name\\\": \\\"Hugh Lofting\\\"}, {\\\"credit_id\\\": \\\"58dd11f1c3a36822ae00bc75\\\", \\\"department\\\": \\\"Directing\\\", \\\"gender\\\": 1, \\\"id\\\": 1457729, \\\"job\\\": \\\"Script Supervisor\\\", \\\"name\\\": \\\"Nancy Karlin\\\"}, {\\\"credit_id\\\": \\\"59904a8d925141675f02b6d8\\\", \\\"department\\\": \\\"Visual Effects\\\", \\\"gender\\\": 0, \\\"id\\\": 1496418, \\\"job\\\": \\\"Visual Effects Coordinator\\\", \\\"name\\\": \\\"Mitchell Ferm\\\"}, {\\\"credit_id\\\": \\\"599050e6925141674c02beef\\\", \\\"department\\\": \\\"Sound\\\", \\\"gender\\\": 2, \\\"id\\\": 1550058, \\\"job\\\": \\\"Music Editor\\\", \\\"name\\\": \\\"Jim Harrison\\\"}, {\\\"credit_id\\\": \\\"58dd11b0c3a368223e00b7db\\\", \\\"department\\\": \\\"Art\\\", \\\"gender\\\": 0, \\\"id\\\": 1585159, \\\"job\\\": \\\"Location Scout\\\", \\\"name\\\": \\\"Jasan Sherman\\\"}, {\\\"credit_id\\\": \\\"5990453a925141673902a8ec\\\", \\\"department\\\": \\\"Art\\\", \\\"gender\\\": 0, \\\"id\\\": 1586888, \\\"job\\\": \\\"Sculptor\\\", \\\"name\\\": \\\"Thomas Meikle\\\"}, {\\\"credit_id\\\": \\\"5990506dc3a368747302c6e3\\\", \\\"department\\\": \\\"Sound\\\", \\\"gender\\\": 0, \\\"id\\\": 1587383, \\\"job\\\": \\\"Music Supervisor\\\", \\\"name\\\": \\\"Spring Aspers\\\"}, {\\\"credit_id\\\": \\\"59904fbb925141672302c9ed\\\", \\\"department\\\": \\\"Costume & Make-Up\\\", \\\"gender\\\": 0, \\\"id\\\": 1610228, \\\"job\\\": \\\"Key Costumer\\\", \\\"name\\\": \\\"Craig Anthony\\\"}, {\\\"credit_id\\\": \\\"599047e3925141674c02b4cf\\\", \\\"department\\\": \\\"Sound\\\", \\\"gender\\\": 2, \\\"id\\\": 1737829, \\\"job\\\": \\\"Boom Operator\\\", \\\"name\\\": \\\"Harrison D. Marsh\\\"}, {\\\"credit_id\\\": \\\"58dd10b2c3a368228300b588\\\", \\\"department\\\": \\\"Production\\\", \\\"gender\\\": 1, \\\"id\\\": 1763970, \\\"job\\\": \\\"Casting Assistant\\\", \\\"name\\\": \\\"Nadia Lubbe Simon\\\"}, {\\\"credit_id\\\": \\\"58dd1052925141413c00beac\\\", \\\"department\\\": \\\"Production\\\", \\\"gender\\\": 1, \\\"id\\\": 1786614, \\\"job\\\": \\\"Casting Associate\\\", \\\"name\\\": \\\"Diana Jaher\\\"}, {\\\"credit_id\\\": \\\"58dd11d5c3a368229d00b6a0\\\", \\\"department\\\": \\\"Production\\\", \\\"gender\\\": 0, \\\"id\\\": 1786616, \\\"job\\\": \\\"Location Manager\\\", \\\"name\\\": \\\"Craig W. van Gundy\\\"}, {\\\"credit_id\\\": \\\"58dd1254c3a368227300c1e6\\\", \\\"department\\\": \\\"Production\\\", \\\"gender\\\": 1, \\\"id\\\": 1786618, \\\"job\\\": \\\"Production Coordinator\\\", \\\"name\\\": \\\"Kris Fullan Martinez\\\"}, {\\\"credit_id\\\": \\\"599042f4c3a368744202aefa\\\", \\\"department\\\": \\\"Art\\\", \\\"gender\\\": 0, \\\"id\\\": 1868861, \\\"job\\\": \\\"Painter\\\", \\\"name\\\": \\\"Joe A. Hawthorne\\\"}, {\\\"credit_id\\\": \\\"5990448e925141675f02afa7\\\", \\\"department\\\": \\\"Crew\\\", \\\"gender\\\": 0, \\\"id\\\": 1868865, \\\"job\\\": \\\"Propmaker\\\", \\\"name\\\": \\\"Robert McDonald\\\"}, {\\\"credit_id\\\": \\\"59904571925141670b02c572\\\", \\\"department\\\": \\\"Crew\\\", \\\"gender\\\": 0, \\\"id\\\": 1868867, \\\"job\\\": \\\"Propmaker\\\", \\\"name\\\": \\\"Robert Prchal\\\"}, {\\\"credit_id\\\": \\\"599045da925141673902a9d7\\\", \\\"department\\\": \\\"Crew\\\", \\\"gender\\\": 0, \\\"id\\\": 1868868, \\\"job\\\": \\\"Propmaker\\\", \\\"name\\\": \\\"Hal Schlax\\\"}, {\\\"credit_id\\\": \\\"59904c34925141675f02b8bc\\\", \\\"department\\\": \\\"Crew\\\", \\\"gender\\\": 2, \\\"id\\\": 1868877, \\\"job\\\": \\\"Stunt Coordinator\\\", \\\"name\\\": \\\"John Molo\\\"}, {\\\"credit_id\\\": \\\"59904cac925141673e02d7a8\\\", \\\"department\\\": \\\"Camera\\\", \\\"gender\\\": 0, \\\"id\\\": 1868878, \\\"job\\\": \\\"Camera Operator\\\", \\\"name\\\": \\\"Todd Dos Reis\\\"}, {\\\"credit_id\\\": \\\"59904d04925141676602ba9a\\\", \\\"department\\\": \\\"Camera\\\", \\\"gender\\\": 0, \\\"id\\\": 1868879, \\\"job\\\": \\\"Dolly Grip\\\", \\\"name\\\": \\\"Jason D. Hodges\\\"}, {\\\"credit_id\\\": \\\"59904d3bc3a36874b402a4b0\\\", \\\"department\\\": \\\"Camera\\\", \\\"gender\\\": 0, \\\"id\\\": 1868880, \\\"job\\\": \\\"Key Grip\\\", \\\"name\\\": \\\"Mike Hodges\\\"}, {\\\"credit_id\\\": \\\"59904df0925141672302c7da\\\", \\\"department\\\": \\\"Lighting\\\", \\\"gender\\\": 0, \\\"id\\\": 1868881, \\\"job\\\": \\\"Gaffer\\\", \\\"name\\\": \\\"Kal Manning\\\"}, {\\\"credit_id\\\": \\\"59904ede925141675f02bbe6\\\", \\\"department\\\": \\\"Camera\\\", \\\"gender\\\": 0, \\\"id\\\": 1868889, \\\"job\\\": \\\"Dolly Grip\\\", \\\"name\\\": \\\"Larry McCarron\\\"}, {\\\"credit_id\\\": \\\"59905109925141673e02dcde\\\", \\\"department\\\": \\\"Sound\\\", \\\"gender\\\": 0, \\\"id\\\": 1868892, \\\"job\\\": \\\"Music Editor\\\", \\\"name\\\": \\\"Kim Strand\\\"}]\",\n          \"[{\\\"credit_id\\\": \\\"535c348b0e0a264fe1001e9f\\\", \\\"department\\\": \\\"Directing\\\", \\\"gender\\\": 0, \\\"id\\\": 1314011, \\\"job\\\": \\\"Director\\\", \\\"name\\\": \\\"Nathan Smith Jones\\\"}]\"\n        ],\n        \"semantic_type\": \"\",\n        \"description\": \"\"\n      }\n    }\n  ]\n}"
            }
          },
          "metadata": {},
          "execution_count": 17
        }
      ]
    },
    {
      "cell_type": "code",
      "source": [
        "def fetch_director(obj):\n",
        "  L=[]\n",
        "  for i in ast.literal_eval(obj):\n",
        "    if i['job'] =='Director':\n",
        "      L.append(i['name'])\n",
        "      break\n",
        "  return L"
      ],
      "metadata": {
        "id": "nz0u2NTBGSUr"
      },
      "execution_count": null,
      "outputs": []
    },
    {
      "cell_type": "code",
      "source": [
        "m_df['crew'] =m_df['crew'].apply(fetch_director)"
      ],
      "metadata": {
        "id": "Kap5iedDaxJW"
      },
      "execution_count": null,
      "outputs": []
    },
    {
      "cell_type": "code",
      "source": [
        "m_df['overview'][0]"
      ],
      "metadata": {
        "colab": {
          "base_uri": "https://localhost:8080/",
          "height": 72
        },
        "id": "7WI9U3Yia_9S",
        "outputId": "1d529a15-fd97-4f9d-ce44-9cacb89e36c0"
      },
      "execution_count": null,
      "outputs": [
        {
          "output_type": "execute_result",
          "data": {
            "text/plain": [
              "'In the 22nd century, a paraplegic Marine is dispatched to the moon Pandora on a unique mission, but becomes torn between following orders and protecting an alien civilization.'"
            ],
            "application/vnd.google.colaboratory.intrinsic+json": {
              "type": "string"
            }
          },
          "metadata": {},
          "execution_count": 20
        }
      ]
    },
    {
      "cell_type": "code",
      "source": [
        "m_df['overview'] = m_df['overview'].apply(lambda x:x.split())"
      ],
      "metadata": {
        "id": "l7reJUmubO0K"
      },
      "execution_count": null,
      "outputs": []
    },
    {
      "cell_type": "code",
      "source": [
        "m_df['genres'] = m_df['genres'].apply(lambda x:[i.replace(\" \",\"\") for i in x])\n",
        "m_df['keywords'] = m_df['keywords'].apply(lambda x:[i.replace(\" \",\"\") for i in x])\n",
        "m_df['cast'] = m_df['cast'].apply(lambda x:[i.replace(\" \",\"\") for i in x])\n",
        "m_df['crew'] = m_df['crew'].apply(lambda x:[i.replace(\" \",\"\") for i in x])"
      ],
      "metadata": {
        "id": "azJ3roGHeR60"
      },
      "execution_count": null,
      "outputs": []
    },
    {
      "cell_type": "code",
      "source": [
        "m_df['tags'] = m_df['overview'] + m_df['genres'] + m_df['keywords'] + m_df['cast'] + m_df['crew']"
      ],
      "metadata": {
        "id": "TUWJqwrshDgO"
      },
      "execution_count": null,
      "outputs": []
    },
    {
      "cell_type": "code",
      "source": [
        "new_df = m_df[['movie_id','title','tags']]"
      ],
      "metadata": {
        "id": "ues121rZhUjI"
      },
      "execution_count": null,
      "outputs": []
    },
    {
      "cell_type": "code",
      "source": [
        "new_df['tags'] = new_df['tags'].apply(lambda x:\" \".join(x))"
      ],
      "metadata": {
        "colab": {
          "base_uri": "https://localhost:8080/"
        },
        "id": "rn8CFIpahcNx",
        "outputId": "ae55e0b2-9057-4e10-877f-3cbec2c7ae84"
      },
      "execution_count": null,
      "outputs": [
        {
          "output_type": "stream",
          "name": "stderr",
          "text": [
            "<ipython-input-25-ad44e9ca1347>:1: SettingWithCopyWarning: \n",
            "A value is trying to be set on a copy of a slice from a DataFrame.\n",
            "Try using .loc[row_indexer,col_indexer] = value instead\n",
            "\n",
            "See the caveats in the documentation: https://pandas.pydata.org/pandas-docs/stable/user_guide/indexing.html#returning-a-view-versus-a-copy\n",
            "  new_df['tags'] = new_df['tags'].apply(lambda x:\" \".join(x))\n"
          ]
        }
      ]
    },
    {
      "cell_type": "code",
      "source": [
        "new_df.head()"
      ],
      "metadata": {
        "colab": {
          "base_uri": "https://localhost:8080/",
          "height": 293
        },
        "id": "R9m4A-B8iSAq",
        "outputId": "6ff20b6f-623e-441d-bc75-def10cac60c2"
      },
      "execution_count": null,
      "outputs": [
        {
          "output_type": "execute_result",
          "data": {
            "text/plain": [
              "   movie_id                                     title  \\\n",
              "0     19995                                    Avatar   \n",
              "1       285  Pirates of the Caribbean: At World's End   \n",
              "2    206647                                   Spectre   \n",
              "3     49026                     The Dark Knight Rises   \n",
              "4     49529                               John Carter   \n",
              "\n",
              "                                                tags  \n",
              "0  In the 22nd century, a paraplegic Marine is di...  \n",
              "1  Captain Barbossa, long believed to be dead, ha...  \n",
              "2  A cryptic message from Bond’s past sends him o...  \n",
              "3  Following the death of District Attorney Harve...  \n",
              "4  John Carter is a war-weary, former military ca...  "
            ],
            "text/html": [
              "\n",
              "  <div id=\"df-2db9e061-a35b-426b-9713-575cb933e694\" class=\"colab-df-container\">\n",
              "    <div>\n",
              "<style scoped>\n",
              "    .dataframe tbody tr th:only-of-type {\n",
              "        vertical-align: middle;\n",
              "    }\n",
              "\n",
              "    .dataframe tbody tr th {\n",
              "        vertical-align: top;\n",
              "    }\n",
              "\n",
              "    .dataframe thead th {\n",
              "        text-align: right;\n",
              "    }\n",
              "</style>\n",
              "<table border=\"1\" class=\"dataframe\">\n",
              "  <thead>\n",
              "    <tr style=\"text-align: right;\">\n",
              "      <th></th>\n",
              "      <th>movie_id</th>\n",
              "      <th>title</th>\n",
              "      <th>tags</th>\n",
              "    </tr>\n",
              "  </thead>\n",
              "  <tbody>\n",
              "    <tr>\n",
              "      <th>0</th>\n",
              "      <td>19995</td>\n",
              "      <td>Avatar</td>\n",
              "      <td>In the 22nd century, a paraplegic Marine is di...</td>\n",
              "    </tr>\n",
              "    <tr>\n",
              "      <th>1</th>\n",
              "      <td>285</td>\n",
              "      <td>Pirates of the Caribbean: At World's End</td>\n",
              "      <td>Captain Barbossa, long believed to be dead, ha...</td>\n",
              "    </tr>\n",
              "    <tr>\n",
              "      <th>2</th>\n",
              "      <td>206647</td>\n",
              "      <td>Spectre</td>\n",
              "      <td>A cryptic message from Bond’s past sends him o...</td>\n",
              "    </tr>\n",
              "    <tr>\n",
              "      <th>3</th>\n",
              "      <td>49026</td>\n",
              "      <td>The Dark Knight Rises</td>\n",
              "      <td>Following the death of District Attorney Harve...</td>\n",
              "    </tr>\n",
              "    <tr>\n",
              "      <th>4</th>\n",
              "      <td>49529</td>\n",
              "      <td>John Carter</td>\n",
              "      <td>John Carter is a war-weary, former military ca...</td>\n",
              "    </tr>\n",
              "  </tbody>\n",
              "</table>\n",
              "</div>\n",
              "    <div class=\"colab-df-buttons\">\n",
              "\n",
              "  <div class=\"colab-df-container\">\n",
              "    <button class=\"colab-df-convert\" onclick=\"convertToInteractive('df-2db9e061-a35b-426b-9713-575cb933e694')\"\n",
              "            title=\"Convert this dataframe to an interactive table.\"\n",
              "            style=\"display:none;\">\n",
              "\n",
              "  <svg xmlns=\"http://www.w3.org/2000/svg\" height=\"24px\" viewBox=\"0 -960 960 960\">\n",
              "    <path d=\"M120-120v-720h720v720H120Zm60-500h600v-160H180v160Zm220 220h160v-160H400v160Zm0 220h160v-160H400v160ZM180-400h160v-160H180v160Zm440 0h160v-160H620v160ZM180-180h160v-160H180v160Zm440 0h160v-160H620v160Z\"/>\n",
              "  </svg>\n",
              "    </button>\n",
              "\n",
              "  <style>\n",
              "    .colab-df-container {\n",
              "      display:flex;\n",
              "      gap: 12px;\n",
              "    }\n",
              "\n",
              "    .colab-df-convert {\n",
              "      background-color: #E8F0FE;\n",
              "      border: none;\n",
              "      border-radius: 50%;\n",
              "      cursor: pointer;\n",
              "      display: none;\n",
              "      fill: #1967D2;\n",
              "      height: 32px;\n",
              "      padding: 0 0 0 0;\n",
              "      width: 32px;\n",
              "    }\n",
              "\n",
              "    .colab-df-convert:hover {\n",
              "      background-color: #E2EBFA;\n",
              "      box-shadow: 0px 1px 2px rgba(60, 64, 67, 0.3), 0px 1px 3px 1px rgba(60, 64, 67, 0.15);\n",
              "      fill: #174EA6;\n",
              "    }\n",
              "\n",
              "    .colab-df-buttons div {\n",
              "      margin-bottom: 4px;\n",
              "    }\n",
              "\n",
              "    [theme=dark] .colab-df-convert {\n",
              "      background-color: #3B4455;\n",
              "      fill: #D2E3FC;\n",
              "    }\n",
              "\n",
              "    [theme=dark] .colab-df-convert:hover {\n",
              "      background-color: #434B5C;\n",
              "      box-shadow: 0px 1px 3px 1px rgba(0, 0, 0, 0.15);\n",
              "      filter: drop-shadow(0px 1px 2px rgba(0, 0, 0, 0.3));\n",
              "      fill: #FFFFFF;\n",
              "    }\n",
              "  </style>\n",
              "\n",
              "    <script>\n",
              "      const buttonEl =\n",
              "        document.querySelector('#df-2db9e061-a35b-426b-9713-575cb933e694 button.colab-df-convert');\n",
              "      buttonEl.style.display =\n",
              "        google.colab.kernel.accessAllowed ? 'block' : 'none';\n",
              "\n",
              "      async function convertToInteractive(key) {\n",
              "        const element = document.querySelector('#df-2db9e061-a35b-426b-9713-575cb933e694');\n",
              "        const dataTable =\n",
              "          await google.colab.kernel.invokeFunction('convertToInteractive',\n",
              "                                                    [key], {});\n",
              "        if (!dataTable) return;\n",
              "\n",
              "        const docLinkHtml = 'Like what you see? Visit the ' +\n",
              "          '<a target=\"_blank\" href=https://colab.research.google.com/notebooks/data_table.ipynb>data table notebook</a>'\n",
              "          + ' to learn more about interactive tables.';\n",
              "        element.innerHTML = '';\n",
              "        dataTable['output_type'] = 'display_data';\n",
              "        await google.colab.output.renderOutput(dataTable, element);\n",
              "        const docLink = document.createElement('div');\n",
              "        docLink.innerHTML = docLinkHtml;\n",
              "        element.appendChild(docLink);\n",
              "      }\n",
              "    </script>\n",
              "  </div>\n",
              "\n",
              "\n",
              "<div id=\"df-174db43d-ed13-4c7c-814c-29c5bfe2a3da\">\n",
              "  <button class=\"colab-df-quickchart\" onclick=\"quickchart('df-174db43d-ed13-4c7c-814c-29c5bfe2a3da')\"\n",
              "            title=\"Suggest charts\"\n",
              "            style=\"display:none;\">\n",
              "\n",
              "<svg xmlns=\"http://www.w3.org/2000/svg\" height=\"24px\"viewBox=\"0 0 24 24\"\n",
              "     width=\"24px\">\n",
              "    <g>\n",
              "        <path d=\"M19 3H5c-1.1 0-2 .9-2 2v14c0 1.1.9 2 2 2h14c1.1 0 2-.9 2-2V5c0-1.1-.9-2-2-2zM9 17H7v-7h2v7zm4 0h-2V7h2v10zm4 0h-2v-4h2v4z\"/>\n",
              "    </g>\n",
              "</svg>\n",
              "  </button>\n",
              "\n",
              "<style>\n",
              "  .colab-df-quickchart {\n",
              "      --bg-color: #E8F0FE;\n",
              "      --fill-color: #1967D2;\n",
              "      --hover-bg-color: #E2EBFA;\n",
              "      --hover-fill-color: #174EA6;\n",
              "      --disabled-fill-color: #AAA;\n",
              "      --disabled-bg-color: #DDD;\n",
              "  }\n",
              "\n",
              "  [theme=dark] .colab-df-quickchart {\n",
              "      --bg-color: #3B4455;\n",
              "      --fill-color: #D2E3FC;\n",
              "      --hover-bg-color: #434B5C;\n",
              "      --hover-fill-color: #FFFFFF;\n",
              "      --disabled-bg-color: #3B4455;\n",
              "      --disabled-fill-color: #666;\n",
              "  }\n",
              "\n",
              "  .colab-df-quickchart {\n",
              "    background-color: var(--bg-color);\n",
              "    border: none;\n",
              "    border-radius: 50%;\n",
              "    cursor: pointer;\n",
              "    display: none;\n",
              "    fill: var(--fill-color);\n",
              "    height: 32px;\n",
              "    padding: 0;\n",
              "    width: 32px;\n",
              "  }\n",
              "\n",
              "  .colab-df-quickchart:hover {\n",
              "    background-color: var(--hover-bg-color);\n",
              "    box-shadow: 0 1px 2px rgba(60, 64, 67, 0.3), 0 1px 3px 1px rgba(60, 64, 67, 0.15);\n",
              "    fill: var(--button-hover-fill-color);\n",
              "  }\n",
              "\n",
              "  .colab-df-quickchart-complete:disabled,\n",
              "  .colab-df-quickchart-complete:disabled:hover {\n",
              "    background-color: var(--disabled-bg-color);\n",
              "    fill: var(--disabled-fill-color);\n",
              "    box-shadow: none;\n",
              "  }\n",
              "\n",
              "  .colab-df-spinner {\n",
              "    border: 2px solid var(--fill-color);\n",
              "    border-color: transparent;\n",
              "    border-bottom-color: var(--fill-color);\n",
              "    animation:\n",
              "      spin 1s steps(1) infinite;\n",
              "  }\n",
              "\n",
              "  @keyframes spin {\n",
              "    0% {\n",
              "      border-color: transparent;\n",
              "      border-bottom-color: var(--fill-color);\n",
              "      border-left-color: var(--fill-color);\n",
              "    }\n",
              "    20% {\n",
              "      border-color: transparent;\n",
              "      border-left-color: var(--fill-color);\n",
              "      border-top-color: var(--fill-color);\n",
              "    }\n",
              "    30% {\n",
              "      border-color: transparent;\n",
              "      border-left-color: var(--fill-color);\n",
              "      border-top-color: var(--fill-color);\n",
              "      border-right-color: var(--fill-color);\n",
              "    }\n",
              "    40% {\n",
              "      border-color: transparent;\n",
              "      border-right-color: var(--fill-color);\n",
              "      border-top-color: var(--fill-color);\n",
              "    }\n",
              "    60% {\n",
              "      border-color: transparent;\n",
              "      border-right-color: var(--fill-color);\n",
              "    }\n",
              "    80% {\n",
              "      border-color: transparent;\n",
              "      border-right-color: var(--fill-color);\n",
              "      border-bottom-color: var(--fill-color);\n",
              "    }\n",
              "    90% {\n",
              "      border-color: transparent;\n",
              "      border-bottom-color: var(--fill-color);\n",
              "    }\n",
              "  }\n",
              "</style>\n",
              "\n",
              "  <script>\n",
              "    async function quickchart(key) {\n",
              "      const quickchartButtonEl =\n",
              "        document.querySelector('#' + key + ' button');\n",
              "      quickchartButtonEl.disabled = true;  // To prevent multiple clicks.\n",
              "      quickchartButtonEl.classList.add('colab-df-spinner');\n",
              "      try {\n",
              "        const charts = await google.colab.kernel.invokeFunction(\n",
              "            'suggestCharts', [key], {});\n",
              "      } catch (error) {\n",
              "        console.error('Error during call to suggestCharts:', error);\n",
              "      }\n",
              "      quickchartButtonEl.classList.remove('colab-df-spinner');\n",
              "      quickchartButtonEl.classList.add('colab-df-quickchart-complete');\n",
              "    }\n",
              "    (() => {\n",
              "      let quickchartButtonEl =\n",
              "        document.querySelector('#df-174db43d-ed13-4c7c-814c-29c5bfe2a3da button');\n",
              "      quickchartButtonEl.style.display =\n",
              "        google.colab.kernel.accessAllowed ? 'block' : 'none';\n",
              "    })();\n",
              "  </script>\n",
              "</div>\n",
              "\n",
              "    </div>\n",
              "  </div>\n"
            ],
            "application/vnd.google.colaboratory.intrinsic+json": {
              "type": "dataframe",
              "variable_name": "new_df",
              "summary": "{\n  \"name\": \"new_df\",\n  \"rows\": 4806,\n  \"fields\": [\n    {\n      \"column\": \"movie_id\",\n      \"properties\": {\n        \"dtype\": \"number\",\n        \"std\": 88309,\n        \"min\": 5,\n        \"max\": 447027,\n        \"num_unique_values\": 4800,\n        \"samples\": [\n          8427,\n          9555,\n          10029\n        ],\n        \"semantic_type\": \"\",\n        \"description\": \"\"\n      }\n    },\n    {\n      \"column\": \"title\",\n      \"properties\": {\n        \"dtype\": \"string\",\n        \"num_unique_values\": 4797,\n        \"samples\": [\n          \"Two Brothers\",\n          \"From Paris with Love\",\n          \"Walk the Line\"\n        ],\n        \"semantic_type\": \"\",\n        \"description\": \"\"\n      }\n    },\n    {\n      \"column\": \"tags\",\n      \"properties\": {\n        \"dtype\": \"string\",\n        \"num_unique_values\": 4806,\n        \"samples\": [\n          \"The impressionistic story of a Texas family in the 1950s. The film follows the life journey of the eldest son, Jack, through the innocence of childhood to his disillusioned adult years as he tries to reconcile a complicated relationship with his father. Jack finds himself a lost soul in the modern world, seeking answers to the origins and meaning of life while questioning the existence of faith. Drama Fantasy philosophy fathersonrelationship redhair brothersisterrelationship sun telegram tree meteor afterlife deathofachild independentfilm spirituality outerspace dinosaur voiceover verylittledialogue tarkovskyesque BradPitt SeanPenn JessicaChastain TerrenceMalick\",\n          \"Set in South Carolina in 1964, this is the tale of Lily Owens a 14 year-old girl who is haunted by the memory of her late mother. To escape her lonely life and troubled relationship with her father, Lily flees with Rosaleen, her caregiver and only friend, to a South Carolina town that holds the secret to her mother's past. Adventure womandirector DakotaFanning QueenLatifah JenniferHudson GinaPrince-Bythewood\",\n          \"Combat has taken its toll on Rambo, but he's finally begun to find inner peace in a monastery. When Rambo's friend and mentor Col. Trautman asks for his help on a top secret mission to Afghanistan, Rambo declines but must reconsider when Trautman is captured. Action Adventure Thriller War competition submachinegun sovietunion liberation russian soviettroops thailand freedomfighter afghanistan waronfreedom machinegun mujahid realityshow western japanesefood soapopera SylvesterStallone RichardCrenna KurtwoodSmith PeterMacDonald\"\n        ],\n        \"semantic_type\": \"\",\n        \"description\": \"\"\n      }\n    }\n  ]\n}"
            }
          },
          "metadata": {},
          "execution_count": 26
        }
      ]
    },
    {
      "cell_type": "code",
      "source": [
        "new_df['title'].sum()"
      ],
      "metadata": {
        "colab": {
          "base_uri": "https://localhost:8080/",
          "height": 254
        },
        "id": "0YrGrjCjvh0U",
        "outputId": "27084f58-1d81-4f0a-9e04-7f8b7093b91c"
      },
      "execution_count": null,
      "outputs": [
        {
          "output_type": "execute_result",
          "data": {
            "text/plain": [
              "\"AvatarPirates of the Caribbean: At World's EndSpectreThe Dark Knight RisesJohn CarterSpider-Man 3TangledAvengers: Age of UltronHarry Potter and the Half-Blood PrinceBatman v Superman: Dawn of JusticeSuperman ReturnsQuantum of SolacePirates of the Caribbean: Dead Man's ChestThe Lone RangerMan of SteelThe Chronicles of Narnia: Prince CaspianThe AvengersPirates of the Caribbean: On Stranger TidesMen in Black 3The Hobbit: The Battle of the Five ArmiesThe Amazing Spider-ManRobin HoodThe Hobbit: The Desolation of SmaugThe Golden CompassKing KongTitanicCaptain America: Civil WarBattleshipJurassic WorldSkyfallSpider-Man 2Iron Man 3Alice in WonderlandX-Men: The Last StandMonsters UniversityTransformers: Revenge of the FallenTransformers: Age of ExtinctionOz: The Great and PowerfulThe Amazing Spider-Man 2TRON: LegacyCars 2Green LanternToy Story 3Terminator SalvationFurious 7World War ZX-Men: Days of Future PastStar Trek Into DarknessJack the Giant SlayerThe Great GatsbyPrince of Persia: The Sands of TimePacific RimTransformers: Dark of the MoonIndiana Jones and the Kingdom of the Crystal SkullThe Good DinosaurBraveStar Trek BeyondWALL·ERush Hour 32012A Christmas CarolJupiter AscendingThe Legend of TarzanThe Chronicles of Narnia: The Lion, the Witch and the WardrobeX-Men: ApocalypseThe Dark KnightUpMonsters vs AliensIron ManHugoWild Wild WestThe Mummy: Tomb of the Dragon EmperorSuicide SquadEvan AlmightyEdge of TomorrowWaterworldG.I. Joe: The Rise of CobraInside OutThe Jungle BookIron Man 2Snow White and the HuntsmanMaleficentDawn of the Planet of the ApesThe Lovers47 RoninCaptain America: The Winter SoldierShrek Forever AfterTomorrowlandBig Hero 6Wreck-It RalphThe Polar ExpressIndependence Day: ResurgenceHow to Train Your DragonTerminator 3: Rise of the MachinesGuardians of the GalaxyInterstellarInceptionShin GodzillaThe Hobbit: An Unexpected JourneyThe Fast and the FuriousThe Curious Case of Benjamin ButtonX-Men: First ClassThe Hunger Games: Mockingjay - Part 2The Sorcerer's ApprenticePoseidonAlice Through the Looking GlassShrek the ThirdWarcraftTerminator GenisysThe Chronicles of Narnia: The Voyage of the Dawn TreaderPearl HarborTransformersAlexanderHarry Potter and the Order of the PhoenixHarry Potter and the Goblet of FireHancockI Am LegendCharlie and the Chocolate FactoryRatatouilleBatman BeginsMadagascar: Escape 2 AfricaNight at the Museum: Battle of the SmithsonianX-Men Origins: WolverineThe Matrix RevolutionsFrozenThe Matrix ReloadedThor: The Dark WorldMad Max: Fury RoadAngels & DemonsThorBoltG-ForceWrath of the TitansDark ShadowsMission: Impossible - Rogue NationThe WolfmanBee MovieKung Fu Panda 2The Last AirbenderMission: Impossible IIIWhite House DownMars Needs MomsFlushed AwayPanMr. Peabody & ShermanTroyMadagascar 3: Europe's Most WantedDie Another DayGhostbustersArmageddonMen in Black IIBeowulfKung Fu Panda 3Mission: Impossible - Ghost ProtocolRise of the GuardiansFun with Dick and JaneThe Last SamuraiExodus: Gods and KingsStar TrekSpider-ManHow to Train Your Dragon 2Gods of EgyptStealthWatchmenLethal Weapon 4HulkG.I. Joe: RetaliationSaharaFinal Fantasy: The Spirits WithinCaptain America: The First AvengerThe World Is Not EnoughMaster and Commander: The Far Side of the WorldThe Twilight Saga: Breaking Dawn - Part 2Happy Feet TwoThe Incredible HulkThe BFGThe RevenantTurboRangoPenguins of MadagascarThe Bourne UltimatumKung Fu PandaAnt-ManThe Hunger Games: Catching FireHomeWar of the WorldsBad Boys IIPuss in BootsSaltNoahThe Adventures of TintinHarry Potter and the Prisoner of AzkabanAustraliaAfter EarthDinosaurNight at the Museum: Secret of the TombMegamindHarry Potter and the Philosopher's StoneR.I.P.D.Pirates of the Caribbean: The Curse of the Black PearlThe Hunger Games: Mockingjay - Part 1The Da Vinci CodeRio 2X2Fast FiveSherlock Holmes: A Game of ShadowsClash of the TitansTotal RecallThe 13th WarriorThe Bourne LegacyBatman & RobinHow the Grinch Stole ChristmasThe Day After TomorrowMission: Impossible IIThe Perfect StormFantastic 4: Rise of the Silver SurferLife of PiGhost RiderJason BourneCharlie's Angels: Full ThrottlePrometheusStuart Little 2ElysiumThe Chronicles of RiddickRoboCopSpeed RacerHow Do You KnowKnight and DayOblivionStar Wars: Episode III - Revenge of the SithStar Wars: Episode II - Attack of the ClonesMonsters, Inc.The WolverineStar Wars: Episode I - The Phantom MenaceThe CroodsAsterix at the Olympic GamesWindtalkersThe Huntsman: Winter's WarTeenage Mutant Ninja TurtlesGravityDante's PeakTeenage Mutant Ninja Turtles: Out of the ShadowsFantastic FourNight at the MuseumSan AndreasTomorrow Never DiesThe PatriotOcean's TwelveMr. & Mrs. SmithInsurgentThe AviatorGulliver's TravelsThe Green Hornet300: Rise of an EmpireThe SmurfsHome on the RangeAllegiantReal SteelThe Smurfs 2Speed 2: Cruise ControlEnder's GameLive Free or Die HardThe Lord of the Rings: The Fellowship of the RingAround the World in 80 DaysAliThe Cat in the HatI, RobotKingdom of HeavenStuart LittleThe Princess and the FrogThe MartianThe IslandTown & CountryGone in Sixty SecondsGladiatorMinority ReportHarry Potter and the Chamber of SecretsCasino RoyalePlanet of the ApesTerminator 2: Judgment DayPublic EnemiesAmerican GangsterTrue LiesThe Taking of Pelham 1 2 3Little FockersThe Other GuysEraserDjango UnchainedThe Hunchback of Notre DameThe Emperor's New GrooveThe Expendables 2National TreasureEragonWhere the Wild Things AreEpicThe TouristEnd of DaysBlood DiamondThe Wolf of Wall StreetBatman ForeverStarship TroopersCloud AtlasLegend of the Guardians: The Owls of Ga'HooleCatwomanHerculesTreasure PlanetLand of the LostThe Expendables 3Point BreakSon of the MaskIn the Heart of the SeaThe Adventures of Pluto NashGreen ZoneThe Peanuts MovieThe Spanish PrisonerThe Mummy ReturnsGangs of New YorkThe Flowers of WarSurf's UpThe Stepford WivesBlack Hawk DownThe CampaignThe Fifth ElementSex and the City 2The Road to El DoradoIce Age: Continental DriftCinderellaThe Lovely BonesFinding NemoThe Lord of the Rings: The Return of the KingThe Lord of the Rings: The Two TowersSeventh SonLara Croft: Tomb RaiderTranscendenceJurassic Park IIIRise of the Planet of the ApesThe Spiderwick ChroniclesA Good Day to Die HardThe AlamoThe IncrediblesCutthroat IslandPercy Jackson & the Olympians: The Lightning ThiefMen in BlackToy Story 2UnstoppableRush Hour 2What Lies BeneathCloudy with a Chance of MeatballsIce Age: Dawn of the DinosaursThe Secret Life of Walter MittyCharlie's AngelsThe DepartedMulanTropic ThunderThe Girl with the Dragon TattooDie Hard: With a VengeanceSherlock HolmesBen-HurAtlantis: The Lost EmpireAlvin and the Chipmunks: The Road ChipValkyrieYou Don't Mess with the ZohanPixelsA.I. Artificial IntelligenceThe Haunted MansionContactHollow ManThe InterpreterPercy Jackson: Sea of MonstersLara Croft Tomb Raider: The Cradle of LifeNow You See Me 2The SaintSpy GameMission to MarsRioBicentennial ManVolcanoThe Devil's OwnK-19: The WidowmakerConan the BarbarianCinderella ManThe Nutcracker: The Untold StorySeabiscuitTwisterCast AwayHappy FeetThe Bourne SupremacyAir Force OneOcean's ElevenThe Three MusketeersHotel TransylvaniaEnchantedSafe House102 DalmatiansTower HeistThe HolidayEnemy of the StateIt's ComplicatedOcean's ThirteenOpen SeasonDivergentEnemy at the GatesThe RundownLast Action HeroMemoirs of a GeishaThe Fast and the Furious: Tokyo DriftArthur ChristmasMeet Joe BlackCollateral DamageAll That JazzMirror MirrorScott Pilgrim vs. the WorldThe CoreNutty Professor II: The KlumpsScooby-DooDreddClickCreepshowCats & Dogs 2 : The Revenge of Kitty GaloreJumperHellboy II: The Golden ArmyZodiacThe 6th DayBruce AlmightyThe ExpendablesMission: ImpossibleThe Hunger GamesThe Hangover Part IIBatman ReturnsOver the HedgeLilo & StitchCharlotte's WebDeep ImpactRED 2The Longest YardAlvin and the Chipmunks: ChipwreckedGrown Ups 2Get SmartSomething's Gotta GiveShutter IslandFour ChristmasesRobotsFace/OffBedtime StoriesRoad to PerditionJust Go with ItCon AirEagle EyeCold MountainThe Book of EliFlubberThe HauntingSpace JamThe Pink PantherThe Day the Earth Stood StillConspiracy TheoryFurySix Days Seven NightsYogi BearSpirit: Stallion of the CimarronZookeeperLost in SpaceThe Manchurian CandidateDéjà VuHotel Transylvania 2Fantasia 2000The Time MachineMighty Joe YoungSwordfishThe Legend of ZorroWhat Dreams May ComeLittle NickyThe Brothers GrimmMars Attacks!EvolutionThe EdgeSurrogatesThirteen DaysDaylightWalking With DinosaursBattlefield EarthLooney Tunes: Back in ActionNineTimelineThe PostmanBabe: Pig in the CityThe Last Witch HunterRed PlanetArthur and the InvisiblesOceansA Sound of ThunderPompeiiTop Cat BeginsA Beautiful MindThe Lion KingJourney 2: The Mysterious IslandCloudy with a Chance of Meatballs 2Red DragonHidalgoJack and Jill2 Fast 2 FuriousThe Little PrinceThe InvasionThe Adventures of Rocky & BullwinkleThe Secret Life of PetsThe League of Extraordinary GentlemenDespicable Me 2Independence DayThe Lost World: Jurassic ParkMadagascarChildren of MenX-MenWantedThe RockIce Age: The Meltdown50 First DatesHairsprayExorcist: The BeginningInspector GadgetNow You See MeGrown UpsThe TerminalHotel for DogsVertical LimitCharlie Wilson's WarShark TaleDreamgirlsBe CoolMunichTears of the SunKillersThe Man from U.N.C.L.E.SpanglishMonster HouseBanditsFirst KnightAnna and the KingImmortalsHostageTitan A.E.Hollywood HomicideSoldierCarriersMonkeyboneFlight of the PhoenixUnbreakableMinionsSucker PunchSnake EyesSphereThe Angry Birds MovieFool's GoldFunny PeopleThe KingdomTalladega Nights: The Ballad of Ricky BobbyDr. Dolittle 2BraveheartJarheadThe Simpsons MovieThe MajesticDrivenTwo BrothersThe VillageDoctor DolittleSignsShrek 2CarsRunaway BridexXxThe SpongeBob Movie: Sponge Out of WaterRansomInglourious BasterdsHookDie Hard 2S.W.A.T.Vanilla SkyLady in the WaterAVP: Alien vs. PredatorAlvin and the Chipmunks: The SqueakquelWe Were SoldiersOlympus Has FallenStar Trek: InsurrectionBattle: Los AngelesBig FishWolfWar HorseThe Monuments MenThe AbyssWall Street: Money Never SleepsDracula UntoldThe SiegeStardustSeven Years in TibetThe DilemmaBad CompanyDoomI SpyUnderworld: AwakeningRock of AgesHart's WarKiller EliteRollerballBallistic: Ecks vs. SeverHard RainOsmosis JonesLegends of Oz: Dorothy's ReturnBlackhatSky Captain and the World of TomorrowBasic Instinct 2Escape PlanThe Legend of HerculesThe Sum of All FearsThe Twilight Saga: EclipseThe ScoreDespicable MeMoney TrainTed 2AgoraMystery MenHall PassThe InsiderThe Finest HoursBody of LiesDinner for SchmucksAbraham Lincoln: Vampire HunterEntrapmentThe X FilesThe Last LegionSaving Private RyanNeed for SpeedWhat Women WantIce AgeDreamcatcherLincolnThe MatrixApollo 13The Santa Clause 2Les MisérablesYou've Got MailStep BrothersThe Mask of ZorroDue DateUnbrokenSpace CowboysCliffhangerBroken ArrowThe KidWorld Trade CenterMona Lisa SmileThe DictatorEyes Wide ShutAnnieFocusThis Means WarBlade: TrinityRed DawnPrimary ColorsResident Evil: RetributionDeath RaceThe Long Kiss GoodnightProof of LifeZathura: A Space AdventureFight ClubWe Are MarshallHudson HawkLucky NumbersI, FrankensteinOliver TwistElektraSin City: A Dame to Kill ForRandom HeartsEverestPerfume: The Story of a MurdererAustin Powers in GoldmemberAstro BoyJurassic ParkWyatt EarpClear and Present DangerDragon BladeLittle ManU-571The American PresidentThe Love Guru3000 Miles to GracelandThe Hateful EightBlades of GloryHop300Meet the FockersMarley & MeThe Green MileWild HogsChicken LittleGone GirlThe Bourne IdentityGoldenEyeThe General's DaughterThe Truman ShowThe Prince of EgyptDaddy Day Care2 GunsCats & DogsThe Italian JobTwo Weeks NoticeAntzCouples RetreatDays of ThunderCheaper by the Dozen 2Maze Runner: The Scorch TrialsEat Pray LoveThe Family ManREDAny Given SundayThe Horse WhispererCollateralThe Scorpion KingLadder 49Jack ReacherDeep Blue SeaThis Is ItContagionKangaroo JackCoralineThe HappeningMan on FireThe Shaggy DogStarsky & HutchJingle All the WayHellboyA Civil ActionParaNormanThe JackalPaycheckUp Close & PersonalThe Tale of DespereauxThe TuxedoUnder Siege 2: Dark TerritoryJack Ryan: Shadow RecruitJoyLondon Has FallenAlien: ResurrectionShooterThe BoxtrollsPractical MagicThe Lego MovieMiss Congeniality 2: Armed and FabulousReign of FireGangster SquadYear OneInvictusState of PlayDuplicityMy Favorite MartianThe SentinelPlanet 51Star Trek: NemesisIntolerable CrueltyTrouble with the CurveEdge of DarknessThe RelicAnalyze ThatRighteous KillMercury RisingThe SoloistThe Legend of Bagger VanceAlmost FamousGarfield: A Tail of Two KittiesxXx: State of the UnionPriestSinbad: Legend of the Seven SeasEvent HorizonDragonflyThe Black DahliaFlyboysThe Last CastleSupernovaWinter's TaleThe Mortal Instruments: City of BonesMeet DaveDark WaterEdtvInkheartThe SpiritMortdecaiIn the Name of the King: A Dungeon Siege TaleBeyond BordersThe Monkey King 2The Great RaidDeadpoolHoly ManAmerican SniperGoosebumpsJust Like HeavenThe Flintstones in Viva Rock VegasRambo IIILeatherheadsThe Ridiculous 6Did You Hear About the Morgans?The InternshipResident Evil: AfterlifeRed TailsThe Devil's AdvocateThat's My BoyDragonHeartAfter the SunsetGhost Rider: Spirit of VengeanceCaptain Corelli's MandolinThe PacifierWalking TallForrest GumpAlvin and the ChipmunksMeet the ParentsPocahontasSupermanThe Nutty ProfessorHitchGeorge of the JungleAmerican WeddingCaptain PhillipsDate NightCasperThe EqualizerMaid in ManhattanCrimson TideThe Pursuit of HappynessFlightplanDisclosureCity of AngelsKill Bill: Vol. 1BowfingerKill Bill: Vol. 2Tango & CashDeath Becomes HerShanghai NoonExecutive DecisionMr. Popper's PenguinsThe Forbidden KingdomFree BirdsAlien³EvitaRoninThe Ghost and the DarknessPaddingtonThe WatchThe HuntedInstinctStuck on YouSemi-ProThe Pirates! In an Adventure with Scientists!ChangelingChain ReactionThe FanThe Phantom of the OperaElizabeth: The Golden AgeÆon FluxGods and GeneralsTurbulenceImagine ThatMuppets Most WantedThunderbirdsBurlesqueA Very Long EngagementLolitaD-ToxBlade IISeven PoundsBullet to the HeadThe Godfather: Part IIIElizabethtownYou, Me and DupreeSuperman IIGigliAll the King's MenShaftAnastasiaMoulin Rouge!Domestic DisturbanceBlack MassFlags of Our FathersLaw Abiding CitizenGrindhouseBelovedLucky YouCatch Me If You CanZero Dark ThirtyThe Break-UpMamma Mia!Valentine's DayThe Dukes of HazzardThe Thin Red LineThe Change-UpMan on the MoonCasinoFrom Paris with LoveBulletproof MonkMe, Myself & IreneBarnyardDeck the HallsThe Twilight Saga: New MoonShrekThe Adjustment BureauRobin Hood: Prince of ThievesJerry MaguireTedAs Good as It GetsPatch AdamsAnchorman 2: The Legend ContinuesMr. DeedsSuper 8Erin BrockovichHow to Lose a Guy in 10 Days22 Jump StreetInterview with the VampireYes ManCentral IntelligenceStepmomDaddy's HomeInto the WoodsInside ManPaybackCongoWe Bought a ZooKnowingFailure to LaunchThe Ring TwoCrazy, Stupid, Love.GarfieldChristmas with the KranksMoneyballOutbreakNon-StopRace to Witch MountainV for VendettaShanghai KnightsCurious GeorgeHerbie Fully LoadedDon't Say a WordHansel & Gretel: Witch HuntersUnfaithfulI Am Number FourSyriana13 Hours: The Secret Soldiers of BenghaziThe Book of LifeFirewallAbsolute PowerG.I. JaneThe GameSilent HillThe ReplacementsAmerican ReunionThe NegotiatorInto the StormBeverly Hills Cop IIIGremlins 2: The New BatchThe JudgeThe PeacemakerResident Evil: ApocalypseBridget Jones: The Edge of ReasonOut of TimeOn Deadly GroundThe Adventures of Sharkboy and LavagirlThe BeachRaising HelenNinja AssassinFor Love of the GameStripteaseMarmadukeHereafterMurder by NumbersAssassinsHannibal RisingThe Story of UsThe HostThe HostBasicBlood WorkThe InternationalEscape from L.A.The Iron GiantThe Life Aquatic with Steve ZissouFree State of JonesThe Life of David GaleMan of the HouseRun All NightEastern PromisesInto the BlueThe Messenger: The Story of Joan of ArcYour HighnessDream HouseMad CityBaby's Day OutThe Scarlet LetterFair GameDominoJadeGamerBeautiful CreaturesDeath to SmoochyZoolander 2The Big BounceWhat Planet Are You From?Drive AngryStreet Fighter: The Legend of Chun-LiThe OneThe Adventures of Ford FairlaneThe Boat That RockedTrafficIndiana Jones and the Last CrusadeAnna KareninaChappieThe Bone CollectorPanic RoomThe Tooth FairyThree KingsChild 44Rat RaceK-PAXKate & LeopoldBedazzledThe Cotton Club3:10 to YumaTaken 3Out of SightThe Cable GuyEarthDick TracyThe Thomas Crown AffairRiding in Cars with BoysFirst BloodSolarisHappily N'Ever AfterMary ReillyMy Best Friend's WeddingAmerica's SweetheartsInsomniaStar Trek: First ContactJonah HexCourage Under FireLiar LiarThe InfiltratorInchonThe FlintstonesTaken 2Scary Movie 3Miss CongenialityJourney to the Center of the EarthThe Princess Diaries 2: Royal EngagementThe Pelican BriefThe ClientThe Bucket ListPatriot GamesMonster-in-LawPrisonersTraining DayGalaxy QuestScary Movie 2The MuppetsBladeCoach CarterChanging LanesAnacondaCoyote UglyLove ActuallyA Bug's LifeFrom HellThe SpecialistTin CupYours, Mine and OursKicking & ScreamingThe Hitchhiker's Guide to the GalaxyFat AlbertResident Evil: ExtinctionBlendedLast HolidayThe River WildThe Indian in the CupboardSavagesCellularJohnny EnglishThe Ant BullyDuneAcross the UniverseRevolutionary Road16 BlocksBabylon A.D.The Glimmer ManMultiplicityAliens in the AtticThe PledgeThe ProducersThe PhantomAll the Pretty HorsesNixonThe Ghost WriterDeep RisingMiracle at St. AnnaCurse of the Golden FlowerBangkok DangerousBig TroubleLove in the Time of CholeraShadow ConspiracyJohnny English RebornFoodfight!ArgoThe FugitiveThe Bounty HunterSleepersRambo: First Blood Part IIThe JurorPinocchioHeaven's GateUnderworld: EvolutionVictor FrankensteinFinding Forrester28 DaysUnleashedThe Sweetest ThingThe FirmCharlie St. CloudThe Mechanic21 Jump StreetNotting HillChicken RunAlong Came PollyBoomerangThe HeatCleopatraHere Comes the BoomHigh CrimesThe Mirror Has Two FacesThe Mothman PropheciesBrünoLicence to KillRed Riding Hood15 MinutesSuper Mario Bros.Lord of WarHeroOne for the MoneyThe InterviewThe Warrior's WayMicmacs8 MileWhy I Did (Not) Eat My FatherA Knight's TaleThe MedallionThe Sixth SenseMan on a LedgeThe Big YearThe Karate KidAmerican HustleThe ProposalDouble JeopardyBack to the Future Part IILucyFifty Shades of GreySpy Kids 3-D: Game OverA Time to KillCheaper by the DozenLone SurvivorA League of Their OwnThe Conjuring 2The Social NetworkHe's Just Not That Into YouScary Movie 4Scream 3Back to the Future Part IIIGet HardDraculaJulie & Julia42The Talented Mr. RipleyDumb and Dumber ToEight BelowThe InternRide Along 2The Last of the MohicansRaySin CityVantage PointI Love You, ManShallow HalJFKBig Momma's House 2The Mexican17 AgainThe Other WomanThe Final DestinationBridge of SpiesBehind Enemy LinesGet Him to the GreekShall We Dance?Small SoldiersSpawnThe Count of Monte CristoThe Lincoln LawyerUnknownThe PrestigeHorrible Bosses 2Escape from Planet EarthApocalyptoThe Living DaylightsPredatorsLegal EaglesSecret WindowThe Lake HouseThe Skeleton KeyThe Odd Life of Timothy GreenMade of HonorJersey BoysThe RainmakerGothikaAmistadMedicine ManAliens vs Predator: RequiemRi¢hie Ri¢hAutumn in New YorkMusic and LyricsPaulThe Guilt TripScream 48MMThe DoorsSex TapeHanging UpFinal Destination 5Mickey Blue EyesPay It ForwardFever PitchDrillbit TaylorA Million Ways to Die in the WestThe ShadowExtremely Loud & Incredibly CloseMorning GloryGet Rich or Die Tryin'The Art of WarRentBless the ChildThe Out-of-TownersThe Island of Dr. MoreauThe MusketeerThe Other Boleyn GirlSweet NovemberThe ReapingMean StreetsRenaissance ManColombianaQuest for CamelotCity By The SeaAt First SightTorqueCity HallShowgirlsMarie AntoinetteKiss of DeathGet CarterThe ImpossibleIshtarFantastic Mr. FoxLife or Something Like ItMemoirs of an Invisible ManAmélieNew York MinuteAlfieBig MiracleThe Deep End of the OceanFearDotComCirque du Freak: The Vampire's AssistantDuplexSoul MenRaise the TitanicUniversal Soldier: The ReturnPandorumImpostorExtreme OpsJust VisitingSunshineA Thousand WordsDelgoThe GunmanStormbreakerDisturbiaHackersThe Hunting PartyThe Hudsucker ProxyThe WarlordsNomad: The WarriorSnowpiercerA Monster in ParisThe Last ShotThe CrowBaahubali: The BeginningThe Time Traveler's WifeBecause I Said SoFrankenweenieSerenityAgainst the RopesSuperman IIIGrudge MatchRed CliffSweet Home AlabamaThe Ugly TruthSgt. BilkoSpy Kids 2: The Island of Lost DreamsStar Trek: GenerationsThe GrandmasterWater for ElephantsDragon Nest: Warriors' DawnThe HurricaneEnoughHeartbreakersPaul Blart: Mall Cop 2Angel EyesJoe SomebodyThe Ninth GateExtreme MeasuresRock StarPreciousWhite SquallThe ThingRiddickSwitchbackTexas RangersCity of EmberThe MasterVirgin TerritoryThe ExpressThe 5th WaveCreedThe TownWhat to Expect When You're ExpectingBurn After ReadingNim's IslandRushMagnoliaCop OutHow to Be SingleDolphin TaleTwilightJohn QBlue StreakWe're the MillersThe Inhabited IslandBreakdownNever Say Never AgainHot Tub Time MachineDolphin Tale 2Reindeer GamesA Man ApartAlohaGhosts of MississippiSnow Falling on CedarsThe RiteGattacaIsn't She GreatSpace ChimpsHead of StateThe HangoverIp Man 3Austin Powers: The Spy Who Shagged MeBatmanBatmanThere Be DragonsLethal Weapon 3The Blind SideSpy KidsHorrible BossesTrue GritThe Devil Wears PradaStar Trek: The Motion PictureIdentity ThiefCape Fear21TrainwreckGuess WhoThe English PatientL.A. ConfidentialSky HighIn & OutSpeciesA Nightmare on Elm StreetThe CellThe Man in the Iron MaskSecretariatTMNTRadioFriends with BenefitsNeighbors 2: Sorority RisingSaving Mr. BanksMalcolm XThis Is 40Old DogsUnderworld: Rise of the LycansLicense to WedThe BenchwarmersMust Love DogsDonnie BrascoResident EvilPoltergeistThe LadykillersMax PayneIn TimeThe Back-Up PlanSomething BorrowedBlack KnightThe Bad News BearsStreet FighterThe PianistThe Nativity StoryHouse of WaxCloserJ. EdgarMirrorsQueen of the DamnedPredator 2UntraceableBlast from the PastFlash GordonJersey GirlAlex CrossMidnight in the Garden of Good and EvilHeistNanny McPhee and the Big BangHoffaThe X Files: I Want to BelieveElla EnchantedConcussionAbductionValiantWonder BoysSuperhero MovieBroken CityCursedPremium RushHot PursuitThe Four FeathersParkerWimbledonFurry VengeanceBaitKrullLions for LambsFlight of the IntruderWalk Hard: The Dewey Cox StoryThe Shipping NewsAmerican OutlawsThe Young VictoriaWhiteoutThe Tree of LifeKnock OffSabotageThe OrderPunisher: War ZoneZoomThe WalkWarriors of VirtueA Good YearRadio FlyerBound by HonorSmilla's Sense of SnowFemme FataleLion of the DesertThe Horseman on the RoofRide with the DevilBiutifulBandidasBlack Water TransitThe Maze RunnerUnfinished BusinessThe Age of InnocenceThe FountainChill FactorStolenPonyoThe Longest RideThe Astronaut's WifeI Dreamed of AfricaPlaying for KeepsMandela: Long Walk to FreedomRedsA Few Good MenExit WoundsBig Momma's HouseThunder and the House of MagicThe Darkest HourStep Up RevolutionSnakes on a PlaneThe WatcherThe PunisherGoal!: The Dream BeginsSafePushing TinReturn of the JediDoomsdayThe ReaderWanderlustElfPhenomenonSnow DogsScroogedNacho LibreBridesmaidsThis Is the EndStigmataMen of HonorTakersThe Big WeddingBig Mommas: Like Father, Like SonSource CodeAliveThe Number 23The Young and Prodigious T.S. Spivet1941Dreamer: Inspired By a True StoryA History of ViolenceTransporter 2The Quick and the DeadLaws of AttractionBringing Out the DeadRepo MenDragon Wars: D-WarBogusThe Incredible Burt WonderstoneCats Don't DanceCradle Will RockThe Good GermanGeorge and the DragonApocalypse NowGoing the DistanceMr. Holland's OpusCriminalOut of AfricaFlightMoonrakerThe Grand Budapest HotelHearts in AtlantisArachnophobiaFrequencyVacationGet ShortyChicagoBig DaddyAmerican Pie 2Toy StorySpeedThe VowExtraordinary MeasuresRemember the TitansThe Hunt for Red OctoberThe ButlerDodgeBall: A True Underdog StoryThe Addams FamilyAce Ventura: When Nature CallsThe Princess DiariesThe First Wives ClubSe7enDistrict 9The SpongeBob SquarePants MovieMystic RiverMillion Dollar BabyAnalyze ThisThe Notebook27 DressesHannah Montana: The MovieRugrats in Paris: The MovieThe Prince of TidesLegends of the FallUp in the AirAbout SchmidtWarm BodiesLooperDown to EarthBabeHope SpringsForgetting Sarah MarshallFour BrothersBaby MamaHope FloatsBride WarsWithout a Paddle13 Going on 30Midnight in ParisThe Nut JobBlowMessage in a BottleStar Trek V: The Final FrontierLike MikeThe Naked Gun 33⅓: The Final InsultA View to a KillThe Curse of the Were-RabbitP.S. I Love YouRacing StripesAtonementLetters to JulietBlack RainThe Three StoogesCorpse BrideGlory RoadSicarioSouthpawDrag Me to HellThe Age of AdalineSecondhand LionsStep Up 3DBlue CrushStranger Than Fiction30 Days of NightThe Cabin in the WoodsMeet the SpartansMidnight RunThe Running ManLittle Shop of HorrorsHannaMortal Kombat: AnnihilationLarry CrowneCarrieTake the LeadGridiron GangWhat's the Worst That Could Happen?9Side EffectsThe Prince & MeWinnie the PoohDumb and Dumberer: When Harry Met LloydBulworthGet on UpOne True ThingVirtuosityMy Super Ex-GirlfriendDeliver Us from EvilSanctumLittle Black BookThe Five-Year EngagementMr. 3000The Next Three DaysUltravioletAssault on Precinct 13The Replacement KillersFledEight Legged FreaksLove & Other Drugs88 MinutesNorth CountryThe Whole Ten YardsSpliceHoward the DuckPride and GloryThe CaveAlex & EmmaWicker ParkFright NightThe New WorldWing CommanderIn DreamsDragonball EvolutionThe Last StandGodsendChasing LibertyHoodwinked Too! Hood VS. EvilAn Unfinished LifeThe Imaginarium of Doctor ParnassusBarney's VersionRunner RunnerAntitrustGloryOnce Upon a Time in AmericaDead Man DownThe Merchant of VeniceThe Good ThiefSupercrossMiss PotterThe PromiseDOA: Dead or AliveThe Assassination of Jesse James by the Coward Robert Ford1911Little NicholasWild CardMachine Gun PreacherAnimals UnitedGoodbye BafanaUnited PassionsGrace of MonacoSavva. Heart of the WarriorRipley's GameSausage PartyPitch Perfect 2Walk the LineKeeping the FaithThe BorrowersFrost/NixonConfessions of a Dangerous MindServing SaraThe BossCry FreedomMumfordSeed of ChuckyThe JacketAladdinStraight Outta ComptonIndiana Jones and the Temple of DoomThe Rugrats MovieAlong Came a SpiderFlorence Foster JenkinsOnce Upon a Time in MexicoDie HardRole ModelsThe Big ShortTaking WoodstockMiracleDawn of the DeadThe Wedding PlannerSpace Pirate Captain HarlockThe Royal TenenbaumsIdentityLast VegasFor Your Eyes OnlySerendipityTimecopZoolanderSafe HavenHocus PocusNo ReservationsKick-Ass30 Minutes or LessDracula 2000Alexander and the Terrible, Horrible, No Good, Very Bad DayPride & PrejudiceBlade RunnerRob Roy3 Days to KillWe Own the NightLost SoulsWinged MigrationJust My LuckMystery, AlaskaThe Spy Next DoorA Simple WishGhosts of MarsOur Brand Is CrisisPride and Prejudice and ZombiesKundunHow to Lose Friends & Alienate PeopleKick-Ass 2AlatristeBrick MansionsOctopussyKnocked UpMy Sister's KeeperWelcome Home Roscoe JenkinsA Passage to IndiaNotes on a ScandalRenditionStar Trek VI: The Undiscovered CountryDivine Secrets of the Ya-Ya SisterhoodKiss the GirlsThe Blues BrothersThe Sisterhood of the Traveling Pants 2Joyful NoiseAbout a BoyLake PlacidLucky Number SlevinThe Right StuffAnonymousThe NeverEnding StoryDark CityThe DuchessReturn to OzThe Newton BoysCase 39Suspect ZeroMartian ChildSpy Kids: All the Time in the WorldMoney MonsterThe 51st StateFlawlessMindhuntersWhat Just HappenedThe StatementThe Magic FlutePaul Blart: Mall CopFreaky FridayThe 40 Year Old VirginShakespeare in LoveA Walk Among the TombstonesKindergarten CopPineapple ExpressEver After: A Cinderella StoryOpen RangeFlatlinersA Bridge Too FarRed EyeFinal Destination 2O Brother, Where Art Thou?LegionPain & GainIn Good CompanyClockstoppersSilveradoBrothersAgent Cody Banks 2: Destination LondonNew Year's EveOriginal SinThe RavenWelcome to MooseportHighlander: The Final DimensionBlood and WineSnow White: A Tale of TerrorThe Curse of the Jade ScorpionAccidental LoveFlipperSelf/lessThe Constant GardenerThe Passion of the ChristMrs. DoubtfireRain ManGran TorinoW.TakenThe Best of MeThe BodyguardSchindler's ListThe HelpThe Fifth EstateScooby-Doo 2: Monsters UnleashedForbidden KingdomFreddy vs. JasonThe Face of an AngelJimmy Neutron: Boy GeniusCloverfieldTeenage Mutant Ninja Turtles II: The Secret of the OozeThe UntouchablesNo Country for Old MenRide AlongBridget Jones's DiaryChocolatLegally Blonde 2: Red, White & BlondeParental GuidanceNo Strings AttachedTombstoneRomeo Must DieThe OmenFinal Destination 3The Lucky OneBridge to TerabithiaFinding NeverlandA Madea ChristmasThe GreyHide and SeekAnchorman: The Legend of Ron BurgundyGoodFellasAgent Cody BanksNanny McPheeScarfaceNothing to LoseThe Last EmperorContrabandMoney TalksThere Will Be BloodThe Wild Thornberrys MovieRugrats Go WildUndercover BrotherThe Sisterhood of the Traveling PantsKiss of the DragonThe House BunnyBeauty ShopMillion Dollar ArmThe GiverWhat a Girl WantsJeepers Creepers 2Good Luck ChuckCradle 2 the GraveThe HoursShe's the ManMr. Bean's HolidayAnacondas: The Hunt for the Blood OrchidBlood TiesAugust RushElizabethBride of ChuckyTora! Tora! Tora!Spice WorldThe SitterDance FlickThe Shawshank RedemptionCrocodile Dundee in Los AngelesKingpinThe GamblerAugust: Osage CountyIce PrincessA Lot Like LoveEddie the EagleHe Got GameDon Juan DeMarcoDear JohnThe LosersDon't Be Afraid of the DarkWarPunch-Drunk LoveEuroTripHalf Past DeadUnaccompanied MinorsBright Lights, Big CityThe Adventures of PinocchioThe Greatest Game Ever PlayedThe BoxThe RuinsThe Next Best ThingMy Soul to TakeThe Girl Next DoorMaximum RiskStealing HarvardLegendHot RodShark NightAngela's AshesDraft DayLifeforceThe ConspiratorLords of DogtownThe 33Big Trouble in Little ChinaFly Me to the MoonWarriorMichael CollinsGettysburgStop-LossAbandonBrokedown PalaceThe PossessionMrs. WinterbourneStraw DogsThe HoaxStone ColdThe RoadSheenaUnderclassmanSay It Isn't SoThe World's Fastest IndianTank GirlKing's RansomBlindnessBloodRayneCarnageWhere the Truth LiesCirque du Soleil: Worlds AwayWithout LimitsMe and Orson WellesThe Best OfferThe Bad Lieutenant: Port of Call - New OrleansA Turtle's Tale: Sammy's AdventuresLittle White LiesLove RanchThe True Story of Puss 'n BootsSpace DogsThe CounselorIroncladWaterlooKung Fu JungleRed SkyDangerous LiaisonsOn the RoadStar Trek IV: The Voyage HomeRocky BalboaScream 2Jane Got a GunThink Like a Man TooThe Whole Nine YardsFootlooseOld SchoolThe Fisher KingI Still Know What You Did Last SummerReturn to MeZack and Miri Make a PornoNurse BettyThe Men Who Stare at GoatsDouble TakeGirl, InterruptedWin a Date with Tad Hamilton!Muppets from SpaceThe WizReady to RumblePlay It to the BoneI Don't Know How She Does ItPiranha 3DBeyond the SeaMeet the DeedlesThe Thief and the CobblerThe Bridge of San Luis ReyFasterHowl's Moving CastleZombielandThe WaterboyThe Empire Strikes BackBad BoysThe Naked Gun 2½: The Smell of FearFinal DestinationThe Ides of MarchPitch BlackSomeone Like You...HerJoy RideThe Adventurer: The Curse of the Midas BoxAnywhere But HereThe CrewHaywireJaws: The RevengeMarvin's RoomThe LongshotsThe End of the AffairHarley Davidson and the Marlboro ManIn the Valley of ElahCoco Before ChanelForsakenCheriVanity FairBodyguards and Assassins1408SpaceballsThe Water DivinerGhostThere's Something About MaryThe Santa ClauseThe RookieThe Game PlanThe Bridges of Madison CountyThe AnimalGandhiThe Hundred-Foot JourneyThe NetI Am SamSon of GodUnderworldDerailedThe Informant!ShadowlandsDeuce Bigalow: European GigoloDelivery ManOur Kind of TraitorSaving SilvermanDiary of a Wimpy Kid: Dog DaysSummer of SamJay and Silent Bob Strike BackThe Glass HouseHail, Caesar!Josie and the PussycatsHomefrontThe Little VampireI Heart HuckabeesRoboCop 3Megiddo: The Omega Code 2Darling LiliDudley Do-RightThe Transporter RefueledThe LibertineBlack BookJoyeux NoëlHit & RunMad MoneyBefore I Go to SleepSorcererStoneMoliereOut of the FurnaceMichael ClaytonMy Fellow AmericansArlington RoadUnderdogsTo Rome with LoveFirefoxSouth Park: Bigger, Longer & UncutDeath at a FuneralTeenage Mutant Ninja Turtles IIIHardballSilver Linings PlaybookFreedom WritersFor Colored GirlsThe TransporterNever Back DownThe Rage: Carrie 2Away We GoSwing VoteMoonlight MileTinker Tailor Soldier SpyMollyThe BeaverThe Best Little Whorehouse in TexaseXistenZRaiders of the Lost ArkHome Alone 2: Lost in New YorkClose Encounters of the Third KindPulseBeverly Hills Cop IIBringing Down the HouseThe Silence of the LambsWayne's WorldJackass 3DJaws 2Beverly Hills ChihuahuaThe ConjuringAre We There Yet?TammySchool of RockMortal KombatWhite ChicksThe DescendantsHolesThe Last Song12 Years a SlaveDrumlineWhy Did I Get Married Too?Edward ScissorhandsMe Before YouMadea's Witness ProtectionThe French ConnectionBad MomsDate MovieReturn to Never LandSelmaThe Jungle Book 2BoogeymanPremonitionThe Tigger MovieOrphanMaxEpic MovieSpotlightLakeview TerraceThe Grudge 2How Stella Got Her Groove BackBill & Ted's Bogus JourneyMan of the YearThe Black HoleThe AmericanSelenaVampires SuckBabelThis Is Where I Leave YouDoubtTeam America: World PoliceTexas Chainsaw 3DCopycatScary Movie 5Paint Your WagonMilkRisenGhost ShipA Very Harold & Kumar ChristmasWild ThingsThe StepfatherThe DebtHigh FidelityOne Missed CallEye for an EyeThe Bank JobEternal Sunshine of the Spotless MindYou AgainStreet KingsThe World's EndNancy DrewDaybreakersShe's Out of My LeagueMonte CarloStay AliveQuigley Down UnderAlpha and OmegaThe CovenantStick ItShortsTo Die ForNerveAppaloosaVampiresPsychoMy Best Friend's GirlEndless LoveGeorgia RuleUnder the RainbowLadyhawkeSimon BirchReign Over MeInto the WildSchool for ScoundrelsSilent Hill: Revelation 3DFrom Dusk Till DawnPooh's Heffalump MovieHome for the HolidaysKung Fu HustleThe Country BearsThe Kite Runner21 GramsPaparazziA Guy ThingLoserCapitalism: A Love StoryThe Greatest Story Ever ToldSecret in Their EyesDisaster MovieArmoredThe Man Who Knew Too LittleWhat's Your Number?LockoutEnvyCrank: High VoltageBullets Over BroadwayOne Night with the KingThe Quiet AmericanThe Weather ManUndisputedGhost Town12 RoundsLet Me In3 Ninjas Kick BackBe Kind RewindMrs Henderson PresentsTriple 9Deconstructing HarryThree to TangoBurntWe're No AngelsEveryone Says I Love YouDeath SentenceEverybody's FineSuperbabies: Baby Geniuses 2The ManCode Name: The CleanerConnie and CarlaSweet CharityInherent ViceDoogalBattle of the YearAn American CarolMachete KillsWillardStrange WildernessTopsy-TurvyLittle BoyA Dangerous MethodA Scanner DarklyChasing MavericksAlone in the DarkBandslamBirthA Most Violent YearPasschendaeleFlash of GeniusI'm Not There.The Cold Light of DayThe Brothers BloomSynecdoche, New YorkPrincess MononokeBon voyageCan't Stop the MusicThe PropositionMy All AmericanMarci XEquilibriumThe Children of Huang ShiThe YardsThe Oogieloves in the Big Balloon AdventureBy the SeaSteamboyThe Game of Their LivesAll Good ThingsRapa NuiCJ7The Visitors II: The Corridors of TimeDylan Dog: Dead of NightPeople I KnowThe TempestRegressionThree Kingdoms: Resurrection of the DragonButterfly on a WheelZambeziaRamanujanDwegonsHands of StoneSurvivorThe Frozen GroundThe Painted VeilThe Baader Meinhof ComplexDances with WolvesBad TeacherSea of LoveA Cinderella StoryScreamThir13en GhostsThe ShiningBack to the FutureHouse on Haunted HillI Can Do Bad All By MyselfFight ValleyThe SwitchJust MarriedThe Devil's DoubleThomas and the Magic RailroadThe CraziesSpirited AwayFirestormThe BountyThe Book ThiefSex DriveLeap YearThe Fall of the Roman EmpireTake Me Home TonightWon't Back DownThe NutcrackerKansas CityIndignationThe Amityville HorrorAdaptation.Land of the DeadOut of InfernoFear and Loathing in Las VegasThe Invention of LyingNeighborsThe MaskBigBorat: Cultural Learnings of America for Make Benefit Glorious Nation of KazakhstanLegally BlondeStar Trek III: The Search for SpockThe Exorcism of Emily RoseDeuce Bigalow: Male GigoloLeft BehindThe Family StoneBarbershop 2:  Back in BusinessBad SantaAustin Powers: International Man of MysteryMy Big Fat Greek Wedding 2Diary of a Wimpy Kid: Rodrick RulesPredatorAmadeusProm NightMean GirlsUnder the Tuscan SunGosford ParkPeggy Sue Got MarriedBirdmanBlue JasmineUnited 93HoneySpy HardThe FogSoul SurferCatch-22Observe and ReportConan the DestroyerRaging BullLove HappensYoung Sherlock HolmesFame127 HoursSmall Time CrooksCenter StageLove the CoopersCatch That KidLife as a HouseSteve JobsI Love You, Beth CooperYouth in RevoltThe Legend of the Lone RangerThe Tailor of PanamaBlow OutGetawayThe Ice StormAnd So It GoesTroop Beverly HillsBeing JuliaNine 1/2 WeeksDragonslayerThe Last StationEd WoodLabor DayMongol: The Rise of Genghis KhanRockNRollaMegaforceHamletMao's Last DancerMidnight SpecialAnything ElseThe Railway ManThe White RibbonRestorationThe WraithSalton SeaMetallica: Through the NeverThe InformersCarlosI Come with the RainOne Man's HeroDay of the DeadI Am WrathRenaissanceRed SonjaRed LightsSuperbadMadea Goes to JailWolvesStep Up 2: The StreetsHoodwinked!Hotel RwandaHitmanBlack NativityThe PrinceCity of GhostsThe OthersAliensMy Fair LadyI Know What You Did Last SummerLet's Be CopsSidewaysBeerfestHalloweenGood Boy!The Best Man HolidaySmokin' AcesSaw: The Final Chapter40 Days and 40 NightsA Night at the RoxburyBeastlyThe Hills Have EyesDickie Roberts: Former Child StarMcFarland, USALottery TicketATLPitch PerfectSummer CatchA Simple PlanTheyLarry the Cable Guy: Health InspectorThe Adventures of Elmo in GrouchlandBrooklyn's Finest55 Days at PekingEvil DeadMy Life in RuinsAmerican DreamzSuperman IV: The Quest for PeaceHow She MoveRunning ScaredBobby Jones: Stroke of GeniusShanghai SurpriseThe IllusionistRoarVeronica GuerinEscobar: Paradise LostSouthland TalesDragon HuntersDamnation AlleyThe ApparitionMy GirlFur: An Imaginary Portrait of Diane ArbusWall StreetSense and SensibilityBecoming JaneSydney WhiteHouse of Sand and FogDead Poets SocietyDumb and DumberWhen Harry Met Sally...The VerdictRoad TripVarsity BluesThe ArtistThe UnbornMoonrise KingdomThe Texas Chainsaw Massacre: The BeginningThe Young MessiahThe Master of DisguisePan's LabyrinthSee Spot RunBaby BoyThe RoommateJoe DirtDouble ImpactHot FuzzThe WomenVicky Cristina BarcelonaArn: The Knight TemplarBoys and GirlsWhite OleanderJennifer's BodyDrowning MonaRadio DaysRemember MeHow to DealMy Stepmother is an AlienPhiladelphiaThe Thirteenth FloorThe CookoutMeteorDuetsHollywood EndingDetroit Rock CityHighlanderThings We Lost in the FireSteelThe ImmigrantThe White CountessTranceSoul PlaneWelcome to the SticksGoodEnter the VoidVampsHachi: A Dog's TaleZuluThe HomesmanJuwanna MannAraratMadisonSlow BurnWasabiSlitherBeverly Hills CopHome AloneThree Men and a BabyTootsieTop GunCrouching Tiger, Hidden DragonAmerican BeautyThe King's SpeechTwinsThe Yellow HandkerchiefThe Color PurpleTidal WaveThe Imitation GamePrivate BenjaminCoal Miner's DaughterDiary of a Wimpy KidMamaNational Lampoon's VacationBad GrandpaThe QueenBeetlejuiceWhy Did I Get Married?Little WomenThe Woman in BlackWhen a Stranger CallsBig Fat LiarThe Deer HunterWag the DogThe Lizzie McGuire MovieSnitchKrampusThe FacultyWhat's Love Got to Do with ItCop LandNot Another Teen MovieEnd of WatchThe SkullsThe Theory of EverythingMalibu's Most WantedWhere the Heart IsLawrence of ArabiaHalloween IIWildThe Last House on the LeftThe Wedding DateHalloween: ResurrectionThe Princess BrideThe Great DebatersDriveConfessions of a Teenage Drama QueenThe Object of My Affection28 Weeks LaterWhen the Game Stands TallBecause of Winn-DixieLove & BasketballGrosse Pointe BlankAll About SteveBook of Shadows: Blair Witch 2The CraftMatch PointRamona and BeezusThe Remains of the DayBoogie NightsNowhere to RunFlickaThe Hills Have Eyes 2Urban Legends: Final CutTuck EverlastingThe MarineKeanuCountry StrongDisturbing BehaviorThe Place Beyond the PinesThe November ManEye of the BeholderThe Hurt LockerFirestarterKilling Them SoftlyA Most Wanted ManFreddy Got FingeredVeggieTales: The Pirates Who Don't Do AnythingU2 3DHighlander: EndgameIdlewildOne DayWhip ItKnockaround GuysConfidenceThe MuseDe-LovelyNew York StoriesBarney's Great AdventureThe Man with the Iron FistsHome FriesHere On EarthBrazilRaise Your VoiceThe Big LebowskiBlack Snake MoanDark BlueA Mighty HeartWhatever It TakesBoat TripThe Importance of Being EarnestThe Love LetterHootIn BrugesPeeplesThe RockerPost GradPromised LandWhatever WorksThe In CrowdThe Three Burials of Melquiades EstradaJakob the LiarKiss Kiss Bang BangIdle HandsMulholland DriveBlood and ChocolateYou Will Meet a Tall Dark StrangerNever Let Me GoThe CompanyTranssiberianThe Clan of the Cave BearCrazy in AlabamaFunny GamesListeningFelicia's JourneyMetropolisDistrict B13Things to Do in Denver When You're DeadThe AssassinBuffalo SoldiersThe ReturnOng Bak 2CenturionSilent TriggerThe Midnight Meat TrainWinnie MandelaThe Son of No OneAll The Queen's MenThe Good NightBathory: Countess of BloodKhumbaAutomataDungeons & Dragons: Wrath of the Dragon GodShinjuku IncidentPandaemoniumGroundhog DayMagic Mike XXLRomeo + JulietSarah's KeyFreedomUnforgivenManderlaySlumdog MillionaireFatal AttractionPretty WomanCrocodile Dundee IIBroken HorsesBorn on the Fourth of JulyCool RunningsMy Bloody ValentineStomp the YardThe Spy Who Loved MeUrban LegendGood DeedsWhite FangSuperstarThe Iron LadyJonah: A VeggieTales MoviePoetic JusticeAll About the BenjaminsVampire in BrooklynExorcist II: The HereticAn American HauntingMy Boss's DaughterA Perfect GetawayOur Family WeddingDead Man on CampusTea with MussoliniThinnerNew York, New YorkCrooklynI Think I Love My WifeJason XBobbyHead Over HeelsFun SizeThe Diving Bell and the ButterflyLittle ChildrenGossipA Walk on the MoonCatch a FireSoul SurvivorsJefferson in ParisEasy VirtueCaravansMr. TurnerWild GrassAmen.Reign of AssassinsThe Lucky OnesMargaretStan HelsingFlippedBrokeback MountainCluelessFar from HeavenHot Tub Time Machine 2QuillsSeven PsychopathsThe Caveman's ValentineDownfallThe Sea InsideUnder the SkinGood Morning, VietnamThe Last GodfatherJustin Bieber: Never Say NeverBlack SwanThe Godfather: Part IISave the Last DanceA Nightmare on Elm Street 4: The Dream MasterMiracles from HeavenDude, Where’s My Car?Young GunsSt. VincentAbout Last Night10 Things I Hate About YouThe New GuyNational Lampoon's Loaded Weapon 1The ShallowsThe Butterfly EffectSnow DayThis ChristmasBaby GeniusesThe Big HitHarriet the SpyChild's Play 2No Good DeedThe MistEx MachinaBeing John MalkovichTwo Can Play That GameEarth to EchoCrazy/BeautifulLetters from Iwo JimaThe Astronaut FarmerWooRoomDirty WorkSerial MomDickLight It Up54Bubble BoyBirthday Girl21 & OverParis, je t'aimeResurrecting the ChampAdmissionThe Widow of Saint-PierreChloeFaithfulFind Me GuiltyThe Perks of Being a WallflowerExcessive ForceInfamousThe ClaimThe Vatican TapesAttack the BlockIn the Land of Blood and HoneyThe CallOperation ChromiteThe Crocodile Hunter: Collision CourseI Love You Phillip MorrisQuest for FireAntwone FisherThe Emperor's ClubTrue RomanceWombGlengarry Glen RossThe Killer Inside MeCat PeopleSorority RowThe Prisoner of ZendaLars and the Real GirlThe Boy in the Striped PyjamasDancer in the DarkOscar and LucindaThe FuneralSolitary ManMacheteCasino JackThe Land Before TimeTae Guk Gi: The Brotherhood of WarThe Perfect GameThe ExorcistJawsAmerican PieErnest & CelestineThe Golden ChildThink Like a ManBarbershopStar Trek II: The Wrath of KhanAce Ventura: Pet DetectiveWarGamesWitnessAct of ValorStep UpBeavis and Butt-Head Do AmericaJackie BrownHarold & Kumar Escape from Guantanamo BayChronicleYentlTime BanditsCrossroadsProject XPattonOne Hour PhotoQuarantineThe EyeJohnson Family VacationHow HighThe Muppet Christmas CarolFridaKaty Perry: Part of MeThe Fault in Our StarsRoundersTop FiveProphecyStir of EchoesPhilomenaThe Upside of AngerThe Boys from BrazilAquamarinePaper TownsMy Baby's DaddyNebraskaTales from the Crypt: Demon KnightMax Keeble's Big MoveYoung AdultCrankDef Jam's How to Be a PlayerLiving Out LoudJust WrightRachel Getting MarriedThe Postman Always Rings TwiceGirl with a Pearl EarringDas BootSorority BoysAbout TimeHouse of Flying DaggersArbitrageProject AlmanacCadillac RecordsScrewedFortressFor Your ConsiderationCelebrityRunning with ScissorsFrom Justin to KellyGirl 6In the CutTwo LoversLast OrdersThe HostThe HostThe Pursuit of D.B. CooperRavenousCharlie BartlettThe Great BeautyThe Dangerous Lives of Altar BoysStoker2046Married LifeDumaOndineBrotherWelcome to CollinwoodCritical CareThe Life Before Her EyesDarling CompanionTradeFatelessBreakfast of ChampionsA Woman, a Gun and a Noodle ShopCypherCity of Life and DeathLegend of a RabbitSpace Battleship Yamato5 Days of WarTriangle10 Days in a MadhouseHeaven is for RealSnatchDancin' It's OnPet SemataryMadadayoThe Cry of the OwlA Tale of Three CitiesGremlinsStar WarsDirty GrandpaDoctor ZhivagoTrashHigh School Musical 3: Senior YearThe FighterJackass Number TwoMy Cousin VinnyIf I StayDrive HardMajor LeagueSt. Trinian'sPhone BoothA Walk to RememberDead Man WalkingCruel IntentionsSaw VIHistory of the World: Part IThe Secret Life of BeesCorky RomanoRaising CainF.I.S.T.Invaders from MarsBrooklynBarry LyndonOut ColdThe Ladies ManQuartetTomcatsFrailtyWoman in GoldKinseyArmy of DarknessSlackersWhat's Eating Gilbert GrapeThe Visual Bible: The Gospel of JohnVera DrakeThe GuruThe Perez FamilyInside Llewyn DavisOReturn to the Blue LagoonThe Molly MaguiresRomance & CigarettesCopying BeethovenBrighton RockSaw VMachine Gun McCainLOLJindabyneKabhi Alvida Naa KehnaAn Ideal HusbandThe Last Days on MarsDarkness2001: A Space OdysseyE.T. the Extra-TerrestrialIn the Land of WomenThe Blue ButterflyThere Goes My BabyHousefullSeptember DawnFor Greater Glory - The True Story of CristiadaThe Bélier FamilyGood Will HuntingMisconductSaw IIIStripesBring It OnThe Purge: Election YearShe's All ThatSaw IVWhite NoiseMadea's Family ReunionThe Color of MoneyThe Longest DayThe Mighty DucksThe GrudgeHappy GilmoreJeepers CreepersBill & Ted's Excellent AdventureOliver!The Best Exotic Marigold HotelRecess: School's OutMad Max Beyond ThunderdomeCommandoThe BoyDevilFriday After NextInsidious: Chapter 3The Last DragonThe Lawnmower ManNick and Norah's Infinite PlaylistDogmaThe Banger SistersTwilight Zone: The MovieRoad HouseA Low Down Dirty ShameSwimfanEmployee of the MonthCan't Hardly WaitThe OutsidersPete's DragonThe Dead ZoneSinister 2SparkleValentineThe Fourth KindA Prairie Home CompanionSugar HillInvasion U.S.A.Roll BounceRushmoreSkylineThe Second Best Exotic Marigold HotelKit Kittredge: An American GirlThe Perfect ManMo' Better BluesKung Pow: Enter the FistTremorsWrong TurnThe Long RidersThe CorruptorMudReno 911!: MiamiOne Direction: This Is UsThe Goods: Live Hard, Sell HardHey Arnold! The MovieMy Week with MarilynThe MatadorLove JonesThe GiftEnd of the SpearGet Over ItOffice SpaceDrop Dead GorgeousBig EyesVery Bad ThingsSleepoverBody DoubleMacGruberDirty Pretty ThingsMovie 43Over Her Dead BodySeeking a Friend for the End of the WorldCedar RapidsAmerican History XThe CollectionTeacher's PetThe Red ViolinThe Straight StoryDeuces WildBad WordsRun, Fatboy, RunHeartbeepsBlack or WhiteOn the LineRescue DawnDanny CollinsJeff, Who Lives at HomeI Am LoveAtlas Shrugged Part IIRomeo Is BleedingThe LimeyCrashThe House of MirthMalonePeaceful WarriorBucky Larson: Born to Be a StarBamboozledThe ForestSphinxWhile We're YoungA Better LifeSpiderGun ShyNicholas NicklebyThe IcemanKrrishCecil B. DementedKiller JoeThe JonesesOwning MahownyThe Brothers SolomonMy Blueberry NightsIlluminataSwept AwayWar, Inc.Shaolin SoccerThe Brown BunnyThe SwindleRosewaterThe Chambermaid on the TitanicCoriolanusImaginary HeroesHigh Heels and Low LifesWorld's Greatest DadSeveranceEdmondWelcome to the RileysPolice Academy: Mission to MoscowBlood Done Sign My NameCinco de Mayo: La BatallaElsa & FredAn Alan Smithee Film: Burn, Hollywood, BurnThe Open RoadThe Good GuyMotherhoodFree StyleStrangerlandJanky PromotersBlonde AmbitionThe Oxford MurdersThe ReefEulogyWhite Noise 2: The LightBeat the WorldFifty Dead Men WalkingJungle ShuffleAdam ResurrectedOf Horses and MenIt's a Wonderful AfterlifeThe Devil's TombPartitionGood IntentionsThe Good, The Bad, The WeirdNurse 3-DGunlessAdventurelandThe Lost CityNext FridayAmerican HeistYou Only Live TwicePlasticAmourPoltergeist IIIRe-KillIt's a Mad, Mad, Mad, Mad WorldVolverHeavy MetalGentlemen BroncosRichard IIIInto the Grizzly MazeKitesMelancholiaRed DogJab Tak Hai JaanAlienThe Texas Chain Saw MassacreThe RunawaysFiddler on the RoofThunderballDetentionLoose CannonsSet It OffThe Best ManChild's PlaySickoThe Purge: AnarchyDown to YouHarold & Kumar Go to White CastleThe ContenderBoiler RoomTrading PlacesBlack ChristmasBreakin' All the RulesHenry VThe SavagesChasing PapiThe Way of the GunIgby Goes DownPCUThe Ultimate GiftThe Ice PiratesGracieTrust the ManHamlet 2Velvet GoldmineThe WailingGlee: The Concert MovieThe Legend of SuriyothaiTwo Evil EyesBarbecueAll or NothingPrincess KaiulaniOpal DreamFlame & CitronUndiscoveredRed Riding: In the Year of Our Lord 1974The Girl on the TrainVeronika Decides to DieCrocodile DundeeUltramarines: A Warhammer 40,000 MovieThe I InsideBeneath Hill 60PolisseAwakeStar Wars: Clone Wars: Volume 1Skin TradeThe Lost BoysCrazy HeartThe RoseBaggage ClaimBarbarellaShipwreckedElectionThe NamesakeThe DUFFGlitterThe Haunting in Connecticut 2: Ghosts of GeorgiaSilmidoBright StarMy Name Is KhanAll Is LostLimboNamastey LondonThe Wind That Shakes the BarleyYeh Jawaani Hai DeewaniQuo VadisRepo! The Genetic OperaValley of the Wolves: IraqPulp FictionThe Muppet MovieNightcrawlerClub DreadThe Sound of MusicSplashLittle Miss SunshineStand by Me28 Days LaterYou Got ServedEscape from AlcatrazBrown SugarA Thin Line Between Love and Hate50/50ShutterThat Awkward MomentModern ProblemsKicksMuch Ado About NothingOn Her Majesty's Secret ServiceNew NightmareDrive Me CrazyAkeelah and the BeeHalf BakedNew in TownAmerican PsychoThe Good GirlBon Cop Bad CopThe Boondock Saints II: All Saints DayThe City of Your Final DestinationEnough SaidEasy AThe InkwellShadow of the VampirePromThe PallbearerHeld UpWoman on TopHowards EndAnomalisaAnother Year8 WomenShowdown in Little TokyoClay PigeonsIt's Kind of a Funny StoryMade in DagenhamWhen Did You Last See Your Father?PrefontaineThe Wicked LadyThe Secret of KellsBegin AgainDown in the ValleyBrooklyn RulesRestlessThe Singing DetectiveThe Land GirlsFidoThe Wendell Baker StoryWild TargetPathologyWuthering Heights10th & WolfDear WendyAloftAkiraThe Death and Life of Bobby ZThe Rocket: The Legend of Rocket RichardSwelterMy Lucky StarImagine Me & YouMr. ChurchSwimming PoolGreen Street Hooligans: UndergroundThe Blood of HeroesCode of HonorDriving Miss DaisySoul FoodRumble in the BronxFar from MenThank You for SmokingHostel: Part IIAn EducationShopgirlThe Hotel New HampshireNarcMen with BroomsWitless ProtectionThe Work and the GloryExtractMasked and AnonymousBetty Fisher and Other StoriesCode 46Outside BetAlbert NobbsBlack NovemberTa Ra Rum PumPersepolisThe HoleThe WaveThe Neon DemonHarry BrownThe Omega CodeJunoPound of FleshDiamonds Are ForeverThe GodfatherFlashdance(500) Days of SummerThe PianoMagic MikeDarkness FallsLive and Let DieMy Dog SkipDefinitely, MaybeJumping the BroomGood Night, and Good Luck.CapoteDesperadoLogan's RunThe Man with the Golden GunAction JacksonThe DescentMichael Jordan to the MaxDevil's DueFlirting with DisasterThe Devil's RejectsDopeIn Too DeepHouse of 1000 CorpsesAlien ZoneA Serious ManGet LowWarlockBeyond the LightsA Single ManThe Last Temptation of ChristOutside ProvidenceBride & PrejudiceRabbit-Proof FenceWho's Your Caddy?Split SecondThe Other Side of HeavenVeer-ZaaraRedbeltCyrusA Dog Of FlandersAuto FocusFactory GirlWe Need to Talk About KevinThe Christmas CandleThe Mighty MacsLosin' ItMother and ChildMarch or DieThe VisitorsSomewhereI Hope They Serve Beer in HellChairman of the BoardHesherDom HemingwayGerryThe Heart of MeFreeheldThe Extra ManHard to Be a GodCa$hWah-WahThe Boondock SaintsZ StormTwixtThe Snow QueenAlpha and Omega: The Legend of the Saw Tooth CavePale RiderStargate: The Ark of TruthDazed and ConfusedHigh School Musical 2Two Lovers and a BearCriminal ActivitiesAimee & JaguarThe ChumscrubberShadeHouse at the End of the StreetIncendiesRemember Me, My LovePerrier’s BountyElite SquadAnnabelleBran Nue DaeBoyz n the HoodLa BambaThe Four SeasonsDressed to KillThe Adventures of Huck FinnGoFriends with MoneyThe Andromeda StrainBatsNowhere in AfricaShameLayer CakeThe Work and the Glory II: American ZionThe EastA Home at the End of the WorldAberdeenThe MessengerTrackerControlThe TerminatorGood bye, Lenin!The Damned UnitedThe Return of the Living DeadMallratsGreasePlatoonFahrenheit 9/11Butch Cassidy and the Sundance KidMary PoppinsOrdinary PeopleWest Side StoryCaddyshackThe BrothersThe WoodThe Usual SuspectsA Nightmare on Elm Street 5: The Dream ChildNational Lampoon’s Van WilderThe WrestlerDuel in the SunBest in ShowEscape from New YorkSchool DazeDaddy Day CampMr. Nice GuyA Mighty WindMystic PizzaSliding DoorsTales from the HoodThe Last King of ScotlandHalloween 5: The Revenge of Michael MyersBernieDolphins and Whales: Tribes of the OceanPollock200 CigarettesThe WordsCasa De Mi PadreCity IslandThe GuardCollegeThe Virgin SuicidesLittle VoiceMiss MarchWish I Was HereSimply IrresistibleHedwig and the Angry InchOnly the StrongGoddess of LoveShattered GlassNovocaineThe Business of StrangersThe Wild BunchThe WacknessThe First Great Train RobberyMorvern CallarBeastmaster 2: Through the Portal of TimeThe 5th QuarterThe Flower of EvilThe GreatestSnow Flower and the Secret FanCome Early MorningLucky BreakJuliaSurfer, DudeLake of Fire11:14Men of WarDon McKayDeadfallA Shine of RainbowsThe Hit ListEmmaVideodromeThe Spanish ApartmentSong OneWinter in WartimeFreaky DeakyThe TrainTrade Of InnocentsThe ProtectorStiff Upper LipsBend It Like BeckhamSunshine StateCrossoverKhiladi 786[REC]²Standing OvationThe StingChariots of FireDiary of a Mad Black WomanShineDon JonHigh Plains DrifterGhost WorldIrisGalaxinaThe ChorusMambo ItalianoWonderlandDo the Right ThingHarvard ManLe HavreIrreversibleR100Rang De BasantiAnimalsSalvation BoulevardThe TenA Room for Romeo BrassHeadhuntersGrabbersSaint RalphMiss JulieSomewhere in TimeDum Maaro DumInsidious: Chapter 2Saw II10 Cloverfield LaneJackass: The MovieLights OutParanormal Activity 3OuijaA Nightmare on Elm Street 3: Dream WarriorsInstructions Not IncludedParanormal Activity 4The RobeThe Return of the Pink PantherFreddy's Dead: The Final NightmareMonster20,000 Leagues Under the SeaParanormal Activity: The Marked OnesThe Elephant ManDallas Buyers ClubThe Lazarus EffectMementoOculusClerks IIBilly ElliotThe Way Way BackHouse Party 2The Man from Snowy RiverDoug's 1st MovieThe ApostleMommie DearestOur Idiot BrotherRaceThe Players ClubAs Above, So BelowAddictedEve's BayouStill AliceThe EgyptianNighthawksFriday the 13th Part VIII: Jason Takes ManhattanMy Big Fat Greek WeddingSpring BreakersHalloween: The Curse of Michael MyersY Tu Mamá TambiénShaun of the DeadThe Haunting of Molly HartleyLone StarHalloween 4: The Return of Michael MyersApril Fool's DayDinerLone Wolf McQuadeApollo 18Sunshine CleaningNo EscapeThe BeastmasterSolomon and ShebaFifty Shades of BlackNot Easily BrokenA Farewell to ArmsThe Perfect MatchDigimon: The MovieSaved!The Barbarian InvasionsRobin and MarianThe ForsakenForce 10 from NavaroneUHFGrandma's BoySlums of Beverly HillsOnce Upon a Time in the WestMadeMoonKeeping Up with the SteinsSea Rex 3D: Journey to a Prehistoric WorldThe Sweet HereafterOf Gods and MenBottle ShockJekyll and Hyde ... Together AgainHeavenly Creatures90 Minutes in HeavenEverything Must GoZero EffectThe MachinistLight SleeperKill the MessengerRabbit HoleParty MonsterGreen RoomThe Oh in OhioAtlas Shrugged Part III: Who is John Galt?Bottle RocketAlbino AlligatorGandhi, My FatherStandard Operating ProcedureOut of the BlueOut of the BlueTucker and Dale vs EvilLovely, StillTycoonDesert BlueDecoysThe VisitRedactedFascinationArea 51Sleep TightThe CottageDead Like Me: Life After DeathFarce of the PenguinsFlying ByRudderlessHenry & MeChristmas EveWe Have Your HusbandDying of the LightBorn Of WarCapricorn OneShould've Been RomeoRunning ForeverYoga HosersNavy Seals vs. ZombiesI Served the King of EnglandSoul KitchenSling BladeThe AwakeningHostelA Cock and Bull StoryTake ShelterLady in WhiteDriving LessonsLet's Kill Ward's WifeThe Texas Chainsaw Massacre 2Pat Garrett & Billy the KidOnly God ForgivesCamping SauvageWithout MenDear FrankieAll HatThe Names of LoveTreading WaterSavage GraceOut of the BlueOut of the BluePolice AcademyThe Blue LagoonFour Weddings and a FuneralFast Times at Ridgemont HighMoby Dick25th HourBoundRequiem for a DreamState FairTangoSalvadorMoms' Night OutDonnie DarkoSaving Private PerezCharacterSpunLife During WartimeSympathy for Lady VengeanceMozart's SisterMean MachineExiledBlackthornLilya 4-everAfter.LifeFuglyOne Flew Over the Cuckoo's NestR.L. Stine's Monsterville: The Cabinet of SoulsSilent MovieAirliftAnne of Green GablesFalcon RisingThe SweeneySexy BeastEasy MoneyWhale RiderPaaCargoHigh School MusicalLove and Death on Long IslandNight WatchThe Crying GamePorky'sSurvival of the DeadNight of the Living DeadLost in TranslationAnnie HallThe Greatest Show on EarthMonster's BallMaggieLeaving Las VegasHansel and Gretel Get BakedThe Front PageThe Boy Next DoorTrapezeThe Kids Are All RightThey LiveThe Great EscapeWhat the #$*! Do We (K)now!?The Last Exorcism Part IIBoyhoodScoopThe Wash3 StrikesThe CoolerThe MisfitsThe Night ListenerThe Jerky BoysThe OrphanageA Haunted House 2The Rules of AttractionTopazLet's Go to PrisonFour RoomsSecretaryThe Real CancunTalk RadioWaiting for GuffmanLove StinksYou Kill MeThumbsuckerRed StateMirrormaskSamsaraThe BarbariansThe Art of Getting ByZipperPoolhall JunkiesThe Loss of Sexual InnocenceHoly MotorsJoeShooting FishPrisonPsycho Beach PartyThe Big TeaseGuten Tag, RamónTrustAn Everlasting PieceAmong GiantsAdoreThe Velocity of GaryMondays in the SunStake LandThe Last Time I Committed SuicideFuturo BeachAnother Happy DayA Lonely Place to DieNothingThe Geographer Drank His Globe Away1776InescapableHell's AngelsPurple VioletsThe VeilThe Loved OnesThe HelpersHow to Fall in LoveThe Perfect WaveA Man for All SeasonsNetworkGone with the WindDesert DancerMajor DundeeAnnie Get Your GunFour LionsThe House of SandDefendorThe PirateThe Good HeartThe History BoysMidnight CowboyThe Full MontyAirplane!Chain of CommandFridayMenace II SocietyCreepshow 2The Ballad of Cable HogueIn Cold BloodThe Nun's StoryHarperFrenzyThe WitchI Got the Hook UpShe's the OneGods and MonstersThe Secret in Their EyesTrainEvil Dead IIPootie TangSharknadoThe Other ConquestTroll HunterIra & AbbyWinter PassingD.E.B.S.The Masked SaintThe BetrayedTaxmanThe Secret2:13Batman: The Dark Knight Returns, Part 2Time to ChooseIn the Name of the King IIIWicked BloodStrandedLords of LondonHigh AnxietyMarch of the PenguinsMargin CallAugustChokeWhiplashCity of GodHuman TrafficTo Write Love on Her ArmsThe Dead GirlThe HuntA Christmas StoryBellaClass of 1984The Opposite SexDreaming of Joseph LeesThe ClassRosemary's BabyThe Man Who Shot Liberty ValanceAdamMaria Full of GraceBeginnersFeastAnimal HouseGoldfingerAntiviralIt's a Wonderful LifeTrainspottingThe Original Kings of ComedyParanormal Activity 2Waking NedBowling for ColumbineComing HomeA Nightmare on Elm Street Part 2: Freddy's RevengeA Room with a ViewThe PurgeSinisterMartin Lawrence Live: RunteldatCat on a Hot Tin RoofBeneath the Planet of the ApesAir BudPokémon: Spell of the UnknownFriday the 13th Part VI: Jason LivesThe Bridge on the River KwaiSpaced InvadersFamily PlotThe ApartmentJason Goes to Hell: The Final FridayTorn CurtainDave Chappelle's Block PartySlow WestKrush GrooveNext Day AirElmer GantryJudgment at NurembergTrippin'Red RiverPhat GirlzBefore MidnightTeen Wolf TooPhantasm IIWoman Thou Art LoosedReal Women Have CurvesWaterEast Is EastWhippedKama Sutra - A Tale of LovePlease GiveWilly Wonka & the Chocolate FactoryWarlock: The Armageddon8 Heads in a Duffel BagDays of HeavenThirteen Conversations About One ThingJawbreakerBasquiatFrances HaTsotsiHappinessDysFunktional FamilyTuskOldboyLetters to GodHobo with a ShotgunCompadresFreewayLove's Abiding JoyFish TankDamsels in DistressCreatureBacheloretteBrave New GirlTim and Eric's Billion Dollar MovieSummer StormFort McCoyChain LetterJust LookingThe DivideThe EclipseDemonicMy Big Fat Independent MovieThe DeportedTanner HallOpen RoadThey Came Together30 Nights of Paranormal Activity With the Devil Inside the Girl With the Dragon TattooNever Back Down 2: The BeatdownPoint BlankFour Single FathersEnter the Dangerous MindSomething WickedAWOL-72IguanaChicago OvercoatBarry MundayCentral StationPocketful of MiraclesClose RangeBoynton Beach ClubAmnesiacFreakonomicsHigh TensionGriff the InvisibleUnnaturalHustle & FlowSome Like It HotFriday the 13th Part VII: The New BloodThe Wizard of OzYoung FrankensteinDiary of the DeadLage Raho Munna BhaiUlee's GoldThe Black StallionSardaarjiJourney to SaturnDonovan's ReefThe DressA Guy Named JoeBlazing SaddlesFriday the 13th: The Final ChapterIdaMauriceBeer LeagueRiding GiantsTimecrimesSilver MedalistTimber FallsSingin' in the RainFat, Sick & Nearly DeadA Haunted House2016: Obama's AmericaThat Thing You Do!Halloween III: Season of the WitchEscape from the Planet of the ApesHudKevin Hart: Let Me ExplainMy Own Private IdahoGarden StateBefore SunriseEvil WordsJesus' SonSaving FaceBrick LaneRobot & FrankMy Life Without MeThe Spectacular NowReligulousFuelValley of the Heart's DelightEye of the Dolphin8: The Mormon PropositionThe Other End of the LineAnatomySleep DealerSuperChristmas MailStungAntibirthGet on the BusThr3eIdiocracyThe Rise of the KraysThis Is EnglandU.F.O.Bathing BeautyGo for It!Dancer, Texas Pop. 81Show BoatRedemption RoadThe CallingThe Brave Little ToasterFantasia8 DaysFriday the 13th Part IIIFriday the 13th: A New BeginningThe Last Sin EaterDo You Believe?Impact PointThe Valley of DecisionEdenChicken Tikka MasalaThere's Always WoodstockJack Brooks: Monster SlayerThe Best Years of Our LivesBullyEllingMi America[REC]Lies in Plain SightSharkskinContainmentThe TimberFrom Russia with LoveThe Toxic Avenger Part IISleeperIt FollowsEverything You Always Wanted to Know About Sex *But Were Afraid to AskTo Kill a MockingbirdMad Max 2: The Road WarriorThe Legend of Drunken MasterBoys Don't CrySilent HouseThe Lives of OthersCourageousThe HustlerBoom TownThe Triplets of BellevilleSmoke SignalsAmerican SplendorBefore SunsetAmores perrosThirteenGentleman's AgreementWinter's BoneTouching the VoidAlexander's Ragtime BandMe and You and Everyone We KnowInside JobWe Are Your FriendsGhost Dog: The Way of the SamuraiHarsh TimesCaptiveFull FrontalWitchboardShortbusWaltz with BashirThe Book of Mormon Movie, Volume 1: The JourneyNo End in SightThe Diary of a Teenage GirlIn the Shadow of the MoonMeek's CutoffInside Deep ThroatDinner RushClockwatchersThe Virginity HitSubwayHouse of DTeethSix-String SamuraiHum To Mohabbat KaregaIt's All Gone Pete TongSaint John of Las Vegas24 7: Twenty Four SevenStonewallRoadside RomeoThis Thing of OursThe Lost Medallion: The Adventures of Billy StoneThe Last Five YearsThe Missing PersonReturn of the Living Dead 3LondonSherrybabyCircleEden LakePlushLesbian Vampire KillersGangster's Paradise: JerusalemaFreeze FrameGrave EncountersStitchesNine DeadBananasSupercapitalistRockawayThe Lady from ShanghaiNo Man's Land: The Rise of ReekerHighwaySmall ApartmentsCoffee TownThe Ghastly Love of Johnny XAll Is BrightThe Torture Chamber of Dr. SadismStraight A'sA Funny Thing Happened on the Way to the ForumSlacker UprisingThe Legend of Hell's Gate: An American ConspiracyThe Walking DeceasedThe Curse of Downers GroveShark LakeRiver's EdgeNorthforkThe Marine 4: Moving TargetBuriedSubmarineThe SquareOne to AnotherABCD (Any Body Can Dance)Man on WireAbandonedBrotherly LoveThe Last ExorcismNowhere BoyA Streetcar Named DesireDr. Strangelove or: How I Learned to Stop Worrying and Love the BombThe Crime of Padre AmaroBeasts of the Southern WildBattle for the Planet of the ApesSongcatcherHigher GroundVaaluThe Greatest Movie Ever SoldEd and His Dead MotherTravellers and MagiciansHang 'em HighDeadline - U.S.A.SublimeA Beginner's Guide to SnuffIndependence DaysasterDysfunctional FriendsRun Lola RunMayAgainst the WildUnder the Same MoonConquest of the Planet of the ApesIn the BedroomI Spit on Your GraveHappy, TexasMy Summer of LoveThe LunchboxYesYou Can't Take It With YouFrom Here to EternityShe Wore a Yellow RibbonGrace UnpluggedFoolishN-SecureCaramelOut of the DarkThe BubbleThe ConversationDil Jo Bhi Kahey...Mississippi MermaidI Love Your WorkCabin FeverWaitressBloodsportMr. Smith Goes to WashingtonKidsThe Squid and the WhaleKissing Jessica SteinKickboxer: VengeanceSpellboundExoticaBuffalo '66InsidiousRepo ManNine QueensThe GatekeepersThe Ballad of Jack and RoseThe To Do ListKilling ZoeThe BelieverSnow AngelsUnsulliedSession 9I Want Someone to Eat Cheese WithMooz-lumHatchetModern TimesStolen SummerMy Name Is BruceThe SalonRoad HardForty Shades of BlueAmigoPontypoolTruckerMe You and Five BucksThe Lords of SalemHouseboundWal-Mart: The High Cost of Low PriceFetching CodyLast I HeardCloser to the MoonMutant WorldGrowing Up SmithCheckmate#HorrorWind WalkersSnow White and the Seven DwarfsThe Holy GirlShalakoIncident at Loch NessThe Dog LoverGirlHouseThe Blue RoomHouse at the End of the DriveBatmanBatmanLock, Stock and Two Smoking BarrelsThe Ballad of Gregorio CortezThe CelebrationTrees LoungeJourney from the FallThe BasketEddie: The Sleepwalking CannibalQueen of the MountainsDef-Con 4The Hebrew HammerNeal 'n' NikkiThe 41–Year–Old Virgin Who Knocked Up Sarah Marshall and Felt Superbad About ItForget Me NotRebeccaFriday the 13th Part 2The Lost WeekendC.H.U.D.Filly BrownThe Lion of JudahNiagaraHow Green Was My ValleyDa Sweet Blood of JesusSex, Lies, and VideotapeSawSuper TroopersThe AlgerianThe Amazing CatfishMonsoon WeddingYou Can Count on MeThe Trouble with HarryBut I'm a CheerleaderHome RunReservoir DogsThe Blue BirdThe Good, the Bad and the UglyThe Second MotherBlue Like JazzDown & Out With The DollsPink Ribbons, Inc.Certifiably JonathanDesireThe Blade of Don JuanGrand Theft ParsonsExtreme MovieThe Charge of the Light BrigadeBelow ZeroCrowsnestAirborneCotton Comes to HarlemThe Wicked WithinBleeding HeartsWaiting...Dead Man's ShoesFrom a Whisper to a ScreamSex With StrangersDracula: Pages from a Virgin's DiaryFaith Like PotatoesBeyond the Black RainbowThe RaidThe Dead UndeadThe Vatican ExorcismsCasablancaLake MungoRocket Singh: Salesman of the YearSilent RunningRockyThe SleepwalkerTom JonesUnfriendedTaxi DriverThe HowlingDr. NoChernobyl DiariesHellraiserGod's Not Dead 2Cry_WolfGodzilla 2000Blue ValentineTransamericaThe Devil InsideBeyond the Valley of the DollsLove Me TenderAn Inconvenient TruthSands of Iwo JimaShine a LightThe Green InfernoDepartureThe SessionsFood, Inc.October BabyNext Stop WonderlandThe Skeleton TwinsMartha Marcy May MarleneObvious ChildFrozen River20 Feet from StardomTwo Girls and a GuyWalking and TalkingWho Killed the Electric Car?The Broken Hearts Club: A Romantic ComedyBubba Ho-tepSlamBrigham CityFizaOrgazmoAll the Real GirlsDream with the FishesBlue CarPalo AltoAjamiWristcutters: A Love StoryI OriginsThe Battle of Shaker HeightsThe Act of KillingTaxi to the Dark SideOnce in a Lifetime: The Extraordinary Story of the New York CosmosGuiana 1838Lisa Picard Is FamousAntarctica: A Year on IceA LEGO BrickumentaryHardflipChocolate: Deep Dark SecretsThe House of the DevilThe Perfect HostSafe MenSpeedway JunkyThe Last Big ThingThe Specials16 to LifeAlone With HerCreative ControlSpecialSparklerThe Helix... LoadedIn Her Line of FireThe Jimmy ShowHeliKarachi se LahoreLoving AnnabelleHitsJimmy and JudyFrat PartyThe Party's OverProudThe Poker HouseChildlessZMD: Zombies of Mass DestructionSnow White: A Deadly SummerHidden AwayMy Last Day Without YouSteppin: The MovieDoc Holliday's RevengeBlack RockTruth or DareThe PetBang Bang BabyFear ClinicZombie HunterA Fine StepCharlyBanshee ChapterAsk Me AnythingAnd Then Came LoveOn the WaterfrontL!fe Happens4 Months, 3 Weeks and 2 DaysThe Horror Network Vol. 1Hard CandyThe QuietCircumstanceFruitvale StationThe Brass TeapotBambiThe HammerLatter DaysElza1982For a Good Time, Call...Celeste & Jesse ForeverTime ChangerLondon to BrightonAmerican HeroWindsor DriveA SeparationCrying with LaughterWelcome to the DollhouseRuby in ParadiseRaising Victor VargasPandora's BoxHarrison MontgomeryLive-In MaidDeterrenceThe Mudge BoyThe Young UnknownsNot CoolDead SnowSaints and SoldiersVesselAmerican GraffitiIraq for Sale: The War ProfiteersAqua Teen Hunger Force Colon Movie Film for TheatersSafety Not GuaranteedKevin Hart: Laugh at My PainKill ListThe InnkeepersThe ConformistInterview with the AssassinDonkey PunchAll the Boys Love Mandy LaneBledHigh NoonHoop DreamsRizeL.I.E.The Sisterhood of NightB-GirlHalf NelsonNaturally NativeHav PlentyAdulterersEscape from TomorrowStarsuckersThe Hadza:  Last of the FirstAfterTreacheryWalterTop HatThe Blair Witch ProjectWoodstockThe Kentucky Fried MovieMercy StreetsCarousel of RevengeBroken VesselsWater & PowerThey Will Have to Kill Us FirstLight from the DarkroomThe Country DoctorThe Maid's RoomA Hard Day's NightThe Harvest (La Cosecha)Love LettersJuliet and Alfa RomeoFireproofFaith ConnectionsBenjiOpen WaterHigh RoadKingdom of the SpidersMad Hot BallroomThe Station AgentTo Save A LifeWordplayBeyond the MatThe Singles WardOsamaSholem Aleichem: Laughing In The DarknessGrooveThe R.M.Twin Falls IdahoMean CreekHurricane StreetsNever AgainCivil BrandLonesome JimDrinking BuddiesDeceptive Practice: The Mysteries and Mentors of Ricky JaySeven SamuraiThe Other Dream TeamJohnny SuedeFinishing The GameRubberKiss the BrideThe Slaughter RuleMonstersThe CaliforniansThe Living WakeDetention of the DeadCrazy StoneScott Walker: 30 Century ManEverything Put TogetherGood KillThe Outrageous Sophie TuckerNow Is GoodGirls Gone DeadAmerica Is Still the PlaceSubconsciousEnter NowhereEl Rey de NajayoFight to the FinishAlleluia! The Devil's CarnivalThe Sound and the ShadowRodeo GirlBorn to Fly: Elizabeth Streb vs. GravityThe Little Ponderosa ZooThe Toxic AvengerStraight Out of BrooklynBloody SundayDiamond RuffConversations with Other WomenPoultrygeist: Night of the Chicken DeadMutual Friends42nd StreetRise of the Entrepreneur: The Search for a Better WayMetropolitanAs It Is in HeavenRoadsideNapoleon DynamiteBlue RuinParanormal ActivityDogtown and Z-BoysMonty Python and the Holy GrailQuinceañeraGory Gory HallelujahTarnationI Want Your MoneyLove in the Time of MonstersThe BeyondWhat Happens in VegasThe Dark HoursMy Beautiful LaundretteFabledShow MeCries and WhispersIntoleranceTrekkiesThe Broadway MelodyThe Evil DeadManiacCensored VoicesMurderballAmerican Ninja 2: The Confrontation51 Birch StreetRotor DR112 Angry MenMy Dog TulipIt Happened One NightDogtoothTupac: ResurrectionTumbleweedsThe ProphecyWhen the Cat's AwayPieces of AprilThe Big SwapOld JoyWendy and Lucy3 BackyardsPierrot le FouSisters in LawAyurveda: Art of BeingNothing But a ManFirst Love, Last RitesFighting Tommy RileyRoyal KillThe Looking GlassDeath Race 2000Locker 13Midnight CabaretAnderson's CrossBizarreGraduation DaySome Guy Who Kills PeopleComplianceChasing AmyLovely & AmazingDeath CallsBetter Luck TomorrowThe Incredibly True Adventure of Two Girls In LoveChuck & BuckAmerican DesiAmidst the Devil's WingsCubeLove and Other CatastrophesI Married a Strange Person!NovemberLike CrazyTeeth and BloodSugar TownThe MotelThe CanyonsOn the OutsShotgun StoriesExamThe Sticky Fingers of TimeSunday School MusicalRustInkThe Christmas BunnyButterflyUnDividedThe FrozenHorse CampGive Me ShelterThe Big ParadeLittle Big TopAlong the RoadsideBronsonWestern ReligionBurnUrbaniaThe StewardessesThe Beast from 20,000 FathomsMad MaxSwingersA Fistful of DollarsShe Done Him WrongShort Cut to Nirvana: Kumbh MelaThe Grace CardMiddle of NowhereThreeThe Business of FancydancingCall + ResponseMalevolenceReality ShowSuper HybridBagheadAmerican BeastThe Case of the Grinning CatOrdetGood DickThe Man from EarthThe Trials Of Darryl HuntSamantha: An American Girl HolidayYesterday Was a LieTheresa Is a MotherH.Archaeology of a WomanChildren of HeavenWeekendShe's Gotta Have ItButterfly GirlThe World Is MineAnother EarthSweet Sweetback's Baadasssss SongPerfect CowboyTadpoleOnceThe Woman ChaserThe Horse BoyWhen the Lights Went OutHeroes of DirtA Charlie Brown ChristmasAntarctic Edge: 70° SouthArousedTop SpinRoger & MeAn American in HollywoodSound of My VoiceThe Blood of My Brother: A Story of Death in IraqYour Sister's SisterA Dog's BreakfastThe Married WomanThe Birth of a NationThe Work and The StoryFacing the GiantsThe GallowsEraserheadHollywood ShuffleThe MightyPenitentiaryThe Lost Skeleton of CadavraDude Where's My Dog?Cheap ThrillsIndie Game: The MovieStraightheadsOpen SecretEcho Dr.The Night VisitorThe Past Is a Grotesque AnimalPeace, Propaganda & the Promised LandPiI Love You, Don't Touch Me!20 DatesQueen CrabSuper Size MeThe FPHappy ChristmasThe Brain That Wouldn't DieTiger OrangeSupporting CharactersAbsentiaThe Brothers McMullenThe DirtiesGabrielaTiny FurnitureHayrideThe Naked ApeCountingThe Call of CthulhuBending SteelThe SignalThe Image RevolutionThis Is Martin BonnerA True StoryGeorge WashingtonSmiling Fish & Goat On FireDawn of the Crescent MoonRaymond Did ItThe Last WaltzRun, Hide, DieThe Exploding GirlThe Legend of God's GunMutual AppreciationHer Cry: La Llorona InvestigationDown TerraceClerksPink NarcissusFunny Ha HaIn the Company of MenManitoRampageSlackerDutch KillsDry SpellFlywheelBackmaskThe Puffy ChairStories of Our LivesBreaking UpwardsAll Superheroes Must DiePink FlamingosCleanThe CircleTin Can ManCureOn The DownlowSanctuary: Quite a ConundrumBangPrimerCaviteEl MariachiNewlywedsSigned, Sealed, DeliveredShanghai CallingMy Date with Drew\""
            ],
            "application/vnd.google.colaboratory.intrinsic+json": {
              "type": "string"
            }
          },
          "metadata": {},
          "execution_count": 55
        }
      ]
    },
    {
      "cell_type": "code",
      "source": [
        "pip install nltk"
      ],
      "metadata": {
        "colab": {
          "base_uri": "https://localhost:8080/"
        },
        "id": "nq_3Q23DnrbV",
        "outputId": "75244b12-bf85-4641-a984-774e0fed58e5"
      },
      "execution_count": null,
      "outputs": [
        {
          "output_type": "stream",
          "name": "stdout",
          "text": [
            "Requirement already satisfied: nltk in /usr/local/lib/python3.11/dist-packages (3.9.1)\n",
            "Requirement already satisfied: click in /usr/local/lib/python3.11/dist-packages (from nltk) (8.1.8)\n",
            "Requirement already satisfied: joblib in /usr/local/lib/python3.11/dist-packages (from nltk) (1.4.2)\n",
            "Requirement already satisfied: regex>=2021.8.3 in /usr/local/lib/python3.11/dist-packages (from nltk) (2024.11.6)\n",
            "Requirement already satisfied: tqdm in /usr/local/lib/python3.11/dist-packages (from nltk) (4.67.1)\n"
          ]
        }
      ]
    },
    {
      "cell_type": "code",
      "source": [
        "import nltk"
      ],
      "metadata": {
        "id": "Ba_UGRusn2E7"
      },
      "execution_count": null,
      "outputs": []
    },
    {
      "cell_type": "code",
      "source": [
        "from nltk.stem.porter import PorterStemmer\n",
        "ps = PorterStemmer()"
      ],
      "metadata": {
        "id": "4YSnmpQYn4fJ"
      },
      "execution_count": null,
      "outputs": []
    },
    {
      "cell_type": "code",
      "source": [
        "def stem(text):\n",
        "  y=[]\n",
        "  for i in text.split():\n",
        "    y.append(ps.stem(i))\n",
        "  return \" \".join(y)"
      ],
      "metadata": {
        "id": "Dk2LxJaNoIkz"
      },
      "execution_count": null,
      "outputs": []
    },
    {
      "cell_type": "code",
      "source": [
        "new_df['tags'] = new_df['tags'].apply(stem)"
      ],
      "metadata": {
        "colab": {
          "base_uri": "https://localhost:8080/"
        },
        "id": "UxoCI5klpZv8",
        "outputId": "b485f38d-53db-4057-d44f-dd721f44702d"
      },
      "execution_count": null,
      "outputs": [
        {
          "output_type": "stream",
          "name": "stderr",
          "text": [
            "<ipython-input-31-be18a4346d89>:1: SettingWithCopyWarning: \n",
            "A value is trying to be set on a copy of a slice from a DataFrame.\n",
            "Try using .loc[row_indexer,col_indexer] = value instead\n",
            "\n",
            "See the caveats in the documentation: https://pandas.pydata.org/pandas-docs/stable/user_guide/indexing.html#returning-a-view-versus-a-copy\n",
            "  new_df['tags'] = new_df['tags'].apply(stem)\n"
          ]
        }
      ]
    },
    {
      "cell_type": "code",
      "source": [
        "new_df['tags'][0]"
      ],
      "metadata": {
        "colab": {
          "base_uri": "https://localhost:8080/",
          "height": 126
        },
        "id": "_Ejhfawtiayn",
        "outputId": "6a5a0216-f783-491c-8824-c1bf5022f439"
      },
      "execution_count": null,
      "outputs": [
        {
          "output_type": "execute_result",
          "data": {
            "text/plain": [
              "'in the 22nd century, a parapleg marin is dispatch to the moon pandora on a uniqu mission, but becom torn between follow order and protect an alien civilization. action adventur fantasi sciencefict cultureclash futur spacewar spacecoloni societi spacetravel futurist romanc space alien tribe alienplanet cgi marin soldier battl loveaffair antiwar powerrel mindandsoul 3d samworthington zoesaldana sigourneyweav jamescameron'"
            ],
            "application/vnd.google.colaboratory.intrinsic+json": {
              "type": "string"
            }
          },
          "metadata": {},
          "execution_count": 32
        }
      ]
    },
    {
      "cell_type": "code",
      "source": [
        "new_df['tags'][1]"
      ],
      "metadata": {
        "id": "KtAFdISexLnA",
        "colab": {
          "base_uri": "https://localhost:8080/",
          "height": 126
        },
        "outputId": "c452c3d8-cbed-49dc-eaf8-5a023ad95063"
      },
      "execution_count": null,
      "outputs": [
        {
          "output_type": "execute_result",
          "data": {
            "text/plain": [
              "\"captain barbossa, long believ to be dead, ha come back to life and is head to the edg of the earth with will turner and elizabeth swann. but noth is quit as it seems. adventur fantasi action ocean drugabus exoticisland eastindiatradingcompani loveofone'slif traitor shipwreck strongwoman ship allianc calypso afterlif fighter pirat swashbuckl aftercreditssting johnnydepp orlandobloom keiraknightley goreverbinski\""
            ],
            "application/vnd.google.colaboratory.intrinsic+json": {
              "type": "string"
            }
          },
          "metadata": {},
          "execution_count": 33
        }
      ]
    },
    {
      "cell_type": "code",
      "source": [
        "from sklearn.feature_extraction.text import CountVectorizer\n",
        "cv = CountVectorizer(max_features=5000,stop_words='english')"
      ],
      "metadata": {
        "id": "8ZQKaEdEhntW"
      },
      "execution_count": null,
      "outputs": []
    },
    {
      "cell_type": "code",
      "source": [
        "vectors=cv.fit_transform(new_df['tags']).toarray()"
      ],
      "metadata": {
        "id": "pHAcmHFXj0fu"
      },
      "execution_count": null,
      "outputs": []
    },
    {
      "cell_type": "code",
      "source": [
        "stem('In the 22nd century, a paraplegic Marine is dispatched to the moon Pandora on a unique mission, but becomes torn between following orders and protecting an alien civilization. Action Adventure Fantasy ScienceFiction cultureclash future spacewar spacecolony society spacetravel futuristic romance space alien tribe alienplanet cgi marine soldier battle loveaffair antiwar powerrelations mindandsoul 3d SamWorthington ZoeSaldana SigourneyWeaver JamesCameron')"
      ],
      "metadata": {
        "colab": {
          "base_uri": "https://localhost:8080/",
          "height": 126
        },
        "id": "KZllI2ZZnDL9",
        "outputId": "5c3ab58d-a25c-4b35-b849-cc3179d63b8b"
      },
      "execution_count": null,
      "outputs": [
        {
          "output_type": "execute_result",
          "data": {
            "text/plain": [
              "'in the 22nd century, a parapleg marin is dispatch to the moon pandora on a uniqu mission, but becom torn between follow order and protect an alien civilization. action adventur fantasi sciencefict cultureclash futur spacewar spacecoloni societi spacetravel futurist romanc space alien tribe alienplanet cgi marin soldier battl loveaffair antiwar powerrel mindandsoul 3d samworthington zoesaldana sigourneyweav jamescameron'"
            ],
            "application/vnd.google.colaboratory.intrinsic+json": {
              "type": "string"
            }
          },
          "metadata": {},
          "execution_count": 36
        }
      ]
    },
    {
      "cell_type": "code",
      "source": [
        "from sklearn.metrics.pairwise import cosine_similarity"
      ],
      "metadata": {
        "id": "I5gNG6F3pqum"
      },
      "execution_count": null,
      "outputs": []
    },
    {
      "cell_type": "code",
      "source": [
        "similarity = cosine_similarity(vectors)"
      ],
      "metadata": {
        "id": "fcf0pHGMqd2w"
      },
      "execution_count": null,
      "outputs": []
    },
    {
      "cell_type": "code",
      "source": [
        "sorted(list(enumerate(similarity[0])),reverse = True,key = lambda x:x[1])[1:6]"
      ],
      "metadata": {
        "colab": {
          "base_uri": "https://localhost:8080/"
        },
        "id": "hmqCc-uxs8tE",
        "outputId": "9cb0b45e-467b-4caf-d0cf-8d835d99b385"
      },
      "execution_count": null,
      "outputs": [
        {
          "output_type": "execute_result",
          "data": {
            "text/plain": [
              "[(1214, 0.28676966733820225),\n",
              " (2405, 0.26901379342448517),\n",
              " (3728, 0.2605130246476754),\n",
              " (507, 0.255608593705383),\n",
              " (539, 0.25038669783359574)]"
            ]
          },
          "metadata": {},
          "execution_count": 39
        }
      ]
    },
    {
      "cell_type": "code",
      "source": [
        "def recommend(movie):\n",
        "  movei_index = new_df[new_df['title'] == movie].index[0]\n",
        "  distances = similarity[movei_index]\n",
        "  movies_list = sorted(list(enumerate(distances)),reverse=True,key=lambda x:x[1])[1:6]\n",
        "  for i in movies_list:\n",
        "    print(new_df.iloc[i[0]].title)\n",
        "  return"
      ],
      "metadata": {
        "id": "2x7xvQO-6QxW"
      },
      "execution_count": null,
      "outputs": []
    },
    {
      "cell_type": "code",
      "source": [
        "# Assuming your recommend function is already defined\n",
        "recommend_function = recommend\n"
      ],
      "metadata": {
        "id": "8hPUUnsWJe1y"
      },
      "execution_count": null,
      "outputs": []
    },
    {
      "cell_type": "code",
      "source": [
        "output = recommend_function('Spectre')\n",
        "print(output)"
      ],
      "metadata": {
        "colab": {
          "base_uri": "https://localhost:8080/"
        },
        "id": "98vAiGH3JgWX",
        "outputId": "c4206a72-7954-4ab7-dd33-3d2552ccc9e2"
      },
      "execution_count": null,
      "outputs": [
        {
          "output_type": "stream",
          "name": "stdout",
          "text": [
            "['Quantum of Solace', 'Skyfall', 'Never Say Never Again', 'From Russia with Love', 'Octopussy']\n"
          ]
        }
      ]
    },
    {
      "cell_type": "code",
      "source": [
        "recommend('John Carter')"
      ],
      "metadata": {
        "colab": {
          "base_uri": "https://localhost:8080/"
        },
        "id": "GHqyQ55Kv89z",
        "outputId": "9a07580f-4a0d-46f1-ea07-05cdffe7de90"
      },
      "execution_count": null,
      "outputs": [
        {
          "output_type": "stream",
          "name": "stdout",
          "text": [
            "Riddick\n",
            "Krrish\n",
            "The Other Side of Heaven\n",
            "The Legend of Hercules\n",
            "Get Carter\n"
          ]
        }
      ]
    },
    {
      "cell_type": "code",
      "source": [
        "!pip install gradio\n"
      ],
      "metadata": {
        "id": "iC09CFyWKf5R",
        "colab": {
          "base_uri": "https://localhost:8080/"
        },
        "outputId": "cdf20929-e756-49a4-e27f-79bd48d2095e"
      },
      "execution_count": null,
      "outputs": [
        {
          "output_type": "stream",
          "name": "stdout",
          "text": [
            "Collecting gradio\n",
            "  Downloading gradio-5.12.0-py3-none-any.whl.metadata (16 kB)\n",
            "Collecting aiofiles<24.0,>=22.0 (from gradio)\n",
            "  Downloading aiofiles-23.2.1-py3-none-any.whl.metadata (9.7 kB)\n",
            "Requirement already satisfied: anyio<5.0,>=3.0 in /usr/local/lib/python3.11/dist-packages (from gradio) (3.7.1)\n",
            "Collecting fastapi<1.0,>=0.115.2 (from gradio)\n",
            "  Downloading fastapi-0.115.6-py3-none-any.whl.metadata (27 kB)\n",
            "Collecting ffmpy (from gradio)\n",
            "  Downloading ffmpy-0.5.0-py3-none-any.whl.metadata (3.0 kB)\n",
            "Collecting gradio-client==1.5.4 (from gradio)\n",
            "  Downloading gradio_client-1.5.4-py3-none-any.whl.metadata (7.1 kB)\n",
            "Requirement already satisfied: httpx>=0.24.1 in /usr/local/lib/python3.11/dist-packages (from gradio) (0.28.1)\n",
            "Requirement already satisfied: huggingface-hub>=0.25.1 in /usr/local/lib/python3.11/dist-packages (from gradio) (0.27.1)\n",
            "Requirement already satisfied: jinja2<4.0 in /usr/local/lib/python3.11/dist-packages (from gradio) (3.1.5)\n",
            "Collecting markupsafe~=2.0 (from gradio)\n",
            "  Downloading MarkupSafe-2.1.5-cp311-cp311-manylinux_2_17_x86_64.manylinux2014_x86_64.whl.metadata (3.0 kB)\n",
            "Requirement already satisfied: numpy<3.0,>=1.0 in /usr/local/lib/python3.11/dist-packages (from gradio) (1.26.4)\n",
            "Requirement already satisfied: orjson~=3.0 in /usr/local/lib/python3.11/dist-packages (from gradio) (3.10.14)\n",
            "Requirement already satisfied: packaging in /usr/local/lib/python3.11/dist-packages (from gradio) (24.2)\n",
            "Requirement already satisfied: pandas<3.0,>=1.0 in /usr/local/lib/python3.11/dist-packages (from gradio) (2.2.2)\n",
            "Requirement already satisfied: pillow<12.0,>=8.0 in /usr/local/lib/python3.11/dist-packages (from gradio) (11.1.0)\n",
            "Requirement already satisfied: pydantic>=2.0 in /usr/local/lib/python3.11/dist-packages (from gradio) (2.10.5)\n",
            "Collecting pydub (from gradio)\n",
            "  Downloading pydub-0.25.1-py2.py3-none-any.whl.metadata (1.4 kB)\n",
            "Collecting python-multipart>=0.0.18 (from gradio)\n",
            "  Downloading python_multipart-0.0.20-py3-none-any.whl.metadata (1.8 kB)\n",
            "Requirement already satisfied: pyyaml<7.0,>=5.0 in /usr/local/lib/python3.11/dist-packages (from gradio) (6.0.2)\n",
            "Collecting ruff>=0.2.2 (from gradio)\n",
            "  Downloading ruff-0.9.2-py3-none-manylinux_2_17_x86_64.manylinux2014_x86_64.whl.metadata (25 kB)\n",
            "Collecting safehttpx<0.2.0,>=0.1.6 (from gradio)\n",
            "  Downloading safehttpx-0.1.6-py3-none-any.whl.metadata (4.2 kB)\n",
            "Collecting semantic-version~=2.0 (from gradio)\n",
            "  Downloading semantic_version-2.10.0-py2.py3-none-any.whl.metadata (9.7 kB)\n",
            "Collecting starlette<1.0,>=0.40.0 (from gradio)\n",
            "  Downloading starlette-0.45.2-py3-none-any.whl.metadata (6.3 kB)\n",
            "Collecting tomlkit<0.14.0,>=0.12.0 (from gradio)\n",
            "  Downloading tomlkit-0.13.2-py3-none-any.whl.metadata (2.7 kB)\n",
            "Requirement already satisfied: typer<1.0,>=0.12 in /usr/local/lib/python3.11/dist-packages (from gradio) (0.15.1)\n",
            "Requirement already satisfied: typing-extensions~=4.0 in /usr/local/lib/python3.11/dist-packages (from gradio) (4.12.2)\n",
            "Collecting uvicorn>=0.14.0 (from gradio)\n",
            "  Downloading uvicorn-0.34.0-py3-none-any.whl.metadata (6.5 kB)\n",
            "Requirement already satisfied: fsspec in /usr/local/lib/python3.11/dist-packages (from gradio-client==1.5.4->gradio) (2024.10.0)\n",
            "Requirement already satisfied: websockets<15.0,>=10.0 in /usr/local/lib/python3.11/dist-packages (from gradio-client==1.5.4->gradio) (14.1)\n",
            "Requirement already satisfied: idna>=2.8 in /usr/local/lib/python3.11/dist-packages (from anyio<5.0,>=3.0->gradio) (3.10)\n",
            "Requirement already satisfied: sniffio>=1.1 in /usr/local/lib/python3.11/dist-packages (from anyio<5.0,>=3.0->gradio) (1.3.1)\n",
            "Collecting starlette<1.0,>=0.40.0 (from gradio)\n",
            "  Downloading starlette-0.41.3-py3-none-any.whl.metadata (6.0 kB)\n",
            "Requirement already satisfied: certifi in /usr/local/lib/python3.11/dist-packages (from httpx>=0.24.1->gradio) (2024.12.14)\n",
            "Requirement already satisfied: httpcore==1.* in /usr/local/lib/python3.11/dist-packages (from httpx>=0.24.1->gradio) (1.0.7)\n",
            "Requirement already satisfied: h11<0.15,>=0.13 in /usr/local/lib/python3.11/dist-packages (from httpcore==1.*->httpx>=0.24.1->gradio) (0.14.0)\n",
            "Requirement already satisfied: filelock in /usr/local/lib/python3.11/dist-packages (from huggingface-hub>=0.25.1->gradio) (3.16.1)\n",
            "Requirement already satisfied: requests in /usr/local/lib/python3.11/dist-packages (from huggingface-hub>=0.25.1->gradio) (2.32.3)\n",
            "Requirement already satisfied: tqdm>=4.42.1 in /usr/local/lib/python3.11/dist-packages (from huggingface-hub>=0.25.1->gradio) (4.67.1)\n",
            "Requirement already satisfied: python-dateutil>=2.8.2 in /usr/local/lib/python3.11/dist-packages (from pandas<3.0,>=1.0->gradio) (2.8.2)\n",
            "Requirement already satisfied: pytz>=2020.1 in /usr/local/lib/python3.11/dist-packages (from pandas<3.0,>=1.0->gradio) (2024.2)\n",
            "Requirement already satisfied: tzdata>=2022.7 in /usr/local/lib/python3.11/dist-packages (from pandas<3.0,>=1.0->gradio) (2024.2)\n",
            "Requirement already satisfied: annotated-types>=0.6.0 in /usr/local/lib/python3.11/dist-packages (from pydantic>=2.0->gradio) (0.7.0)\n",
            "Requirement already satisfied: pydantic-core==2.27.2 in /usr/local/lib/python3.11/dist-packages (from pydantic>=2.0->gradio) (2.27.2)\n",
            "Requirement already satisfied: click>=8.0.0 in /usr/local/lib/python3.11/dist-packages (from typer<1.0,>=0.12->gradio) (8.1.8)\n",
            "Requirement already satisfied: shellingham>=1.3.0 in /usr/local/lib/python3.11/dist-packages (from typer<1.0,>=0.12->gradio) (1.5.4)\n",
            "Requirement already satisfied: rich>=10.11.0 in /usr/local/lib/python3.11/dist-packages (from typer<1.0,>=0.12->gradio) (13.9.4)\n",
            "Requirement already satisfied: six>=1.5 in /usr/local/lib/python3.11/dist-packages (from python-dateutil>=2.8.2->pandas<3.0,>=1.0->gradio) (1.17.0)\n",
            "Requirement already satisfied: markdown-it-py>=2.2.0 in /usr/local/lib/python3.11/dist-packages (from rich>=10.11.0->typer<1.0,>=0.12->gradio) (3.0.0)\n",
            "Requirement already satisfied: pygments<3.0.0,>=2.13.0 in /usr/local/lib/python3.11/dist-packages (from rich>=10.11.0->typer<1.0,>=0.12->gradio) (2.18.0)\n",
            "Requirement already satisfied: charset-normalizer<4,>=2 in /usr/local/lib/python3.11/dist-packages (from requests->huggingface-hub>=0.25.1->gradio) (3.4.1)\n",
            "Requirement already satisfied: urllib3<3,>=1.21.1 in /usr/local/lib/python3.11/dist-packages (from requests->huggingface-hub>=0.25.1->gradio) (2.3.0)\n",
            "Requirement already satisfied: mdurl~=0.1 in /usr/local/lib/python3.11/dist-packages (from markdown-it-py>=2.2.0->rich>=10.11.0->typer<1.0,>=0.12->gradio) (0.1.2)\n",
            "Downloading gradio-5.12.0-py3-none-any.whl (57.6 MB)\n",
            "\u001b[2K   \u001b[90m━━━━━━━━━━━━━━━━━━━━━━━━━━━━━━━━━━━━━━━━\u001b[0m \u001b[32m57.6/57.6 MB\u001b[0m \u001b[31m5.9 MB/s\u001b[0m eta \u001b[36m0:00:00\u001b[0m\n",
            "\u001b[?25hDownloading gradio_client-1.5.4-py3-none-any.whl (321 kB)\n",
            "\u001b[2K   \u001b[90m━━━━━━━━━━━━━━━━━━━━━━━━━━━━━━━━━━━━━━━━\u001b[0m \u001b[32m321.4/321.4 kB\u001b[0m \u001b[31m15.0 MB/s\u001b[0m eta \u001b[36m0:00:00\u001b[0m\n",
            "\u001b[?25hDownloading aiofiles-23.2.1-py3-none-any.whl (15 kB)\n",
            "Downloading fastapi-0.115.6-py3-none-any.whl (94 kB)\n",
            "\u001b[2K   \u001b[90m━━━━━━━━━━━━━━━━━━━━━━━━━━━━━━━━━━━━━━━━\u001b[0m \u001b[32m94.8/94.8 kB\u001b[0m \u001b[31m6.6 MB/s\u001b[0m eta \u001b[36m0:00:00\u001b[0m\n",
            "\u001b[?25hDownloading MarkupSafe-2.1.5-cp311-cp311-manylinux_2_17_x86_64.manylinux2014_x86_64.whl (28 kB)\n",
            "Downloading python_multipart-0.0.20-py3-none-any.whl (24 kB)\n",
            "Downloading ruff-0.9.2-py3-none-manylinux_2_17_x86_64.manylinux2014_x86_64.whl (12.4 MB)\n",
            "\u001b[2K   \u001b[90m━━━━━━━━━━━━━━━━━━━━━━━━━━━━━━━━━━━━━━━━\u001b[0m \u001b[32m12.4/12.4 MB\u001b[0m \u001b[31m31.1 MB/s\u001b[0m eta \u001b[36m0:00:00\u001b[0m\n",
            "\u001b[?25hDownloading safehttpx-0.1.6-py3-none-any.whl (8.7 kB)\n",
            "Downloading semantic_version-2.10.0-py2.py3-none-any.whl (15 kB)\n",
            "Downloading starlette-0.41.3-py3-none-any.whl (73 kB)\n",
            "\u001b[2K   \u001b[90m━━━━━━━━━━━━━━━━━━━━━━━━━━━━━━━━━━━━━━━━\u001b[0m \u001b[32m73.2/73.2 kB\u001b[0m \u001b[31m2.3 MB/s\u001b[0m eta \u001b[36m0:00:00\u001b[0m\n",
            "\u001b[?25hDownloading tomlkit-0.13.2-py3-none-any.whl (37 kB)\n",
            "Downloading uvicorn-0.34.0-py3-none-any.whl (62 kB)\n",
            "\u001b[2K   \u001b[90m━━━━━━━━━━━━━━━━━━━━━━━━━━━━━━━━━━━━━━━━\u001b[0m \u001b[32m62.3/62.3 kB\u001b[0m \u001b[31m4.4 MB/s\u001b[0m eta \u001b[36m0:00:00\u001b[0m\n",
            "\u001b[?25hDownloading ffmpy-0.5.0-py3-none-any.whl (6.0 kB)\n",
            "Downloading pydub-0.25.1-py2.py3-none-any.whl (32 kB)\n",
            "Installing collected packages: pydub, uvicorn, tomlkit, semantic-version, ruff, python-multipart, markupsafe, ffmpy, aiofiles, starlette, safehttpx, gradio-client, fastapi, gradio\n",
            "  Attempting uninstall: markupsafe\n",
            "    Found existing installation: MarkupSafe 3.0.2\n",
            "    Uninstalling MarkupSafe-3.0.2:\n",
            "      Successfully uninstalled MarkupSafe-3.0.2\n",
            "Successfully installed aiofiles-23.2.1 fastapi-0.115.6 ffmpy-0.5.0 gradio-5.12.0 gradio-client-1.5.4 markupsafe-2.1.5 pydub-0.25.1 python-multipart-0.0.20 ruff-0.9.2 safehttpx-0.1.6 semantic-version-2.10.0 starlette-0.41.3 tomlkit-0.13.2 uvicorn-0.34.0\n"
          ]
        }
      ]
    },
    {
      "cell_type": "code",
      "source": [
        "import pickle\n",
        "\n",
        "# Save recommend function and related data\n",
        "with open('recommend_model.pkl', 'wb') as file:\n",
        "    pickle.dump(recommend, file)\n"
      ],
      "metadata": {
        "id": "bufRAjWZo1Y1"
      },
      "execution_count": null,
      "outputs": []
    },
    {
      "cell_type": "code",
      "source": [
        "import gradio as gr\n",
        "import requests\n",
        "\n",
        "# TMDB API Key - replace with your valid API key\n",
        "API_KEY = \"your_tmdb_api_key_here\"\n",
        "\n",
        "# Function to fetch movie posters from TMDB API\n",
        "def fetch_poster(movie_name):\n",
        "    url = f\"https://api.themoviedb.org/3/search/movie?api_key={API_KEY}&query={movie_name}\"\n",
        "    response = requests.get(url)\n",
        "    if response.status_code == 200:\n",
        "        data = response.json()\n",
        "        if data[\"results\"]:\n",
        "            poster_path = data[\"results\"][0].get(\"poster_path\")\n",
        "            if poster_path:\n",
        "                return f\"https://image.tmdb.org/t/p/w500/{poster_path}\"\n",
        "    return \"https://via.placeholder.com/500x750?text=No+Image+Available\"\n",
        "\n",
        "# Trained recommendation model logic\n",
        "def recommend_function(movie):\n",
        "    # Replace this logic with your actual implementation\n",
        "    movie_index = new_df[new_df['title'] == movie].index[0]\n",
        "    distances = similarity[movie_index]\n",
        "    movies_list = sorted(list(enumerate(distances)), reverse=True, key=lambda x: x[1])[1:6]\n",
        "    recommendations = []\n",
        "    for i in movies_list:\n",
        "        recommendations.append(new_df.iloc[i[0]].title)\n",
        "    return recommendations\n",
        "\n",
        "# Gradio Interface Function\n",
        "def recommend_movies_ui(movie_name):\n",
        "    # Get recommendations from the trained model\n",
        "    recommendations = recommend_function(movie_name)\n",
        "    # Fetch posters for recommended movies\n",
        "    posters = [fetch_poster(movie) for movie in recommendations]\n",
        "    # Combine titles and posters\n",
        "    results = [(poster, movie) for poster, movie in zip(posters, recommendations)]\n",
        "    return results\n",
        "\n",
        "# Define Gradio Interface\n",
        "with gr.Blocks() as movie_recommendation_app:\n",
        "    gr.Markdown(\"<h1 style='text-align: center;'>Movie Recommendation System</h1>\")\n",
        "    with gr.Row():\n",
        "        with gr.Column():\n",
        "            movie_name_input = gr.Textbox(label=\"Enter a Movie Name\", placeholder=\"E.g., The Matrix\")\n",
        "            recommend_button = gr.Button(\"Recommend\")\n",
        "        with gr.Column():\n",
        "            output_gallery = gr.Gallery(label=\"Recommended Movies\")\n",
        "\n",
        "    recommend_button.click(\n",
        "        recommend_movies_ui,\n",
        "        inputs=[movie_name_input],\n",
        "        outputs=[output_gallery]\n",
        "    )\n",
        "\n",
        "# Launch the Gradio app\n",
        "movie_recommendation_app.launch(share=True)\n"
      ],
      "metadata": {
        "colab": {
          "base_uri": "https://localhost:8080/",
          "height": 613
        },
        "id": "0UVmW1i70JOv",
        "outputId": "720564dc-aed2-4f43-978b-1a90b35d784f"
      },
      "execution_count": null,
      "outputs": [
        {
          "output_type": "stream",
          "name": "stdout",
          "text": [
            "Colab notebook detected. To show errors in colab notebook, set debug=True in launch()\n",
            "* Running on public URL: https://b9967d88882cc4ad96.gradio.live\n",
            "\n",
            "This share link expires in 72 hours. For free permanent hosting and GPU upgrades, run `gradio deploy` from the terminal in the working directory to deploy to Hugging Face Spaces (https://huggingface.co/spaces)\n"
          ]
        },
        {
          "output_type": "display_data",
          "data": {
            "text/plain": [
              "<IPython.core.display.HTML object>"
            ],
            "text/html": [
              "<div><iframe src=\"https://b9967d88882cc4ad96.gradio.live\" width=\"100%\" height=\"500\" allow=\"autoplay; camera; microphone; clipboard-read; clipboard-write;\" frameborder=\"0\" allowfullscreen></iframe></div>"
            ]
          },
          "metadata": {}
        },
        {
          "output_type": "execute_result",
          "data": {
            "text/plain": []
          },
          "metadata": {},
          "execution_count": 56
        }
      ]
    }
  ]
}